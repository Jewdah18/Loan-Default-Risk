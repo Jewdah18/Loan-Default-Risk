{
 "cells": [
  {
   "attachments": {},
   "cell_type": "markdown",
   "metadata": {},
   "source": [
    "# **<center>Data Wrangling**\n",
    "\n",
    "#### Import Packages"
   ]
  },
  {
   "cell_type": "code",
   "execution_count": 157,
   "metadata": {},
   "outputs": [],
   "source": [
    "import os\n",
    "from dotenv import load_dotenv\n",
    "\n",
    "import datetime as dt\n",
    "\n",
    "from tqdm import tqdm\n",
    "\n",
    "import math\n",
    "import numpy as np\n",
    "import pandas as pd\n",
    "\n",
    "import matplotlib.pyplot as plt\n",
    "import seaborn as sns\n",
    "\n",
    "from sklearn.preprocessing import StandardScaler\n",
    "from sklearn.linear_model import Lasso\n",
    "from sklearn.model_selection import GridSearchCV\n",
    "\n",
    "from statsmodels.stats.outliers_influence import variance_inflation_factor"
   ]
  },
  {
   "attachments": {},
   "cell_type": "markdown",
   "metadata": {},
   "source": [
    "#### Set Correct Options for the Notebook"
   ]
  },
  {
   "cell_type": "code",
   "execution_count": 158,
   "metadata": {},
   "outputs": [],
   "source": [
    "# Load in the dotenv variables\n",
    "load_dotenv()\n",
    "# Show all the columns in the .head() method\n",
    "pd.set_option('display.max_columns', None)\n",
    "# Turn all plots dark to help my eyes\n",
    "plt.style.use('dark_background')"
   ]
  },
  {
   "attachments": {},
   "cell_type": "markdown",
   "metadata": {},
   "source": [
    "The data was taken from kaggle and contains [Loan Data](https://www.kaggle.com/datasets/ranadeep/credit-risk-dataset?select=loan) information on the borrowers. Below I used Kaggle's API to download the dataset. I had trouble getting it to work inline in the notebook so I used these commands in the terminal."
   ]
  },
  {
   "cell_type": "code",
   "execution_count": 159,
   "metadata": {
    "vscode": {
     "languageId": "powershell"
    }
   },
   "outputs": [
    {
     "data": {
      "text/plain": [
       "'\\n# Download the data from the kaggle api\\nkaggle datasets download -d ranadeep/credit-risk-dataset\\n# unzip the data \\nunzip credit-risk-dataset.zip -d credit-risk-dataset \\n'"
      ]
     },
     "execution_count": 159,
     "metadata": {},
     "output_type": "execute_result"
    }
   ],
   "source": [
    "'''\n",
    "# Download the data from the kaggle api\n",
    "kaggle datasets download -d ranadeep/credit-risk-dataset\n",
    "# unzip the data \n",
    "unzip credit-risk-dataset.zip -d credit-risk-dataset \n",
    "'''"
   ]
  },
  {
   "attachments": {},
   "cell_type": "markdown",
   "metadata": {},
   "source": [
    "#### Set Directory"
   ]
  },
  {
   "cell_type": "code",
   "execution_count": 160,
   "metadata": {},
   "outputs": [],
   "source": [
    "# Get the path from the environment from the dotenv file without extra add-ons\n",
    "project_path = os.getenv('Project_Path')[2:78]\n",
    "\n",
    "# Change notebook directory back one so that it can acess the data\n",
    "os.chdir(project_path)"
   ]
  },
  {
   "attachments": {},
   "cell_type": "markdown",
   "metadata": {},
   "source": [
    "#### Load the Data"
   ]
  },
  {
   "cell_type": "code",
   "execution_count": 161,
   "metadata": {},
   "outputs": [
    {
     "name": "stdout",
     "output_type": "stream",
     "text": [
      "(887379, 74)\n"
     ]
    },
    {
     "data": {
      "text/html": [
       "<div>\n",
       "<style scoped>\n",
       "    .dataframe tbody tr th:only-of-type {\n",
       "        vertical-align: middle;\n",
       "    }\n",
       "\n",
       "    .dataframe tbody tr th {\n",
       "        vertical-align: top;\n",
       "    }\n",
       "\n",
       "    .dataframe thead th {\n",
       "        text-align: right;\n",
       "    }\n",
       "</style>\n",
       "<table border=\"1\" class=\"dataframe\">\n",
       "  <thead>\n",
       "    <tr style=\"text-align: right;\">\n",
       "      <th></th>\n",
       "      <th>id</th>\n",
       "      <th>member_id</th>\n",
       "      <th>loan_amnt</th>\n",
       "      <th>funded_amnt</th>\n",
       "      <th>funded_amnt_inv</th>\n",
       "      <th>term</th>\n",
       "      <th>int_rate</th>\n",
       "      <th>installment</th>\n",
       "      <th>grade</th>\n",
       "      <th>sub_grade</th>\n",
       "      <th>emp_title</th>\n",
       "      <th>emp_length</th>\n",
       "      <th>home_ownership</th>\n",
       "      <th>annual_inc</th>\n",
       "      <th>verification_status</th>\n",
       "      <th>issue_d</th>\n",
       "      <th>loan_status</th>\n",
       "      <th>pymnt_plan</th>\n",
       "      <th>url</th>\n",
       "      <th>desc</th>\n",
       "      <th>purpose</th>\n",
       "      <th>title</th>\n",
       "      <th>zip_code</th>\n",
       "      <th>addr_state</th>\n",
       "      <th>dti</th>\n",
       "      <th>delinq_2yrs</th>\n",
       "      <th>earliest_cr_line</th>\n",
       "      <th>inq_last_6mths</th>\n",
       "      <th>mths_since_last_delinq</th>\n",
       "      <th>mths_since_last_record</th>\n",
       "      <th>open_acc</th>\n",
       "      <th>pub_rec</th>\n",
       "      <th>revol_bal</th>\n",
       "      <th>revol_util</th>\n",
       "      <th>total_acc</th>\n",
       "      <th>initial_list_status</th>\n",
       "      <th>out_prncp</th>\n",
       "      <th>out_prncp_inv</th>\n",
       "      <th>total_pymnt</th>\n",
       "      <th>total_pymnt_inv</th>\n",
       "      <th>total_rec_prncp</th>\n",
       "      <th>total_rec_int</th>\n",
       "      <th>total_rec_late_fee</th>\n",
       "      <th>recoveries</th>\n",
       "      <th>collection_recovery_fee</th>\n",
       "      <th>last_pymnt_d</th>\n",
       "      <th>last_pymnt_amnt</th>\n",
       "      <th>next_pymnt_d</th>\n",
       "      <th>last_credit_pull_d</th>\n",
       "      <th>collections_12_mths_ex_med</th>\n",
       "      <th>mths_since_last_major_derog</th>\n",
       "      <th>policy_code</th>\n",
       "      <th>application_type</th>\n",
       "      <th>annual_inc_joint</th>\n",
       "      <th>dti_joint</th>\n",
       "      <th>verification_status_joint</th>\n",
       "      <th>acc_now_delinq</th>\n",
       "      <th>tot_coll_amt</th>\n",
       "      <th>tot_cur_bal</th>\n",
       "      <th>open_acc_6m</th>\n",
       "      <th>open_il_6m</th>\n",
       "      <th>open_il_12m</th>\n",
       "      <th>open_il_24m</th>\n",
       "      <th>mths_since_rcnt_il</th>\n",
       "      <th>total_bal_il</th>\n",
       "      <th>il_util</th>\n",
       "      <th>open_rv_12m</th>\n",
       "      <th>open_rv_24m</th>\n",
       "      <th>max_bal_bc</th>\n",
       "      <th>all_util</th>\n",
       "      <th>total_rev_hi_lim</th>\n",
       "      <th>inq_fi</th>\n",
       "      <th>total_cu_tl</th>\n",
       "      <th>inq_last_12m</th>\n",
       "    </tr>\n",
       "  </thead>\n",
       "  <tbody>\n",
       "    <tr>\n",
       "      <th>0</th>\n",
       "      <td>1077501</td>\n",
       "      <td>1296599</td>\n",
       "      <td>5000.0</td>\n",
       "      <td>5000.0</td>\n",
       "      <td>4975.0</td>\n",
       "      <td>36 months</td>\n",
       "      <td>10.65</td>\n",
       "      <td>162.87</td>\n",
       "      <td>B</td>\n",
       "      <td>B2</td>\n",
       "      <td>NaN</td>\n",
       "      <td>10+ years</td>\n",
       "      <td>RENT</td>\n",
       "      <td>24000.0</td>\n",
       "      <td>Verified</td>\n",
       "      <td>Dec-2011</td>\n",
       "      <td>Fully Paid</td>\n",
       "      <td>n</td>\n",
       "      <td>https://www.lendingclub.com/browse/loanDetail....</td>\n",
       "      <td>Borrower added on 12/22/11 &gt; I need to upgra...</td>\n",
       "      <td>credit_card</td>\n",
       "      <td>Computer</td>\n",
       "      <td>860xx</td>\n",
       "      <td>AZ</td>\n",
       "      <td>27.65</td>\n",
       "      <td>0.0</td>\n",
       "      <td>Jan-1985</td>\n",
       "      <td>1.0</td>\n",
       "      <td>NaN</td>\n",
       "      <td>NaN</td>\n",
       "      <td>3.0</td>\n",
       "      <td>0.0</td>\n",
       "      <td>13648.0</td>\n",
       "      <td>83.7</td>\n",
       "      <td>9.0</td>\n",
       "      <td>f</td>\n",
       "      <td>0.0</td>\n",
       "      <td>0.0</td>\n",
       "      <td>5861.071414</td>\n",
       "      <td>5831.78</td>\n",
       "      <td>5000.00</td>\n",
       "      <td>861.07</td>\n",
       "      <td>0.00</td>\n",
       "      <td>0.00</td>\n",
       "      <td>0.00</td>\n",
       "      <td>Jan-2015</td>\n",
       "      <td>171.62</td>\n",
       "      <td>NaN</td>\n",
       "      <td>Jan-2016</td>\n",
       "      <td>0.0</td>\n",
       "      <td>NaN</td>\n",
       "      <td>1.0</td>\n",
       "      <td>INDIVIDUAL</td>\n",
       "      <td>NaN</td>\n",
       "      <td>NaN</td>\n",
       "      <td>NaN</td>\n",
       "      <td>0.0</td>\n",
       "      <td>NaN</td>\n",
       "      <td>NaN</td>\n",
       "      <td>NaN</td>\n",
       "      <td>NaN</td>\n",
       "      <td>NaN</td>\n",
       "      <td>NaN</td>\n",
       "      <td>NaN</td>\n",
       "      <td>NaN</td>\n",
       "      <td>NaN</td>\n",
       "      <td>NaN</td>\n",
       "      <td>NaN</td>\n",
       "      <td>NaN</td>\n",
       "      <td>NaN</td>\n",
       "      <td>NaN</td>\n",
       "      <td>NaN</td>\n",
       "      <td>NaN</td>\n",
       "      <td>NaN</td>\n",
       "    </tr>\n",
       "    <tr>\n",
       "      <th>1</th>\n",
       "      <td>1077430</td>\n",
       "      <td>1314167</td>\n",
       "      <td>2500.0</td>\n",
       "      <td>2500.0</td>\n",
       "      <td>2500.0</td>\n",
       "      <td>60 months</td>\n",
       "      <td>15.27</td>\n",
       "      <td>59.83</td>\n",
       "      <td>C</td>\n",
       "      <td>C4</td>\n",
       "      <td>Ryder</td>\n",
       "      <td>&lt; 1 year</td>\n",
       "      <td>RENT</td>\n",
       "      <td>30000.0</td>\n",
       "      <td>Source Verified</td>\n",
       "      <td>Dec-2011</td>\n",
       "      <td>Charged Off</td>\n",
       "      <td>n</td>\n",
       "      <td>https://www.lendingclub.com/browse/loanDetail....</td>\n",
       "      <td>Borrower added on 12/22/11 &gt; I plan to use t...</td>\n",
       "      <td>car</td>\n",
       "      <td>bike</td>\n",
       "      <td>309xx</td>\n",
       "      <td>GA</td>\n",
       "      <td>1.00</td>\n",
       "      <td>0.0</td>\n",
       "      <td>Apr-1999</td>\n",
       "      <td>5.0</td>\n",
       "      <td>NaN</td>\n",
       "      <td>NaN</td>\n",
       "      <td>3.0</td>\n",
       "      <td>0.0</td>\n",
       "      <td>1687.0</td>\n",
       "      <td>9.4</td>\n",
       "      <td>4.0</td>\n",
       "      <td>f</td>\n",
       "      <td>0.0</td>\n",
       "      <td>0.0</td>\n",
       "      <td>1008.710000</td>\n",
       "      <td>1008.71</td>\n",
       "      <td>456.46</td>\n",
       "      <td>435.17</td>\n",
       "      <td>0.00</td>\n",
       "      <td>117.08</td>\n",
       "      <td>1.11</td>\n",
       "      <td>Apr-2013</td>\n",
       "      <td>119.66</td>\n",
       "      <td>NaN</td>\n",
       "      <td>Sep-2013</td>\n",
       "      <td>0.0</td>\n",
       "      <td>NaN</td>\n",
       "      <td>1.0</td>\n",
       "      <td>INDIVIDUAL</td>\n",
       "      <td>NaN</td>\n",
       "      <td>NaN</td>\n",
       "      <td>NaN</td>\n",
       "      <td>0.0</td>\n",
       "      <td>NaN</td>\n",
       "      <td>NaN</td>\n",
       "      <td>NaN</td>\n",
       "      <td>NaN</td>\n",
       "      <td>NaN</td>\n",
       "      <td>NaN</td>\n",
       "      <td>NaN</td>\n",
       "      <td>NaN</td>\n",
       "      <td>NaN</td>\n",
       "      <td>NaN</td>\n",
       "      <td>NaN</td>\n",
       "      <td>NaN</td>\n",
       "      <td>NaN</td>\n",
       "      <td>NaN</td>\n",
       "      <td>NaN</td>\n",
       "      <td>NaN</td>\n",
       "      <td>NaN</td>\n",
       "    </tr>\n",
       "    <tr>\n",
       "      <th>2</th>\n",
       "      <td>1077175</td>\n",
       "      <td>1313524</td>\n",
       "      <td>2400.0</td>\n",
       "      <td>2400.0</td>\n",
       "      <td>2400.0</td>\n",
       "      <td>36 months</td>\n",
       "      <td>15.96</td>\n",
       "      <td>84.33</td>\n",
       "      <td>C</td>\n",
       "      <td>C5</td>\n",
       "      <td>NaN</td>\n",
       "      <td>10+ years</td>\n",
       "      <td>RENT</td>\n",
       "      <td>12252.0</td>\n",
       "      <td>Not Verified</td>\n",
       "      <td>Dec-2011</td>\n",
       "      <td>Fully Paid</td>\n",
       "      <td>n</td>\n",
       "      <td>https://www.lendingclub.com/browse/loanDetail....</td>\n",
       "      <td>NaN</td>\n",
       "      <td>small_business</td>\n",
       "      <td>real estate business</td>\n",
       "      <td>606xx</td>\n",
       "      <td>IL</td>\n",
       "      <td>8.72</td>\n",
       "      <td>0.0</td>\n",
       "      <td>Nov-2001</td>\n",
       "      <td>2.0</td>\n",
       "      <td>NaN</td>\n",
       "      <td>NaN</td>\n",
       "      <td>2.0</td>\n",
       "      <td>0.0</td>\n",
       "      <td>2956.0</td>\n",
       "      <td>98.5</td>\n",
       "      <td>10.0</td>\n",
       "      <td>f</td>\n",
       "      <td>0.0</td>\n",
       "      <td>0.0</td>\n",
       "      <td>3003.653644</td>\n",
       "      <td>3003.65</td>\n",
       "      <td>2400.00</td>\n",
       "      <td>603.65</td>\n",
       "      <td>0.00</td>\n",
       "      <td>0.00</td>\n",
       "      <td>0.00</td>\n",
       "      <td>Jun-2014</td>\n",
       "      <td>649.91</td>\n",
       "      <td>NaN</td>\n",
       "      <td>Jan-2016</td>\n",
       "      <td>0.0</td>\n",
       "      <td>NaN</td>\n",
       "      <td>1.0</td>\n",
       "      <td>INDIVIDUAL</td>\n",
       "      <td>NaN</td>\n",
       "      <td>NaN</td>\n",
       "      <td>NaN</td>\n",
       "      <td>0.0</td>\n",
       "      <td>NaN</td>\n",
       "      <td>NaN</td>\n",
       "      <td>NaN</td>\n",
       "      <td>NaN</td>\n",
       "      <td>NaN</td>\n",
       "      <td>NaN</td>\n",
       "      <td>NaN</td>\n",
       "      <td>NaN</td>\n",
       "      <td>NaN</td>\n",
       "      <td>NaN</td>\n",
       "      <td>NaN</td>\n",
       "      <td>NaN</td>\n",
       "      <td>NaN</td>\n",
       "      <td>NaN</td>\n",
       "      <td>NaN</td>\n",
       "      <td>NaN</td>\n",
       "      <td>NaN</td>\n",
       "    </tr>\n",
       "    <tr>\n",
       "      <th>3</th>\n",
       "      <td>1076863</td>\n",
       "      <td>1277178</td>\n",
       "      <td>10000.0</td>\n",
       "      <td>10000.0</td>\n",
       "      <td>10000.0</td>\n",
       "      <td>36 months</td>\n",
       "      <td>13.49</td>\n",
       "      <td>339.31</td>\n",
       "      <td>C</td>\n",
       "      <td>C1</td>\n",
       "      <td>AIR RESOURCES BOARD</td>\n",
       "      <td>10+ years</td>\n",
       "      <td>RENT</td>\n",
       "      <td>49200.0</td>\n",
       "      <td>Source Verified</td>\n",
       "      <td>Dec-2011</td>\n",
       "      <td>Fully Paid</td>\n",
       "      <td>n</td>\n",
       "      <td>https://www.lendingclub.com/browse/loanDetail....</td>\n",
       "      <td>Borrower added on 12/21/11 &gt; to pay for prop...</td>\n",
       "      <td>other</td>\n",
       "      <td>personel</td>\n",
       "      <td>917xx</td>\n",
       "      <td>CA</td>\n",
       "      <td>20.00</td>\n",
       "      <td>0.0</td>\n",
       "      <td>Feb-1996</td>\n",
       "      <td>1.0</td>\n",
       "      <td>35.0</td>\n",
       "      <td>NaN</td>\n",
       "      <td>10.0</td>\n",
       "      <td>0.0</td>\n",
       "      <td>5598.0</td>\n",
       "      <td>21.0</td>\n",
       "      <td>37.0</td>\n",
       "      <td>f</td>\n",
       "      <td>0.0</td>\n",
       "      <td>0.0</td>\n",
       "      <td>12226.302212</td>\n",
       "      <td>12226.30</td>\n",
       "      <td>10000.00</td>\n",
       "      <td>2209.33</td>\n",
       "      <td>16.97</td>\n",
       "      <td>0.00</td>\n",
       "      <td>0.00</td>\n",
       "      <td>Jan-2015</td>\n",
       "      <td>357.48</td>\n",
       "      <td>NaN</td>\n",
       "      <td>Jan-2015</td>\n",
       "      <td>0.0</td>\n",
       "      <td>NaN</td>\n",
       "      <td>1.0</td>\n",
       "      <td>INDIVIDUAL</td>\n",
       "      <td>NaN</td>\n",
       "      <td>NaN</td>\n",
       "      <td>NaN</td>\n",
       "      <td>0.0</td>\n",
       "      <td>NaN</td>\n",
       "      <td>NaN</td>\n",
       "      <td>NaN</td>\n",
       "      <td>NaN</td>\n",
       "      <td>NaN</td>\n",
       "      <td>NaN</td>\n",
       "      <td>NaN</td>\n",
       "      <td>NaN</td>\n",
       "      <td>NaN</td>\n",
       "      <td>NaN</td>\n",
       "      <td>NaN</td>\n",
       "      <td>NaN</td>\n",
       "      <td>NaN</td>\n",
       "      <td>NaN</td>\n",
       "      <td>NaN</td>\n",
       "      <td>NaN</td>\n",
       "      <td>NaN</td>\n",
       "    </tr>\n",
       "    <tr>\n",
       "      <th>4</th>\n",
       "      <td>1075358</td>\n",
       "      <td>1311748</td>\n",
       "      <td>3000.0</td>\n",
       "      <td>3000.0</td>\n",
       "      <td>3000.0</td>\n",
       "      <td>60 months</td>\n",
       "      <td>12.69</td>\n",
       "      <td>67.79</td>\n",
       "      <td>B</td>\n",
       "      <td>B5</td>\n",
       "      <td>University Medical Group</td>\n",
       "      <td>1 year</td>\n",
       "      <td>RENT</td>\n",
       "      <td>80000.0</td>\n",
       "      <td>Source Verified</td>\n",
       "      <td>Dec-2011</td>\n",
       "      <td>Current</td>\n",
       "      <td>n</td>\n",
       "      <td>https://www.lendingclub.com/browse/loanDetail....</td>\n",
       "      <td>Borrower added on 12/21/11 &gt; I plan on combi...</td>\n",
       "      <td>other</td>\n",
       "      <td>Personal</td>\n",
       "      <td>972xx</td>\n",
       "      <td>OR</td>\n",
       "      <td>17.94</td>\n",
       "      <td>0.0</td>\n",
       "      <td>Jan-1996</td>\n",
       "      <td>0.0</td>\n",
       "      <td>38.0</td>\n",
       "      <td>NaN</td>\n",
       "      <td>15.0</td>\n",
       "      <td>0.0</td>\n",
       "      <td>27783.0</td>\n",
       "      <td>53.9</td>\n",
       "      <td>38.0</td>\n",
       "      <td>f</td>\n",
       "      <td>766.9</td>\n",
       "      <td>766.9</td>\n",
       "      <td>3242.170000</td>\n",
       "      <td>3242.17</td>\n",
       "      <td>2233.10</td>\n",
       "      <td>1009.07</td>\n",
       "      <td>0.00</td>\n",
       "      <td>0.00</td>\n",
       "      <td>0.00</td>\n",
       "      <td>Jan-2016</td>\n",
       "      <td>67.79</td>\n",
       "      <td>Feb-2016</td>\n",
       "      <td>Jan-2016</td>\n",
       "      <td>0.0</td>\n",
       "      <td>NaN</td>\n",
       "      <td>1.0</td>\n",
       "      <td>INDIVIDUAL</td>\n",
       "      <td>NaN</td>\n",
       "      <td>NaN</td>\n",
       "      <td>NaN</td>\n",
       "      <td>0.0</td>\n",
       "      <td>NaN</td>\n",
       "      <td>NaN</td>\n",
       "      <td>NaN</td>\n",
       "      <td>NaN</td>\n",
       "      <td>NaN</td>\n",
       "      <td>NaN</td>\n",
       "      <td>NaN</td>\n",
       "      <td>NaN</td>\n",
       "      <td>NaN</td>\n",
       "      <td>NaN</td>\n",
       "      <td>NaN</td>\n",
       "      <td>NaN</td>\n",
       "      <td>NaN</td>\n",
       "      <td>NaN</td>\n",
       "      <td>NaN</td>\n",
       "      <td>NaN</td>\n",
       "      <td>NaN</td>\n",
       "    </tr>\n",
       "  </tbody>\n",
       "</table>\n",
       "</div>"
      ],
      "text/plain": [
       "        id  member_id  loan_amnt  funded_amnt  funded_amnt_inv        term  \\\n",
       "0  1077501    1296599     5000.0       5000.0           4975.0   36 months   \n",
       "1  1077430    1314167     2500.0       2500.0           2500.0   60 months   \n",
       "2  1077175    1313524     2400.0       2400.0           2400.0   36 months   \n",
       "3  1076863    1277178    10000.0      10000.0          10000.0   36 months   \n",
       "4  1075358    1311748     3000.0       3000.0           3000.0   60 months   \n",
       "\n",
       "   int_rate  installment grade sub_grade                 emp_title emp_length  \\\n",
       "0     10.65       162.87     B        B2                       NaN  10+ years   \n",
       "1     15.27        59.83     C        C4                     Ryder   < 1 year   \n",
       "2     15.96        84.33     C        C5                       NaN  10+ years   \n",
       "3     13.49       339.31     C        C1       AIR RESOURCES BOARD  10+ years   \n",
       "4     12.69        67.79     B        B5  University Medical Group     1 year   \n",
       "\n",
       "  home_ownership  annual_inc verification_status   issue_d  loan_status  \\\n",
       "0           RENT     24000.0            Verified  Dec-2011   Fully Paid   \n",
       "1           RENT     30000.0     Source Verified  Dec-2011  Charged Off   \n",
       "2           RENT     12252.0        Not Verified  Dec-2011   Fully Paid   \n",
       "3           RENT     49200.0     Source Verified  Dec-2011   Fully Paid   \n",
       "4           RENT     80000.0     Source Verified  Dec-2011      Current   \n",
       "\n",
       "  pymnt_plan                                                url  \\\n",
       "0          n  https://www.lendingclub.com/browse/loanDetail....   \n",
       "1          n  https://www.lendingclub.com/browse/loanDetail....   \n",
       "2          n  https://www.lendingclub.com/browse/loanDetail....   \n",
       "3          n  https://www.lendingclub.com/browse/loanDetail....   \n",
       "4          n  https://www.lendingclub.com/browse/loanDetail....   \n",
       "\n",
       "                                                desc         purpose  \\\n",
       "0    Borrower added on 12/22/11 > I need to upgra...     credit_card   \n",
       "1    Borrower added on 12/22/11 > I plan to use t...             car   \n",
       "2                                                NaN  small_business   \n",
       "3    Borrower added on 12/21/11 > to pay for prop...           other   \n",
       "4    Borrower added on 12/21/11 > I plan on combi...           other   \n",
       "\n",
       "                  title zip_code addr_state    dti  delinq_2yrs  \\\n",
       "0              Computer    860xx         AZ  27.65          0.0   \n",
       "1                  bike    309xx         GA   1.00          0.0   \n",
       "2  real estate business    606xx         IL   8.72          0.0   \n",
       "3              personel    917xx         CA  20.00          0.0   \n",
       "4              Personal    972xx         OR  17.94          0.0   \n",
       "\n",
       "  earliest_cr_line  inq_last_6mths  mths_since_last_delinq  \\\n",
       "0         Jan-1985             1.0                     NaN   \n",
       "1         Apr-1999             5.0                     NaN   \n",
       "2         Nov-2001             2.0                     NaN   \n",
       "3         Feb-1996             1.0                    35.0   \n",
       "4         Jan-1996             0.0                    38.0   \n",
       "\n",
       "   mths_since_last_record  open_acc  pub_rec  revol_bal  revol_util  \\\n",
       "0                     NaN       3.0      0.0    13648.0        83.7   \n",
       "1                     NaN       3.0      0.0     1687.0         9.4   \n",
       "2                     NaN       2.0      0.0     2956.0        98.5   \n",
       "3                     NaN      10.0      0.0     5598.0        21.0   \n",
       "4                     NaN      15.0      0.0    27783.0        53.9   \n",
       "\n",
       "   total_acc initial_list_status  out_prncp  out_prncp_inv   total_pymnt  \\\n",
       "0        9.0                   f        0.0            0.0   5861.071414   \n",
       "1        4.0                   f        0.0            0.0   1008.710000   \n",
       "2       10.0                   f        0.0            0.0   3003.653644   \n",
       "3       37.0                   f        0.0            0.0  12226.302212   \n",
       "4       38.0                   f      766.9          766.9   3242.170000   \n",
       "\n",
       "   total_pymnt_inv  total_rec_prncp  total_rec_int  total_rec_late_fee  \\\n",
       "0          5831.78          5000.00         861.07                0.00   \n",
       "1          1008.71           456.46         435.17                0.00   \n",
       "2          3003.65          2400.00         603.65                0.00   \n",
       "3         12226.30         10000.00        2209.33               16.97   \n",
       "4          3242.17          2233.10        1009.07                0.00   \n",
       "\n",
       "   recoveries  collection_recovery_fee last_pymnt_d  last_pymnt_amnt  \\\n",
       "0        0.00                     0.00     Jan-2015           171.62   \n",
       "1      117.08                     1.11     Apr-2013           119.66   \n",
       "2        0.00                     0.00     Jun-2014           649.91   \n",
       "3        0.00                     0.00     Jan-2015           357.48   \n",
       "4        0.00                     0.00     Jan-2016            67.79   \n",
       "\n",
       "  next_pymnt_d last_credit_pull_d  collections_12_mths_ex_med  \\\n",
       "0          NaN           Jan-2016                         0.0   \n",
       "1          NaN           Sep-2013                         0.0   \n",
       "2          NaN           Jan-2016                         0.0   \n",
       "3          NaN           Jan-2015                         0.0   \n",
       "4     Feb-2016           Jan-2016                         0.0   \n",
       "\n",
       "   mths_since_last_major_derog  policy_code application_type  \\\n",
       "0                          NaN          1.0       INDIVIDUAL   \n",
       "1                          NaN          1.0       INDIVIDUAL   \n",
       "2                          NaN          1.0       INDIVIDUAL   \n",
       "3                          NaN          1.0       INDIVIDUAL   \n",
       "4                          NaN          1.0       INDIVIDUAL   \n",
       "\n",
       "   annual_inc_joint  dti_joint verification_status_joint  acc_now_delinq  \\\n",
       "0               NaN        NaN                       NaN             0.0   \n",
       "1               NaN        NaN                       NaN             0.0   \n",
       "2               NaN        NaN                       NaN             0.0   \n",
       "3               NaN        NaN                       NaN             0.0   \n",
       "4               NaN        NaN                       NaN             0.0   \n",
       "\n",
       "   tot_coll_amt  tot_cur_bal  open_acc_6m  open_il_6m  open_il_12m  \\\n",
       "0           NaN          NaN          NaN         NaN          NaN   \n",
       "1           NaN          NaN          NaN         NaN          NaN   \n",
       "2           NaN          NaN          NaN         NaN          NaN   \n",
       "3           NaN          NaN          NaN         NaN          NaN   \n",
       "4           NaN          NaN          NaN         NaN          NaN   \n",
       "\n",
       "   open_il_24m  mths_since_rcnt_il  total_bal_il  il_util  open_rv_12m  \\\n",
       "0          NaN                 NaN           NaN      NaN          NaN   \n",
       "1          NaN                 NaN           NaN      NaN          NaN   \n",
       "2          NaN                 NaN           NaN      NaN          NaN   \n",
       "3          NaN                 NaN           NaN      NaN          NaN   \n",
       "4          NaN                 NaN           NaN      NaN          NaN   \n",
       "\n",
       "   open_rv_24m  max_bal_bc  all_util  total_rev_hi_lim  inq_fi  total_cu_tl  \\\n",
       "0          NaN         NaN       NaN               NaN     NaN          NaN   \n",
       "1          NaN         NaN       NaN               NaN     NaN          NaN   \n",
       "2          NaN         NaN       NaN               NaN     NaN          NaN   \n",
       "3          NaN         NaN       NaN               NaN     NaN          NaN   \n",
       "4          NaN         NaN       NaN               NaN     NaN          NaN   \n",
       "\n",
       "   inq_last_12m  \n",
       "0           NaN  \n",
       "1           NaN  \n",
       "2           NaN  \n",
       "3           NaN  \n",
       "4           NaN  "
      ]
     },
     "execution_count": 161,
     "metadata": {},
     "output_type": "execute_result"
    }
   ],
   "source": [
    "# Load in the data with low_memory as False so that it can understand dtype\n",
    "loan = pd.read_csv('./data/raw/loan.csv', low_memory = False)\n",
    "# Print out the shape of the dataset\n",
    "print(loan.shape)\n",
    "# Print out a sample of the dataset\n",
    "loan.head()"
   ]
  },
  {
   "attachments": {},
   "cell_type": "markdown",
   "metadata": {},
   "source": [
    "The data is large and complex. In the `read_csv()` function I had to specify `low_memory = False` because some columns had too many different data types for the `read_csv()` function to be able to quickly determine the data type of each column. \n",
    "\n",
    "The first step in data wrangling is to separate out the features (X) from the target variable (y). When I initially started this project I had believed that y was `loan_status` because it was listed on the kaggle website, and was a clear representation of how the loan had fared. After much data wrangling and looking closely at the dataset I realized that it was hard to use many of the features while having `loan_status` be the target variable. Too many of the features have information on the loan after origination. If the purpose of the project was to try to find the best loans to invest in, then I cannot use features that are collected during the term of the loan. \n",
    "\n",
    "In order to use many of the features of the dataset, I need a question that has a later time frame. If I try to find how much each borrower will still pay back on their loans, I can use the features that are during the term of the loan. This can create a market or evaluation for the value of the existing loans that would be valuable for loan investors or institutions who are thinking of selling off their loans for immediate liquidity.\n",
    "\n",
    "Below I separated out every column of the dataset that had information on the amount that the borrower has already paid and the amount that they owe. With the remaining columns I'll be able to create a multiplier that will provide an estimate on how much the borrower will pay."
   ]
  },
  {
   "cell_type": "code",
   "execution_count": 162,
   "metadata": {},
   "outputs": [],
   "source": [
    "# Create the features dataframe\n",
    "X = loan.drop(['out_prncp', 'out_prncp_inv', 'total_pymnt', 'total_pymnt_inv',\n",
    "               'total_rec_prncp', 'total_rec_int', 'total_rec_late_fee','recoveries',\n",
    "               'collection_recovery_fee', 'loan_status'], axis = 1)\n",
    "# Separate out the target variable\n",
    "y = loan[['out_prncp', 'out_prncp_inv', 'total_pymnt', 'total_pymnt_inv', 'total_rec_prncp',\n",
    "          'total_rec_int', 'total_rec_late_fee','recoveries', 'collection_recovery_fee']]"
   ]
  },
  {
   "attachments": {},
   "cell_type": "markdown",
   "metadata": {},
   "source": [
    "## Cleaning up the Dataset\n",
    "\n",
    "#### Unique Values\n",
    "The easiest features to clean are ones that have constant values since they provide no information. Below I looked at how many unique values each feature has. I will drop every feature that has only 1 unique value."
   ]
  },
  {
   "cell_type": "code",
   "execution_count": 163,
   "metadata": {},
   "outputs": [
    {
     "data": {
      "text/plain": [
       "policy_code                 1\n",
       "pymnt_plan                  2\n",
       "application_type            2\n",
       "initial_list_status         2\n",
       "term                        2\n",
       "                        ...  \n",
       "emp_title              299271\n",
       "tot_cur_bal            327342\n",
       "url                    887379\n",
       "member_id              887379\n",
       "id                     887379\n",
       "Length: 64, dtype: int64"
      ]
     },
     "execution_count": 163,
     "metadata": {},
     "output_type": "execute_result"
    }
   ],
   "source": [
    "X.nunique().sort_values(ascending = True)"
   ]
  },
  {
   "cell_type": "code",
   "execution_count": 164,
   "metadata": {},
   "outputs": [],
   "source": [
    "# Drop the 'policy_code' feature since there is only one policy code\n",
    "X.drop('policy_code', axis = 1, inplace = True)"
   ]
  },
  {
   "attachments": {},
   "cell_type": "markdown",
   "metadata": {},
   "source": [
    "### Categorical Columns\n",
    "\n",
    "In order to analyze the data, all of the features have to have only numerical values. Some columns contain numbers but need to be cleaned in order to be fully numeric where as others are purely categorical and either need to be one-hot encoded or dropped if they have too many unique values.\n",
    "\n",
    "Below I printed out a list of all of the categorical columns."
   ]
  },
  {
   "cell_type": "code",
   "execution_count": 165,
   "metadata": {},
   "outputs": [
    {
     "data": {
      "text/plain": [
       "['term',\n",
       " 'grade',\n",
       " 'sub_grade',\n",
       " 'emp_title',\n",
       " 'emp_length',\n",
       " 'home_ownership',\n",
       " 'verification_status',\n",
       " 'issue_d',\n",
       " 'pymnt_plan',\n",
       " 'url',\n",
       " 'desc',\n",
       " 'purpose',\n",
       " 'title',\n",
       " 'zip_code',\n",
       " 'addr_state',\n",
       " 'earliest_cr_line',\n",
       " 'initial_list_status',\n",
       " 'last_pymnt_d',\n",
       " 'next_pymnt_d',\n",
       " 'last_credit_pull_d',\n",
       " 'application_type',\n",
       " 'verification_status_joint']"
      ]
     },
     "execution_count": 165,
     "metadata": {},
     "output_type": "execute_result"
    }
   ],
   "source": [
    "# Use dtypes to find all of the columns that are not int or float in X\n",
    "[X.dtypes.index[i] for i,type in enumerate(X.dtypes) if type not in ('int64','float64', 'uint8')]"
   ]
  },
  {
   "attachments": {},
   "cell_type": "markdown",
   "metadata": {},
   "source": [
    "##### `term` of the loan"
   ]
  },
  {
   "cell_type": "code",
   "execution_count": 166,
   "metadata": {},
   "outputs": [
    {
     "data": {
      "text/plain": [
       "array([' 36 months', ' 60 months'], dtype=object)"
      ]
     },
     "execution_count": 166,
     "metadata": {},
     "output_type": "execute_result"
    }
   ],
   "source": [
    "X['term'].unique()"
   ]
  },
  {
   "cell_type": "markdown",
   "metadata": {},
   "source": [
    "The `term` variable represents how long loan is for and has two values: ` 36 months` and ` 60 months`. I can convert those strings to 3, and 5 respectively to represent the years."
   ]
  },
  {
   "cell_type": "code",
   "execution_count": 167,
   "metadata": {},
   "outputs": [
    {
     "data": {
      "text/plain": [
       "0         3\n",
       "1         5\n",
       "2         3\n",
       "3         3\n",
       "4         5\n",
       "         ..\n",
       "887374    3\n",
       "887375    3\n",
       "887376    5\n",
       "887377    5\n",
       "887378    3\n",
       "Name: term, Length: 887379, dtype: int64"
      ]
     },
     "execution_count": 167,
     "metadata": {},
     "output_type": "execute_result"
    }
   ],
   "source": [
    "# replace the string values with numerical values, use a dictionary to be concise\n",
    "X['term'].replace({' 36 months':3, ' 60 months':5}, inplace = True)\n",
    "# Show the column\n",
    "X['term']"
   ]
  },
  {
   "attachments": {},
   "cell_type": "markdown",
   "metadata": {},
   "source": [
    "##### `grade` and `sub_grade` for the loans"
   ]
  },
  {
   "cell_type": "code",
   "execution_count": 168,
   "metadata": {},
   "outputs": [
    {
     "name": "stdout",
     "output_type": "stream",
     "text": [
      "Grade: ['B' 'C' 'A' 'E' 'F' 'D' 'G']\n",
      "Grade: ['B2' 'C4' 'C5' 'C1' 'B5' 'A4' 'E1' 'F2' 'C3' 'B1' 'D1' 'A1' 'B3' 'B4'\n",
      " 'C2' 'D2' 'A3' 'A5' 'D5' 'A2' 'E4' 'D3' 'D4' 'F3' 'E3' 'F4' 'F1' 'E5'\n",
      " 'G4' 'E2' 'G3' 'G2' 'G1' 'F5' 'G5']\n"
     ]
    }
   ],
   "source": [
    "# Show all the different possible grades\n",
    "print('Grade:', X['grade'].unique())\n",
    "\n",
    "# Show all the different possible sub grades\n",
    "print('Grade:', X['sub_grade'].unique())"
   ]
  },
  {
   "attachments": {},
   "cell_type": "markdown",
   "metadata": {},
   "source": [
    "There is also the subgrade column which differentiates the quality of loans within the different grades. Since there are 5 subgrades for each grade, I can convert the subgrade to .2 downgrade of the grade"
   ]
  },
  {
   "cell_type": "code",
   "execution_count": 169,
   "metadata": {},
   "outputs": [
    {
     "data": {
      "text/plain": [
       "0         5.8\n",
       "1         4.4\n",
       "2         4.2\n",
       "3         5.0\n",
       "4         5.2\n",
       "         ... \n",
       "887374    5.2\n",
       "887375    5.2\n",
       "887376    3.8\n",
       "887377    2.6\n",
       "887378    5.2\n",
       "Name: grade, Length: 887379, dtype: float64"
      ]
     },
     "execution_count": 169,
     "metadata": {},
     "output_type": "execute_result"
    }
   ],
   "source": [
    "# Convert the grades into numbers that can be analyzed\n",
    "X['grade'] = X['grade'].replace({'A':7, 'B':6, 'C':5, 'D':4, 'E':3, 'F':2, 'G':1})\n",
    "# Add in the subgrade as a .2 change in the grade\n",
    "X['grade'] = [X['grade'][i] - ((int(sub[-1]) - 1)/5) for i, sub in enumerate(X['sub_grade'])]\n",
    "# Show the grade\n",
    "X['grade']"
   ]
  },
  {
   "cell_type": "markdown",
   "metadata": {},
   "source": [
    "With grade incorporating both `grade` and `sub_grade`, I can drop `sub_grade`."
   ]
  },
  {
   "cell_type": "code",
   "execution_count": 170,
   "metadata": {},
   "outputs": [],
   "source": [
    "# Drop sub_grade from X\n",
    "X.drop('sub_grade', axis = 1, inplace = True)"
   ]
  },
  {
   "cell_type": "markdown",
   "metadata": {},
   "source": [
    "\n",
    "##### `emp_title`: The type of employment for the borrower."
   ]
  },
  {
   "cell_type": "code",
   "execution_count": 171,
   "metadata": {},
   "outputs": [
    {
     "data": {
      "text/plain": [
       "array([nan, 'Ryder', 'AIR RESOURCES BOARD', ..., 'machining Cell Lead',\n",
       "       'KYC Business Analyst', 'Manager Hotel Operations Oasis '],\n",
       "      dtype=object)"
      ]
     },
     "execution_count": 171,
     "metadata": {},
     "output_type": "execute_result"
    }
   ],
   "source": [
    "X['emp_title'].unique()"
   ]
  },
  {
   "cell_type": "markdown",
   "metadata": {},
   "source": [
    "Unfortunately it appears that many of the borrowers put the name of their employer instead of their profession. I can confirm this better by using the `value_counts()` method from pandas."
   ]
  },
  {
   "cell_type": "code",
   "execution_count": 172,
   "metadata": {},
   "outputs": [
    {
     "data": {
      "text/plain": [
       "Teacher                                     13469\n",
       "Manager                                     11240\n",
       "Registered Nurse                             5525\n",
       "Owner                                        5376\n",
       "RN                                           5355\n",
       "                                            ...  \n",
       "Thomas J. Paul, Inc.                            1\n",
       "Piggie Toes Preschool                           1\n",
       "greystone park psychiatric hospital             1\n",
       "Las Vegas Motropolitan Police Department        1\n",
       "Manager Hotel Operations Oasis                  1\n",
       "Name: emp_title, Length: 299271, dtype: int64"
      ]
     },
     "execution_count": 172,
     "metadata": {},
     "output_type": "execute_result"
    }
   ],
   "source": [
    "X['emp_title'].value_counts()"
   ]
  },
  {
   "cell_type": "markdown",
   "metadata": {},
   "source": [
    "While the most common values are types of professions, it appears that there are many values that have just the name of the employers. If I take a look at all of the values in `emp_title` that appear over 1000 times I'll get a better sense of the common professions I should try to simplify the column into."
   ]
  },
  {
   "cell_type": "code",
   "execution_count": 173,
   "metadata": {},
   "outputs": [
    {
     "name": "stdout",
     "output_type": "stream",
     "text": [
      "48\n"
     ]
    },
    {
     "data": {
      "text/plain": [
       "Teacher                     13469\n",
       "Manager                     11240\n",
       "Registered Nurse             5525\n",
       "Owner                        5376\n",
       "RN                           5355\n",
       "Supervisor                   4983\n",
       "Sales                        4212\n",
       "Project Manager              3988\n",
       "Driver                       3569\n",
       "Office Manager               3510\n",
       "General Manager              3178\n",
       "Director                     3156\n",
       "manager                      3138\n",
       "teacher                      2925\n",
       "owner                        2849\n",
       "Engineer                     2671\n",
       "President                    2598\n",
       "driver                       2429\n",
       "Vice President               2351\n",
       "Attorney                     2136\n",
       "Operations Manager           2071\n",
       "Accountant                   2035\n",
       "Administrative Assistant     2019\n",
       "Sales Manager                1846\n",
       "Account Manager              1725\n",
       "sales                        1724\n",
       "Police Officer               1720\n",
       "supervisor                   1675\n",
       "Executive Assistant          1603\n",
       "Analyst                      1538\n",
       "Store Manager                1515\n",
       "Technician                   1462\n",
       "Nurse                        1426\n",
       "truck driver                 1387\n",
       "Truck Driver                 1387\n",
       "Software Engineer            1344\n",
       "Paralegal                    1299\n",
       "Controller                   1246\n",
       "Consultant                   1242\n",
       "Assistant Manager            1199\n",
       "Program Manager              1188\n",
       "Branch Manager               1177\n",
       "Server                       1120\n",
       "Administrator                1103\n",
       "Principal                    1073\n",
       "Account Executive            1072\n",
       "Mechanic                     1044\n",
       "Business Analyst             1013\n",
       "Name: emp_title, dtype: int64"
      ]
     },
     "execution_count": 173,
     "metadata": {},
     "output_type": "execute_result"
    }
   ],
   "source": [
    "# find all the different types of jobs that the borrower could have\n",
    "print(len(X['emp_title'].value_counts()[X['emp_title'].value_counts() > 1000]))\n",
    "# See how common each of the different employment types\n",
    "X['emp_title'].value_counts()[X['emp_title'].value_counts() > 1000]"
   ]
  },
  {
   "attachments": {},
   "cell_type": "markdown",
   "metadata": {},
   "source": [
    "What stands out in this column is that many of the employment types seem to be variations on the same profession. For instance there are a lot of different kinds of managers even though they are all in the managerial profession. I can combine all of these to create a much more consolidated column.\n",
    "\n",
    "Below I created a dictionary where the keys are the profession and the values are lists of all phrases that would be associated with that profession."
   ]
  },
  {
   "cell_type": "code",
   "execution_count": 174,
   "metadata": {},
   "outputs": [],
   "source": [
    "Professions = {'Manager':['manag','supervisor','superintendent', ' lead ', 'foreman'], \n",
    "               'Healer':['nurse', 'nursing', 'cna', 'lpn', 'physician', 'doctor', 'pharmacist', 'counselor', 'therapist', 'rn', 'paramedic'],\n",
    "               'Technical': ['engineer','mechanic', 'electrician', 'machinist', 'machining', 'technician', 'it', 'software', 'tech','welder'], \n",
    "               'Executive':['president', 'owner', 'ceo', 'partner', 'vp'], 'Designer': ['designer'],\n",
    "               'Vol': ['firefighter', 'social worker', 'army', 'officer', 'sheriff', 'deputy', 'sergeant', 'agent', 'colonel','USAF'],\n",
    "               'Director':['director', 'coordinator'], 'Accountant':['accountant', 'bookkeeper', 'controller','accounting'], 'Sales':['sales', 'realt'], \n",
    "               'Finance':['financial','underwriter', 'broker', 'cfo','bank'], 'Analyst':['analyst','consult', 'analysis','estimator'], \n",
    "               'Clergy':['pastor','rabbi','priest', 'imam', 'minister'], 'Clerk':['clerk'],\n",
    "               'Service':['bartender', 'server', 'service', 'diner', 'grill', 'attendant', 'cashier','aesthetician', 'dealer', 'cook','chef'], \n",
    "               'Manlab':['maintenance','maintenence','laborer','lumber', 'custodian','carpenter'],\n",
    "               'Operator':['operator','pilot', 'driver'], 'Assistant':['assistant', 'secretary','receptionist'], 'Law':['attorney','esq','paralegal'],\n",
    "               'Education':['teacher','principal','professor','school','educator'], 'Admin':['admin']}"
   ]
  },
  {
   "cell_type": "markdown",
   "metadata": {},
   "source": [
    "Below I created a new column that assumed that all missing values were unemployed. Then I iterated through the `Professions` dictionary and for each value I searched through the entire column to see if any cells contained that value. If they did, then I changed the entire cell to be the corresponding key from the dictionary."
   ]
  },
  {
   "cell_type": "code",
   "execution_count": 175,
   "metadata": {},
   "outputs": [
    {
     "name": "stderr",
     "output_type": "stream",
     "text": [
      "  0%|          | 0/20 [00:00<?, ?it/s]"
     ]
    },
    {
     "name": "stderr",
     "output_type": "stream",
     "text": [
      "100%|██████████| 20/20 [00:34<00:00,  1.73s/it]\n"
     ]
    }
   ],
   "source": [
    "# Fill in the missing values with unemployed for analysis\n",
    "X['emp_title_cons'] = X['emp_title'].fillna('Unemployed')\n",
    "for key, value in tqdm(Professions.items()):\n",
    "    for v in value:\n",
    "        # Create a boolean mask for all employments that are managerial\n",
    "        prof = X['emp_title_cons'].str.contains(v, case=False)\n",
    "        # Change the value of those to 'Manager'\n",
    "        X.loc[prof, 'emp_title_cons'] = key"
   ]
  },
  {
   "cell_type": "markdown",
   "metadata": {},
   "source": [
    "With the employment titles consolidated, I can look at the employment titles with over 1000 instances again to see how effective the grouping was."
   ]
  },
  {
   "cell_type": "code",
   "execution_count": 176,
   "metadata": {},
   "outputs": [
    {
     "name": "stdout",
     "output_type": "stream",
     "text": [
      "22\n"
     ]
    },
    {
     "data": {
      "text/plain": [
       "Manager              141239\n",
       "Technical            119770\n",
       "Unemployed            51462\n",
       "Healer                50322\n",
       "Director              32973\n",
       "Education             29821\n",
       "Executive             28111\n",
       "Vol                   25647\n",
       "Operator              24758\n",
       "Service               22252\n",
       "Analyst               21481\n",
       "Assistant             18877\n",
       "Sales                 17653\n",
       "Finance               12007\n",
       "Accountant            10458\n",
       "Admin                  9648\n",
       "Manlab                 5969\n",
       "Clerk                  5333\n",
       "Designer               2466\n",
       "Law                    1942\n",
       "Clergy                 1392\n",
       "Account Executive      1072\n",
       "Name: emp_title_cons, dtype: int64"
      ]
     },
     "execution_count": 176,
     "metadata": {},
     "output_type": "execute_result"
    }
   ],
   "source": [
    "# find all the different types of jobs that the borrower could have\n",
    "print(len(X['emp_title_cons'].value_counts()[X['emp_title_cons'].value_counts() > 1000]))\n",
    "\n",
    "# See how common each of the different employment types\n",
    "X['emp_title_cons'].value_counts()[X['emp_title_cons'].value_counts() > 1000]"
   ]
  },
  {
   "cell_type": "markdown",
   "metadata": {},
   "source": [
    "There is a marked improvement here with \"Manager\" accounting for over 150,000 of the observations. It is possible that some of the profession types are mistakes but I intentionally put spaces before and after 'lead' so that the code would only capture instances of the word lead itself.\n",
    "\n",
    "Below I changed the `emp_type` column to have only professions with more than 1000 instances. The rest I classified as other."
   ]
  },
  {
   "cell_type": "code",
   "execution_count": 177,
   "metadata": {},
   "outputs": [],
   "source": [
    "common_proffs = X['emp_title_cons'].value_counts()[X['emp_title_cons'].value_counts() > 1000]\n",
    "# Create a feature that has the most common profession types, store the rest as other.\n",
    "X['emp_type'] = [x if x in common_proffs.index else 'other' for x in X['emp_title_cons']] "
   ]
  },
  {
   "cell_type": "markdown",
   "metadata": {},
   "source": [
    "With a workable list of professions that the borrowers have, I can one-hot encode them for later analysis and drop the columns that created `emp_type`."
   ]
  },
  {
   "cell_type": "code",
   "execution_count": 178,
   "metadata": {},
   "outputs": [],
   "source": [
    "# Convert all of the columns into dummy variables\n",
    "X = pd.get_dummies(X, columns = ['emp_type'], drop_first = True)\n",
    "\n",
    "# Drop emp_title and emp_title_cons now that there is no need for them.\n",
    "X.drop(['emp_title', 'emp_title_cons'], axis = 1, inplace = True)"
   ]
  },
  {
   "attachments": {},
   "cell_type": "markdown",
   "metadata": {},
   "source": [
    "##### `emp_length`: employment length of the borrower."
   ]
  },
  {
   "cell_type": "code",
   "execution_count": 179,
   "metadata": {},
   "outputs": [
    {
     "data": {
      "text/plain": [
       "array(['10+ years', '< 1 year', '1 year', '3 years', '8 years', '9 years',\n",
       "       '4 years', '5 years', '6 years', '2 years', '7 years', nan],\n",
       "      dtype=object)"
      ]
     },
     "execution_count": 179,
     "metadata": {},
     "output_type": "execute_result"
    }
   ],
   "source": [
    "# Show all of the different employement lengths\n",
    "X['emp_length'].unique()"
   ]
  },
  {
   "attachments": {},
   "cell_type": "markdown",
   "metadata": {},
   "source": [
    "This column appears to have numerical values that are encased in strings. If I can separate the number from the surrounding string and change its type to a number than this column can become numerical."
   ]
  },
  {
   "cell_type": "code",
   "execution_count": 180,
   "metadata": {},
   "outputs": [],
   "source": [
    "# Replace the non-existant values with 0\n",
    "X['emp_length'] = X['emp_length'].fillna(0)\n",
    "# Replace the less than one year with the average of .5\n",
    "X['emp_length'] = X['emp_length'].replace('< 1 year', 0.5)\n",
    "# Get rid of all non-numerical characters to convert the values into numerical\n",
    "X['emp_length'] = X['emp_length'].replace(r'[a-zA-Z+]', '', regex = True)\n",
    "# Change the type from string to numerical\n",
    "X['emp_length'] = X['emp_length'].astype('float')"
   ]
  },
  {
   "cell_type": "markdown",
   "metadata": {},
   "source": [
    "##### `home_ownership`: The housing situation of the borrower"
   ]
  },
  {
   "cell_type": "code",
   "execution_count": 181,
   "metadata": {},
   "outputs": [
    {
     "data": {
      "text/plain": [
       "array(['RENT', 'OWN', 'MORTGAGE', 'OTHER', 'NONE', 'ANY'], dtype=object)"
      ]
     },
     "execution_count": 181,
     "metadata": {},
     "output_type": "execute_result"
    }
   ],
   "source": [
    "# Look at all the types of home ownership\n",
    "X['home_ownership'].unique()"
   ]
  },
  {
   "cell_type": "markdown",
   "metadata": {},
   "source": [
    "Since `OTHER`, `NONE`, and `ANY` can all mean the same thing, I think it best to combine the three of them into `OTHER`"
   ]
  },
  {
   "cell_type": "code",
   "execution_count": 182,
   "metadata": {},
   "outputs": [],
   "source": [
    "# Switch home_ownership rare values to other.\n",
    "X['home_ownership'].replace({'NONE': 'OTHER','ANY':'OTHER'}, inplace = True)"
   ]
  },
  {
   "cell_type": "markdown",
   "metadata": {},
   "source": [
    "With a consolidated `home_ownership` column, I can now one-hot encode it for later analysis"
   ]
  },
  {
   "cell_type": "code",
   "execution_count": 183,
   "metadata": {},
   "outputs": [],
   "source": [
    "# Create dummy columns for the different types of home ownership\n",
    "X = pd.get_dummies(X, columns = ['home_ownership'], drop_first = True)"
   ]
  },
  {
   "cell_type": "markdown",
   "metadata": {},
   "source": [
    "##### `verification_status`: Whether or not Lending club was able to verify the information the borrower submitted."
   ]
  },
  {
   "cell_type": "code",
   "execution_count": 184,
   "metadata": {},
   "outputs": [
    {
     "data": {
      "text/plain": [
       "array(['Verified', 'Source Verified', 'Not Verified'], dtype=object)"
      ]
     },
     "execution_count": 184,
     "metadata": {},
     "output_type": "execute_result"
    }
   ],
   "source": [
    "X['verification_status'].unique()"
   ]
  },
  {
   "cell_type": "markdown",
   "metadata": {},
   "source": [
    "`verification_status` has 3 unique values that determine if the information has been verified, the source of the information has been verified or if neither the source nor the information has been verified. I will make this into a dummy variable later on."
   ]
  },
  {
   "cell_type": "code",
   "execution_count": 185,
   "metadata": {},
   "outputs": [],
   "source": [
    "# Create dummy variables for the different verification statuses\n",
    "X = pd.get_dummies(X, columns = ['verification_status'], drop_first = True)"
   ]
  },
  {
   "cell_type": "markdown",
   "metadata": {},
   "source": [
    "##### `issue_d`: the month and year in which the loan was issued."
   ]
  },
  {
   "cell_type": "code",
   "execution_count": 186,
   "metadata": {},
   "outputs": [
    {
     "data": {
      "text/plain": [
       "0    Dec-2011\n",
       "1    Dec-2011\n",
       "2    Dec-2011\n",
       "3    Dec-2011\n",
       "4    Dec-2011\n",
       "Name: issue_d, dtype: object"
      ]
     },
     "execution_count": 186,
     "metadata": {},
     "output_type": "execute_result"
    }
   ],
   "source": [
    "X['issue_d'].head()"
   ]
  },
  {
   "cell_type": "markdown",
   "metadata": {},
   "source": [
    "`issue_d` is a very important feature because I'll be able to use it to determine how much time is left on the loan but it isn't a feature that will influence a borrower's ability to pay back the loan. For that reason I'll drop it from this dataset."
   ]
  },
  {
   "cell_type": "code",
   "execution_count": 187,
   "metadata": {},
   "outputs": [],
   "source": [
    "# Drop issue_d from the X dataset\n",
    "X.drop('issue_d', axis = 1, inplace = True)"
   ]
  },
  {
   "cell_type": "markdown",
   "metadata": {},
   "source": [
    "##### `pymnt_plan`: Indicates whether there has been a payment plan put in place for the borrower to pay off the loan that wasn't the original schedule."
   ]
  },
  {
   "cell_type": "code",
   "execution_count": 188,
   "metadata": {},
   "outputs": [
    {
     "data": {
      "text/plain": [
       "array(['n', 'y'], dtype=object)"
      ]
     },
     "execution_count": 188,
     "metadata": {},
     "output_type": "execute_result"
    }
   ],
   "source": [
    "X['pymnt_plan'].unique()"
   ]
  },
  {
   "cell_type": "markdown",
   "metadata": {},
   "source": [
    "There are only two values in this column either a 'n' for no or a 'y' for yes. Since it is a binary choice I can represent it numerically as 0 for n and 1 for y."
   ]
  },
  {
   "cell_type": "code",
   "execution_count": 189,
   "metadata": {},
   "outputs": [],
   "source": [
    "# Convert pyment_plan to a binary variable\n",
    "X['pymnt_plan'] = np.where(X['pymnt_plan'] == 'y', 1, 0)"
   ]
  },
  {
   "cell_type": "markdown",
   "metadata": {},
   "source": [
    "\n",
    "##### `url` of the page that contains the loan. Needs a login to access it."
   ]
  },
  {
   "cell_type": "code",
   "execution_count": 190,
   "metadata": {},
   "outputs": [
    {
     "data": {
      "text/plain": [
       "array(['https://www.lendingclub.com/browse/loanDetail.action?loan_id=1077501',\n",
       "       'https://www.lendingclub.com/browse/loanDetail.action?loan_id=1077430',\n",
       "       'https://www.lendingclub.com/browse/loanDetail.action?loan_id=1077175',\n",
       "       ...,\n",
       "       'https://www.lendingclub.com/browse/loanDetail.action?loan_id=36271333',\n",
       "       'https://www.lendingclub.com/browse/loanDetail.action?loan_id=36490806',\n",
       "       'https://www.lendingclub.com/browse/loanDetail.action?loan_id=36271262'],\n",
       "      dtype=object)"
      ]
     },
     "execution_count": 190,
     "metadata": {},
     "output_type": "execute_result"
    }
   ],
   "source": [
    "X['url'].unique()"
   ]
  },
  {
   "attachments": {},
   "cell_type": "markdown",
   "metadata": {},
   "source": [
    "The URL column appears to be the same website with the id column as the `loan_id` at the end of it. I can test this by trying to see if the characters up until the `id=` are always the same."
   ]
  },
  {
   "cell_type": "code",
   "execution_count": 191,
   "metadata": {},
   "outputs": [
    {
     "data": {
      "text/plain": [
       "array(['https://www.lendingclub.com/browse/loanDetail.action?loan_id='],\n",
       "      dtype=object)"
      ]
     },
     "execution_count": 191,
     "metadata": {},
     "output_type": "execute_result"
    }
   ],
   "source": [
    "# Grab the first part of the url and see if it always the same.\n",
    "X['url'].str[:61].unique()"
   ]
  },
  {
   "attachments": {},
   "cell_type": "markdown",
   "metadata": {},
   "source": [
    "Now that I know that the start of the `url` is always the same I can check to see if the ID part of the `url` is the exact same as the `id` column itself. "
   ]
  },
  {
   "cell_type": "code",
   "execution_count": 192,
   "metadata": {},
   "outputs": [
    {
     "data": {
      "text/plain": [
       "set()"
      ]
     },
     "execution_count": 192,
     "metadata": {},
     "output_type": "execute_result"
    }
   ],
   "source": [
    "# subtract the set of the id part of the url column from the id column.\n",
    "set(X['id']) - set(X['url'].str[61:].astype('int'))"
   ]
  },
  {
   "cell_type": "markdown",
   "metadata": {},
   "source": [
    "The code above returned an empty set which means that there is no difference between the id column and the number at the end of the `url`. This means that the url is redundant and can be dropped. "
   ]
  },
  {
   "cell_type": "code",
   "execution_count": 193,
   "metadata": {},
   "outputs": [],
   "source": [
    "# Drop the url column from X\n",
    "X.drop('url', axis = 1, inplace = True)"
   ]
  },
  {
   "cell_type": "markdown",
   "metadata": {},
   "source": [
    "##### `desc`: A summary for the reason the borrower is taking the loan"
   ]
  },
  {
   "cell_type": "code",
   "execution_count": 194,
   "metadata": {},
   "outputs": [
    {
     "name": "stdout",
     "output_type": "stream",
     "text": [
      "761351\n"
     ]
    },
    {
     "data": {
      "text/plain": [
       "array(['  Borrower added on 12/22/11 > I need to upgrade my business technologies.<br>',\n",
       "       '  Borrower added on 12/22/11 > I plan to use this money to finance the motorcycle i am looking at. I plan to have it paid off as soon as possible/when i sell my old bike. I only need this money because the deal im looking at is to good to pass up.<br><br>  Borrower added on 12/22/11 > I plan to use this money to finance the motorcycle i am looking at. I plan to have it paid off as soon as possible/when i sell my old bike.I only need this money because the deal im looking at is to good to pass up. I have finished college with an associates degree in business and its takingmeplaces<br>',\n",
       "       nan, ...,\n",
       "       'I need a lower interest loan to pay off my citifinancial loan.  ',\n",
       "       'I am looking for a loan to pay my credit cards off as well as making some very much needed auto repairs',\n",
       "       'I am in my senior year of college in obtaining a bachelors degree in criminal justice.  I do not qualify for financial aid and have used all stafford loans available.  My tuition is approx. $1200 a month and I have 10 courses left which adds up to over $10,000.  I need some assistance to cover my tuition until my graduation date which is August of 2009.'],\n",
       "      dtype=object)"
      ]
     },
     "execution_count": 194,
     "metadata": {},
     "output_type": "execute_result"
    }
   ],
   "source": [
    "# Find how many people didn't put a description\n",
    "print(X['desc'].isna().sum())\n",
    "\n",
    "# Print a sample of some of the descriptions\n",
    "X['desc'].unique()"
   ]
  },
  {
   "cell_type": "markdown",
   "metadata": {},
   "source": [
    "The `desc` variable is significantly more in depth than the `title` or `purpose` variable but unfortunately most of the borrowers never submitted one. Since most of the important information that could be gleaned from the `desc` column is most likely contained within `title` and `purpose` which have litle to no missing values, I will drop this column."
   ]
  },
  {
   "cell_type": "code",
   "execution_count": 195,
   "metadata": {},
   "outputs": [],
   "source": [
    "X.drop('desc', axis = 1, inplace = True)"
   ]
  },
  {
   "cell_type": "markdown",
   "metadata": {},
   "source": [
    "##### `purpose`: The reason the borrower applied and took the loan"
   ]
  },
  {
   "cell_type": "code",
   "execution_count": 196,
   "metadata": {},
   "outputs": [
    {
     "data": {
      "text/plain": [
       "array(['credit_card', 'car', 'small_business', 'other', 'wedding',\n",
       "       'debt_consolidation', 'home_improvement', 'major_purchase',\n",
       "       'medical', 'moving', 'vacation', 'house', 'renewable_energy',\n",
       "       'educational'], dtype=object)"
      ]
     },
     "execution_count": 196,
     "metadata": {},
     "output_type": "execute_result"
    }
   ],
   "source": [
    "# View all the unique reasons for why people are getting a loan.\n",
    "X['purpose'].unique()"
   ]
  },
  {
   "cell_type": "markdown",
   "metadata": {},
   "source": [
    "This column needs to be one-hot encoded since there are no clear numerical map for the categorical values of this column. ."
   ]
  },
  {
   "cell_type": "code",
   "execution_count": 197,
   "metadata": {},
   "outputs": [],
   "source": [
    "X = pd.get_dummies(X, columns = ['purpose'])"
   ]
  },
  {
   "cell_type": "markdown",
   "metadata": {},
   "source": [
    "##### `title`: The title that the borrower put for the loan"
   ]
  },
  {
   "cell_type": "code",
   "execution_count": 198,
   "metadata": {},
   "outputs": [
    {
     "name": "stdout",
     "output_type": "stream",
     "text": [
      "63145\n"
     ]
    },
    {
     "data": {
      "text/plain": [
       "array(['Computer', 'bike', 'real estate business', ...,\n",
       "       'new kitchen for momma!',\n",
       "       'New Baby and New House (CC Consolidate)',\n",
       "       'Credit Card/Auto Repair'], dtype=object)"
      ]
     },
     "execution_count": 198,
     "metadata": {},
     "output_type": "execute_result"
    }
   ],
   "source": [
    "print(len(X['title'].unique()))\n",
    "X['title'].unique()"
   ]
  },
  {
   "cell_type": "markdown",
   "metadata": {},
   "source": [
    "This appears to be a worse version of purpose as there are over 63,000 different titles and the content from them appears to be very similar to the content in the `purpose` variable. For that reason I'll drop `title` "
   ]
  },
  {
   "cell_type": "code",
   "execution_count": 199,
   "metadata": {},
   "outputs": [],
   "source": [
    "X.drop('title', axis = 1, inplace = True)"
   ]
  },
  {
   "cell_type": "markdown",
   "metadata": {},
   "source": [
    "##### `zip_code`: The borrower's zipcode"
   ]
  },
  {
   "cell_type": "code",
   "execution_count": 200,
   "metadata": {},
   "outputs": [
    {
     "name": "stdout",
     "output_type": "stream",
     "text": [
      "935\n"
     ]
    },
    {
     "data": {
      "text/plain": [
       "0    860xx\n",
       "1    309xx\n",
       "2    606xx\n",
       "3    917xx\n",
       "4    972xx\n",
       "Name: zip_code, dtype: object"
      ]
     },
     "execution_count": 200,
     "metadata": {},
     "output_type": "execute_result"
    }
   ],
   "source": [
    "print(len(X['zip_code'].unique()))\n",
    "X['zip_code'].head()"
   ]
  },
  {
   "cell_type": "markdown",
   "metadata": {},
   "source": [
    "While it looks like there are numbers to be used in this column, these are zipcodes and not orders of magnitude. Therefore if I removed the xs I would still have a categorical column. I could one-hot encode the zip codes but that would produce over 800 million values and I'm not sure that my laptop would be able to easily run calculations on that amount of data so the simplest thing to do is to drop them. "
   ]
  },
  {
   "cell_type": "code",
   "execution_count": 201,
   "metadata": {},
   "outputs": [],
   "source": [
    "# Drop zip_code from the X dataset\n",
    "X.drop('zip_code', axis = 1, inplace = True)"
   ]
  },
  {
   "cell_type": "markdown",
   "metadata": {},
   "source": [
    "##### `addr_state`: Initials for the state the borrower is from"
   ]
  },
  {
   "cell_type": "code",
   "execution_count": 202,
   "metadata": {},
   "outputs": [
    {
     "name": "stdout",
     "output_type": "stream",
     "text": [
      "51\n"
     ]
    },
    {
     "data": {
      "text/plain": [
       "array(['AZ', 'GA', 'IL', 'CA', 'OR', 'NC', 'TX', 'VA', 'MO', 'CT', 'UT',\n",
       "       'FL', 'NY', 'PA', 'MN', 'NJ', 'KY', 'OH', 'SC', 'RI', 'LA', 'MA',\n",
       "       'WA', 'WI', 'AL', 'CO', 'KS', 'NV', 'AK', 'MD', 'WV', 'VT', 'MI',\n",
       "       'DC', 'SD', 'NH', 'AR', 'NM', 'MT', 'HI', 'WY', 'OK', 'DE', 'MS',\n",
       "       'TN', 'IA', 'NE', 'ID', 'IN', 'ME', 'ND'], dtype=object)"
      ]
     },
     "execution_count": 202,
     "metadata": {},
     "output_type": "execute_result"
    }
   ],
   "source": [
    "# Print out the number of states that are used\n",
    "print(len(X['addr_state'].unique()))\n",
    "# Print out the list of states used.\n",
    "(X['addr_state'].unique())"
   ]
  },
  {
   "cell_type": "markdown",
   "metadata": {},
   "source": [
    "While there are 50 states, there are borrowers from Washington, D.C. brings the total to 51. Unlike zipcodes, 51 is a much more reasonable number to one-hot encode."
   ]
  },
  {
   "cell_type": "code",
   "execution_count": 203,
   "metadata": {},
   "outputs": [],
   "source": [
    "# Create a dummy variable for each state that a borrower is from\n",
    "X = pd.get_dummies(X, columns = ['addr_state'], drop_first = True)"
   ]
  },
  {
   "cell_type": "markdown",
   "metadata": {},
   "source": [
    "##### `earliest_cr_line`: The date of the earliest line of credit that the borrower had"
   ]
  },
  {
   "cell_type": "code",
   "execution_count": 204,
   "metadata": {},
   "outputs": [
    {
     "name": "stdout",
     "output_type": "stream",
     "text": [
      "29\n",
      "object\n"
     ]
    },
    {
     "data": {
      "text/plain": [
       "0    Jan-1985\n",
       "1    Apr-1999\n",
       "2    Nov-2001\n",
       "3    Feb-1996\n",
       "4    Jan-1996\n",
       "Name: earliest_cr_line, dtype: object"
      ]
     },
     "execution_count": 204,
     "metadata": {},
     "output_type": "execute_result"
    }
   ],
   "source": [
    "print(X['earliest_cr_line'].isna().sum())\n",
    "print(X['earliest_cr_line'].dtype)\n",
    "X['earliest_cr_line'].head()"
   ]
  },
  {
   "cell_type": "markdown",
   "metadata": {},
   "source": [
    "While it does appear that this column is in a datetime format, it is actually on object that needs to be converted. There are still 29 missing values but I will fill them in with the `issue_d` as the loan itself is a form of credit."
   ]
  },
  {
   "cell_type": "code",
   "execution_count": 205,
   "metadata": {},
   "outputs": [],
   "source": [
    "# Fill in missing dates for the earliest credit line column \n",
    "X['earliest_cr_line'] = X['earliest_cr_line'].fillna(loan['issue_d'])\n",
    "\n",
    "# Convert the earliest credit line of the borrower \n",
    "X['earliest_cr_line'] = pd.to_datetime(X['earliest_cr_line'])"
   ]
  },
  {
   "cell_type": "markdown",
   "metadata": {},
   "source": [
    "In order to include this variable in the multicollinearity and lasso calculations I need to convert it from datetime to numeric."
   ]
  },
  {
   "cell_type": "code",
   "execution_count": 206,
   "metadata": {},
   "outputs": [],
   "source": [
    "# Convert the variable from datetime to numeric.\n",
    "X['earliest_cr_line'] = X['earliest_cr_line'].map(dt.datetime.toordinal)"
   ]
  },
  {
   "cell_type": "markdown",
   "metadata": {},
   "source": [
    "#####  `initial_list_status`: Listing status for if the loan was offered as whole or fractional."
   ]
  },
  {
   "cell_type": "code",
   "execution_count": 207,
   "metadata": {},
   "outputs": [
    {
     "data": {
      "text/plain": [
       "array(['f', 'w'], dtype=object)"
      ]
     },
     "execution_count": 207,
     "metadata": {},
     "output_type": "execute_result"
    }
   ],
   "source": [
    "X['initial_list_status'].unique()"
   ]
  },
  {
   "cell_type": "markdown",
   "metadata": {},
   "source": [
    "'w' represents loans that were offered to institutions that would be bought as a full loan. 'f' represents loans that went straight to investors who would by a portion of the loan instead of all of it. Since there are only to values, I can binary encode this variable to have 'f' --> 0 and 'w' --> 1."
   ]
  },
  {
   "cell_type": "code",
   "execution_count": 208,
   "metadata": {},
   "outputs": [],
   "source": [
    "# Convert pyment_plan to a binary variable\n",
    "X['initial_list_status'] = np.where(X['initial_list_status'] == 'w', 1, 0)"
   ]
  },
  {
   "cell_type": "markdown",
   "metadata": {},
   "source": [
    "##### `last_pymnt_d`: The last time that the borrower paid lending club in mm-yyyy"
   ]
  },
  {
   "cell_type": "code",
   "execution_count": 209,
   "metadata": {},
   "outputs": [
    {
     "name": "stdout",
     "output_type": "stream",
     "text": [
      "17659\n"
     ]
    },
    {
     "data": {
      "text/plain": [
       "0    Jan-2015\n",
       "1    Apr-2013\n",
       "2    Jun-2014\n",
       "3    Jan-2015\n",
       "4    Jan-2016\n",
       "5    Jan-2015\n",
       "6    Jan-2016\n",
       "7    Jan-2015\n",
       "8    Apr-2012\n",
       "9    Nov-2012\n",
       "Name: last_pymnt_d, dtype: object"
      ]
     },
     "execution_count": 209,
     "metadata": {},
     "output_type": "execute_result"
    }
   ],
   "source": [
    "print(X['last_pymnt_d'].isna().sum())\n",
    "X['last_pymnt_d'].head(10)"
   ]
  },
  {
   "cell_type": "markdown",
   "metadata": {},
   "source": [
    "This variable cannot be consistent over the training and test sets that I plan to train the models on. I will drop this variable"
   ]
  },
  {
   "cell_type": "code",
   "execution_count": 210,
   "metadata": {},
   "outputs": [],
   "source": [
    "X.drop('last_pymnt_d', axis = 1, inplace = True)"
   ]
  },
  {
   "cell_type": "markdown",
   "metadata": {},
   "source": [
    "##### `next_pymnt_d`: The next time that the borrower is expected to pay lending club in mm-yyyy"
   ]
  },
  {
   "cell_type": "code",
   "execution_count": 211,
   "metadata": {},
   "outputs": [
    {
     "name": "stdout",
     "output_type": "stream",
     "text": [
      "252971\n"
     ]
    },
    {
     "data": {
      "text/plain": [
       "0         NaN\n",
       "1         NaN\n",
       "2         NaN\n",
       "3         NaN\n",
       "4    Feb-2016\n",
       "5         NaN\n",
       "6    Feb-2016\n",
       "7         NaN\n",
       "8         NaN\n",
       "9         NaN\n",
       "Name: next_pymnt_d, dtype: object"
      ]
     },
     "execution_count": 211,
     "metadata": {},
     "output_type": "execute_result"
    }
   ],
   "source": [
    "print(X['next_pymnt_d'].isna().sum())\n",
    "X['next_pymnt_d'].head(10)"
   ]
  },
  {
   "cell_type": "markdown",
   "metadata": {},
   "source": [
    "This variable has a large amount of missing values from all of the loans that have been fully paid or charged off. It is not a variable that will be consistent over the training and test sets."
   ]
  },
  {
   "cell_type": "code",
   "execution_count": 212,
   "metadata": {},
   "outputs": [],
   "source": [
    "X.drop('next_pymnt_d', axis = 1, inplace = True)"
   ]
  },
  {
   "cell_type": "markdown",
   "metadata": {},
   "source": [
    "##### `last_credit_pull_d`: The last time lending club pulled the credit score of the borrower mm-yyyy"
   ]
  },
  {
   "cell_type": "code",
   "execution_count": 213,
   "metadata": {},
   "outputs": [
    {
     "name": "stdout",
     "output_type": "stream",
     "text": [
      "53\n",
      "object\n"
     ]
    },
    {
     "data": {
      "text/plain": [
       "0    Jan-2016\n",
       "1    Sep-2013\n",
       "2    Jan-2016\n",
       "3    Jan-2015\n",
       "4    Jan-2016\n",
       "Name: last_credit_pull_d, dtype: object"
      ]
     },
     "execution_count": 213,
     "metadata": {},
     "output_type": "execute_result"
    }
   ],
   "source": [
    "print(X['last_credit_pull_d'].isna().sum())\n",
    "print(X['last_credit_pull_d'].dtype)\n",
    "X['last_credit_pull_d'].head()"
   ]
  },
  {
   "cell_type": "markdown",
   "metadata": {},
   "source": [
    "There are 53 missing values that I can fill by the issue date because lending club pulls credit for every single loan so presumably there should have been a credit pull around the issue date."
   ]
  },
  {
   "cell_type": "code",
   "execution_count": 214,
   "metadata": {},
   "outputs": [],
   "source": [
    "# Fill in missing dates for the last credit pull column \n",
    "X['last_credit_pull_d'] = X['last_credit_pull_d'].fillna(loan['issue_d'])"
   ]
  },
  {
   "cell_type": "markdown",
   "metadata": {},
   "source": [
    "Similar to what I did with `earliest_cr_line` I will convert this column to numeric so that I can analyze its multicollinearity and feature importance."
   ]
  },
  {
   "cell_type": "code",
   "execution_count": 215,
   "metadata": {},
   "outputs": [],
   "source": [
    "# Convert the date that the lending company got a credit report\n",
    "X['last_credit_pull_d'] = pd.to_datetime(X['last_credit_pull_d'])\n",
    "\n",
    "X['last_credit_pull_d'] = X['last_credit_pull_d'].map(dt.datetime.toordinal)"
   ]
  },
  {
   "cell_type": "markdown",
   "metadata": {},
   "source": [
    "##### `application_type`: Whether or not the loan application is joint or individual"
   ]
  },
  {
   "cell_type": "code",
   "execution_count": 216,
   "metadata": {},
   "outputs": [
    {
     "data": {
      "text/plain": [
       "array(['INDIVIDUAL', 'JOINT'], dtype=object)"
      ]
     },
     "execution_count": 216,
     "metadata": {},
     "output_type": "execute_result"
    }
   ],
   "source": [
    "X['application_type'].unique()"
   ]
  },
  {
   "cell_type": "markdown",
   "metadata": {},
   "source": [
    "Since the only two values are 'INDIVIDUAL' and 'JOINT', I can use binary encoding to transform it into a numerical column by having 'INDIVIDUAL' --> 0 and 'JOINT' --> 1"
   ]
  },
  {
   "cell_type": "code",
   "execution_count": 217,
   "metadata": {},
   "outputs": [],
   "source": [
    "# Convert pyment_plan to a binary variable\n",
    "X['application_type'] = np.where(X['application_type'] == 'JOINT', 1, 0)"
   ]
  },
  {
   "cell_type": "markdown",
   "metadata": {},
   "source": [
    "##### `verification_status_joint`: Same as the verification_status but for joint applications."
   ]
  },
  {
   "cell_type": "code",
   "execution_count": 218,
   "metadata": {},
   "outputs": [
    {
     "data": {
      "text/plain": [
       "array([nan, 'Not Verified', 'Verified', 'Source Verified'], dtype=object)"
      ]
     },
     "execution_count": 218,
     "metadata": {},
     "output_type": "execute_result"
    }
   ],
   "source": [
    "X['verification_status_joint'].unique()"
   ]
  },
  {
   "cell_type": "markdown",
   "metadata": {},
   "source": [
    "The reason why there are missing values in this column is because most of the loans are to individual people. I can fill in the nan with some value that will allow me to use the pandas funtion `get_dummies`"
   ]
  },
  {
   "cell_type": "code",
   "execution_count": 219,
   "metadata": {},
   "outputs": [],
   "source": [
    "# Fill the missing values in the application.\n",
    "X['verification_status_joint'].fillna('indiv')\n",
    "\n",
    "# One-hot encode the joint verification status\n",
    "X = pd.get_dummies(X, columns = ['verification_status_joint'], drop_first = False)"
   ]
  },
  {
   "attachments": {},
   "cell_type": "markdown",
   "metadata": {},
   "source": [
    "### **Columns to drop:**\n",
    " - **id**: This is not a relational database so there is no value in having a variable that can tie this dataset to others.\n",
    " - **member_id**: same as ID, there are no other datasets for that need a bridge variable."
   ]
  },
  {
   "cell_type": "code",
   "execution_count": 220,
   "metadata": {},
   "outputs": [],
   "source": [
    "# drop all of the columns that I had mentioned earlier.\n",
    "X.drop(['id', 'member_id'], axis = 1, inplace = True)"
   ]
  },
  {
   "cell_type": "code",
   "execution_count": 221,
   "metadata": {},
   "outputs": [
    {
     "data": {
      "text/html": [
       "<div>\n",
       "<style scoped>\n",
       "    .dataframe tbody tr th:only-of-type {\n",
       "        vertical-align: middle;\n",
       "    }\n",
       "\n",
       "    .dataframe tbody tr th {\n",
       "        vertical-align: top;\n",
       "    }\n",
       "\n",
       "    .dataframe thead th {\n",
       "        text-align: right;\n",
       "    }\n",
       "</style>\n",
       "<table border=\"1\" class=\"dataframe\">\n",
       "  <thead>\n",
       "    <tr style=\"text-align: right;\">\n",
       "      <th></th>\n",
       "      <th>loan_amnt</th>\n",
       "      <th>funded_amnt</th>\n",
       "      <th>funded_amnt_inv</th>\n",
       "      <th>term</th>\n",
       "      <th>int_rate</th>\n",
       "      <th>installment</th>\n",
       "      <th>grade</th>\n",
       "      <th>emp_length</th>\n",
       "      <th>annual_inc</th>\n",
       "      <th>pymnt_plan</th>\n",
       "      <th>dti</th>\n",
       "      <th>delinq_2yrs</th>\n",
       "      <th>earliest_cr_line</th>\n",
       "      <th>inq_last_6mths</th>\n",
       "      <th>mths_since_last_delinq</th>\n",
       "      <th>mths_since_last_record</th>\n",
       "      <th>open_acc</th>\n",
       "      <th>pub_rec</th>\n",
       "      <th>revol_bal</th>\n",
       "      <th>revol_util</th>\n",
       "      <th>total_acc</th>\n",
       "      <th>initial_list_status</th>\n",
       "      <th>last_pymnt_amnt</th>\n",
       "      <th>last_credit_pull_d</th>\n",
       "      <th>collections_12_mths_ex_med</th>\n",
       "      <th>mths_since_last_major_derog</th>\n",
       "      <th>application_type</th>\n",
       "      <th>annual_inc_joint</th>\n",
       "      <th>dti_joint</th>\n",
       "      <th>acc_now_delinq</th>\n",
       "      <th>tot_coll_amt</th>\n",
       "      <th>tot_cur_bal</th>\n",
       "      <th>open_acc_6m</th>\n",
       "      <th>open_il_6m</th>\n",
       "      <th>open_il_12m</th>\n",
       "      <th>open_il_24m</th>\n",
       "      <th>mths_since_rcnt_il</th>\n",
       "      <th>total_bal_il</th>\n",
       "      <th>il_util</th>\n",
       "      <th>open_rv_12m</th>\n",
       "      <th>open_rv_24m</th>\n",
       "      <th>max_bal_bc</th>\n",
       "      <th>all_util</th>\n",
       "      <th>total_rev_hi_lim</th>\n",
       "      <th>inq_fi</th>\n",
       "      <th>total_cu_tl</th>\n",
       "      <th>inq_last_12m</th>\n",
       "      <th>emp_type_Accountant</th>\n",
       "      <th>emp_type_Admin</th>\n",
       "      <th>emp_type_Analyst</th>\n",
       "      <th>emp_type_Assistant</th>\n",
       "      <th>emp_type_Clergy</th>\n",
       "      <th>emp_type_Clerk</th>\n",
       "      <th>emp_type_Designer</th>\n",
       "      <th>emp_type_Director</th>\n",
       "      <th>emp_type_Education</th>\n",
       "      <th>emp_type_Executive</th>\n",
       "      <th>emp_type_Finance</th>\n",
       "      <th>emp_type_Healer</th>\n",
       "      <th>emp_type_Law</th>\n",
       "      <th>emp_type_Manager</th>\n",
       "      <th>emp_type_Manlab</th>\n",
       "      <th>emp_type_Operator</th>\n",
       "      <th>emp_type_Sales</th>\n",
       "      <th>emp_type_Service</th>\n",
       "      <th>emp_type_Technical</th>\n",
       "      <th>emp_type_Unemployed</th>\n",
       "      <th>emp_type_Vol</th>\n",
       "      <th>emp_type_other</th>\n",
       "      <th>home_ownership_OTHER</th>\n",
       "      <th>home_ownership_OWN</th>\n",
       "      <th>home_ownership_RENT</th>\n",
       "      <th>verification_status_Source Verified</th>\n",
       "      <th>verification_status_Verified</th>\n",
       "      <th>purpose_car</th>\n",
       "      <th>purpose_credit_card</th>\n",
       "      <th>purpose_debt_consolidation</th>\n",
       "      <th>purpose_educational</th>\n",
       "      <th>purpose_home_improvement</th>\n",
       "      <th>purpose_house</th>\n",
       "      <th>purpose_major_purchase</th>\n",
       "      <th>purpose_medical</th>\n",
       "      <th>purpose_moving</th>\n",
       "      <th>purpose_other</th>\n",
       "      <th>purpose_renewable_energy</th>\n",
       "      <th>purpose_small_business</th>\n",
       "      <th>purpose_vacation</th>\n",
       "      <th>purpose_wedding</th>\n",
       "      <th>addr_state_AL</th>\n",
       "      <th>addr_state_AR</th>\n",
       "      <th>addr_state_AZ</th>\n",
       "      <th>addr_state_CA</th>\n",
       "      <th>addr_state_CO</th>\n",
       "      <th>addr_state_CT</th>\n",
       "      <th>addr_state_DC</th>\n",
       "      <th>addr_state_DE</th>\n",
       "      <th>addr_state_FL</th>\n",
       "      <th>addr_state_GA</th>\n",
       "      <th>addr_state_HI</th>\n",
       "      <th>addr_state_IA</th>\n",
       "      <th>addr_state_ID</th>\n",
       "      <th>addr_state_IL</th>\n",
       "      <th>addr_state_IN</th>\n",
       "      <th>addr_state_KS</th>\n",
       "      <th>addr_state_KY</th>\n",
       "      <th>addr_state_LA</th>\n",
       "      <th>addr_state_MA</th>\n",
       "      <th>addr_state_MD</th>\n",
       "      <th>addr_state_ME</th>\n",
       "      <th>addr_state_MI</th>\n",
       "      <th>addr_state_MN</th>\n",
       "      <th>addr_state_MO</th>\n",
       "      <th>addr_state_MS</th>\n",
       "      <th>addr_state_MT</th>\n",
       "      <th>addr_state_NC</th>\n",
       "      <th>addr_state_ND</th>\n",
       "      <th>addr_state_NE</th>\n",
       "      <th>addr_state_NH</th>\n",
       "      <th>addr_state_NJ</th>\n",
       "      <th>addr_state_NM</th>\n",
       "      <th>addr_state_NV</th>\n",
       "      <th>addr_state_NY</th>\n",
       "      <th>addr_state_OH</th>\n",
       "      <th>addr_state_OK</th>\n",
       "      <th>addr_state_OR</th>\n",
       "      <th>addr_state_PA</th>\n",
       "      <th>addr_state_RI</th>\n",
       "      <th>addr_state_SC</th>\n",
       "      <th>addr_state_SD</th>\n",
       "      <th>addr_state_TN</th>\n",
       "      <th>addr_state_TX</th>\n",
       "      <th>addr_state_UT</th>\n",
       "      <th>addr_state_VA</th>\n",
       "      <th>addr_state_VT</th>\n",
       "      <th>addr_state_WA</th>\n",
       "      <th>addr_state_WI</th>\n",
       "      <th>addr_state_WV</th>\n",
       "      <th>addr_state_WY</th>\n",
       "      <th>verification_status_joint_Not Verified</th>\n",
       "      <th>verification_status_joint_Source Verified</th>\n",
       "      <th>verification_status_joint_Verified</th>\n",
       "    </tr>\n",
       "  </thead>\n",
       "  <tbody>\n",
       "    <tr>\n",
       "      <th>0</th>\n",
       "      <td>5000.0</td>\n",
       "      <td>5000.0</td>\n",
       "      <td>4975.0</td>\n",
       "      <td>3</td>\n",
       "      <td>10.65</td>\n",
       "      <td>162.87</td>\n",
       "      <td>5.8</td>\n",
       "      <td>10.0</td>\n",
       "      <td>24000.0</td>\n",
       "      <td>0</td>\n",
       "      <td>27.65</td>\n",
       "      <td>0.0</td>\n",
       "      <td>724642</td>\n",
       "      <td>1.0</td>\n",
       "      <td>NaN</td>\n",
       "      <td>NaN</td>\n",
       "      <td>3.0</td>\n",
       "      <td>0.0</td>\n",
       "      <td>13648.0</td>\n",
       "      <td>83.7</td>\n",
       "      <td>9.0</td>\n",
       "      <td>0</td>\n",
       "      <td>171.62</td>\n",
       "      <td>735964</td>\n",
       "      <td>0.0</td>\n",
       "      <td>NaN</td>\n",
       "      <td>0</td>\n",
       "      <td>NaN</td>\n",
       "      <td>NaN</td>\n",
       "      <td>0.0</td>\n",
       "      <td>NaN</td>\n",
       "      <td>NaN</td>\n",
       "      <td>NaN</td>\n",
       "      <td>NaN</td>\n",
       "      <td>NaN</td>\n",
       "      <td>NaN</td>\n",
       "      <td>NaN</td>\n",
       "      <td>NaN</td>\n",
       "      <td>NaN</td>\n",
       "      <td>NaN</td>\n",
       "      <td>NaN</td>\n",
       "      <td>NaN</td>\n",
       "      <td>NaN</td>\n",
       "      <td>NaN</td>\n",
       "      <td>NaN</td>\n",
       "      <td>NaN</td>\n",
       "      <td>NaN</td>\n",
       "      <td>0</td>\n",
       "      <td>0</td>\n",
       "      <td>0</td>\n",
       "      <td>0</td>\n",
       "      <td>0</td>\n",
       "      <td>0</td>\n",
       "      <td>0</td>\n",
       "      <td>0</td>\n",
       "      <td>0</td>\n",
       "      <td>0</td>\n",
       "      <td>0</td>\n",
       "      <td>0</td>\n",
       "      <td>0</td>\n",
       "      <td>0</td>\n",
       "      <td>0</td>\n",
       "      <td>0</td>\n",
       "      <td>0</td>\n",
       "      <td>0</td>\n",
       "      <td>0</td>\n",
       "      <td>1</td>\n",
       "      <td>0</td>\n",
       "      <td>0</td>\n",
       "      <td>0</td>\n",
       "      <td>0</td>\n",
       "      <td>1</td>\n",
       "      <td>0</td>\n",
       "      <td>1</td>\n",
       "      <td>0</td>\n",
       "      <td>1</td>\n",
       "      <td>0</td>\n",
       "      <td>0</td>\n",
       "      <td>0</td>\n",
       "      <td>0</td>\n",
       "      <td>0</td>\n",
       "      <td>0</td>\n",
       "      <td>0</td>\n",
       "      <td>0</td>\n",
       "      <td>0</td>\n",
       "      <td>0</td>\n",
       "      <td>0</td>\n",
       "      <td>0</td>\n",
       "      <td>0</td>\n",
       "      <td>0</td>\n",
       "      <td>1</td>\n",
       "      <td>0</td>\n",
       "      <td>0</td>\n",
       "      <td>0</td>\n",
       "      <td>0</td>\n",
       "      <td>0</td>\n",
       "      <td>0</td>\n",
       "      <td>0</td>\n",
       "      <td>0</td>\n",
       "      <td>0</td>\n",
       "      <td>0</td>\n",
       "      <td>0</td>\n",
       "      <td>0</td>\n",
       "      <td>0</td>\n",
       "      <td>0</td>\n",
       "      <td>0</td>\n",
       "      <td>0</td>\n",
       "      <td>0</td>\n",
       "      <td>0</td>\n",
       "      <td>0</td>\n",
       "      <td>0</td>\n",
       "      <td>0</td>\n",
       "      <td>0</td>\n",
       "      <td>0</td>\n",
       "      <td>0</td>\n",
       "      <td>0</td>\n",
       "      <td>0</td>\n",
       "      <td>0</td>\n",
       "      <td>0</td>\n",
       "      <td>0</td>\n",
       "      <td>0</td>\n",
       "      <td>0</td>\n",
       "      <td>0</td>\n",
       "      <td>0</td>\n",
       "      <td>0</td>\n",
       "      <td>0</td>\n",
       "      <td>0</td>\n",
       "      <td>0</td>\n",
       "      <td>0</td>\n",
       "      <td>0</td>\n",
       "      <td>0</td>\n",
       "      <td>0</td>\n",
       "      <td>0</td>\n",
       "      <td>0</td>\n",
       "      <td>0</td>\n",
       "      <td>0</td>\n",
       "      <td>0</td>\n",
       "      <td>0</td>\n",
       "      <td>0</td>\n",
       "      <td>0</td>\n",
       "      <td>0</td>\n",
       "    </tr>\n",
       "    <tr>\n",
       "      <th>1</th>\n",
       "      <td>2500.0</td>\n",
       "      <td>2500.0</td>\n",
       "      <td>2500.0</td>\n",
       "      <td>5</td>\n",
       "      <td>15.27</td>\n",
       "      <td>59.83</td>\n",
       "      <td>4.4</td>\n",
       "      <td>0.5</td>\n",
       "      <td>30000.0</td>\n",
       "      <td>0</td>\n",
       "      <td>1.00</td>\n",
       "      <td>0.0</td>\n",
       "      <td>729845</td>\n",
       "      <td>5.0</td>\n",
       "      <td>NaN</td>\n",
       "      <td>NaN</td>\n",
       "      <td>3.0</td>\n",
       "      <td>0.0</td>\n",
       "      <td>1687.0</td>\n",
       "      <td>9.4</td>\n",
       "      <td>4.0</td>\n",
       "      <td>0</td>\n",
       "      <td>119.66</td>\n",
       "      <td>735112</td>\n",
       "      <td>0.0</td>\n",
       "      <td>NaN</td>\n",
       "      <td>0</td>\n",
       "      <td>NaN</td>\n",
       "      <td>NaN</td>\n",
       "      <td>0.0</td>\n",
       "      <td>NaN</td>\n",
       "      <td>NaN</td>\n",
       "      <td>NaN</td>\n",
       "      <td>NaN</td>\n",
       "      <td>NaN</td>\n",
       "      <td>NaN</td>\n",
       "      <td>NaN</td>\n",
       "      <td>NaN</td>\n",
       "      <td>NaN</td>\n",
       "      <td>NaN</td>\n",
       "      <td>NaN</td>\n",
       "      <td>NaN</td>\n",
       "      <td>NaN</td>\n",
       "      <td>NaN</td>\n",
       "      <td>NaN</td>\n",
       "      <td>NaN</td>\n",
       "      <td>NaN</td>\n",
       "      <td>0</td>\n",
       "      <td>0</td>\n",
       "      <td>0</td>\n",
       "      <td>0</td>\n",
       "      <td>0</td>\n",
       "      <td>0</td>\n",
       "      <td>0</td>\n",
       "      <td>0</td>\n",
       "      <td>0</td>\n",
       "      <td>0</td>\n",
       "      <td>0</td>\n",
       "      <td>0</td>\n",
       "      <td>0</td>\n",
       "      <td>0</td>\n",
       "      <td>0</td>\n",
       "      <td>0</td>\n",
       "      <td>0</td>\n",
       "      <td>0</td>\n",
       "      <td>0</td>\n",
       "      <td>0</td>\n",
       "      <td>0</td>\n",
       "      <td>1</td>\n",
       "      <td>0</td>\n",
       "      <td>0</td>\n",
       "      <td>1</td>\n",
       "      <td>1</td>\n",
       "      <td>0</td>\n",
       "      <td>1</td>\n",
       "      <td>0</td>\n",
       "      <td>0</td>\n",
       "      <td>0</td>\n",
       "      <td>0</td>\n",
       "      <td>0</td>\n",
       "      <td>0</td>\n",
       "      <td>0</td>\n",
       "      <td>0</td>\n",
       "      <td>0</td>\n",
       "      <td>0</td>\n",
       "      <td>0</td>\n",
       "      <td>0</td>\n",
       "      <td>0</td>\n",
       "      <td>0</td>\n",
       "      <td>0</td>\n",
       "      <td>0</td>\n",
       "      <td>0</td>\n",
       "      <td>0</td>\n",
       "      <td>0</td>\n",
       "      <td>0</td>\n",
       "      <td>0</td>\n",
       "      <td>0</td>\n",
       "      <td>1</td>\n",
       "      <td>0</td>\n",
       "      <td>0</td>\n",
       "      <td>0</td>\n",
       "      <td>0</td>\n",
       "      <td>0</td>\n",
       "      <td>0</td>\n",
       "      <td>0</td>\n",
       "      <td>0</td>\n",
       "      <td>0</td>\n",
       "      <td>0</td>\n",
       "      <td>0</td>\n",
       "      <td>0</td>\n",
       "      <td>0</td>\n",
       "      <td>0</td>\n",
       "      <td>0</td>\n",
       "      <td>0</td>\n",
       "      <td>0</td>\n",
       "      <td>0</td>\n",
       "      <td>0</td>\n",
       "      <td>0</td>\n",
       "      <td>0</td>\n",
       "      <td>0</td>\n",
       "      <td>0</td>\n",
       "      <td>0</td>\n",
       "      <td>0</td>\n",
       "      <td>0</td>\n",
       "      <td>0</td>\n",
       "      <td>0</td>\n",
       "      <td>0</td>\n",
       "      <td>0</td>\n",
       "      <td>0</td>\n",
       "      <td>0</td>\n",
       "      <td>0</td>\n",
       "      <td>0</td>\n",
       "      <td>0</td>\n",
       "      <td>0</td>\n",
       "      <td>0</td>\n",
       "      <td>0</td>\n",
       "      <td>0</td>\n",
       "      <td>0</td>\n",
       "      <td>0</td>\n",
       "      <td>0</td>\n",
       "      <td>0</td>\n",
       "    </tr>\n",
       "    <tr>\n",
       "      <th>2</th>\n",
       "      <td>2400.0</td>\n",
       "      <td>2400.0</td>\n",
       "      <td>2400.0</td>\n",
       "      <td>3</td>\n",
       "      <td>15.96</td>\n",
       "      <td>84.33</td>\n",
       "      <td>4.2</td>\n",
       "      <td>10.0</td>\n",
       "      <td>12252.0</td>\n",
       "      <td>0</td>\n",
       "      <td>8.72</td>\n",
       "      <td>0.0</td>\n",
       "      <td>730790</td>\n",
       "      <td>2.0</td>\n",
       "      <td>NaN</td>\n",
       "      <td>NaN</td>\n",
       "      <td>2.0</td>\n",
       "      <td>0.0</td>\n",
       "      <td>2956.0</td>\n",
       "      <td>98.5</td>\n",
       "      <td>10.0</td>\n",
       "      <td>0</td>\n",
       "      <td>649.91</td>\n",
       "      <td>735964</td>\n",
       "      <td>0.0</td>\n",
       "      <td>NaN</td>\n",
       "      <td>0</td>\n",
       "      <td>NaN</td>\n",
       "      <td>NaN</td>\n",
       "      <td>0.0</td>\n",
       "      <td>NaN</td>\n",
       "      <td>NaN</td>\n",
       "      <td>NaN</td>\n",
       "      <td>NaN</td>\n",
       "      <td>NaN</td>\n",
       "      <td>NaN</td>\n",
       "      <td>NaN</td>\n",
       "      <td>NaN</td>\n",
       "      <td>NaN</td>\n",
       "      <td>NaN</td>\n",
       "      <td>NaN</td>\n",
       "      <td>NaN</td>\n",
       "      <td>NaN</td>\n",
       "      <td>NaN</td>\n",
       "      <td>NaN</td>\n",
       "      <td>NaN</td>\n",
       "      <td>NaN</td>\n",
       "      <td>0</td>\n",
       "      <td>0</td>\n",
       "      <td>0</td>\n",
       "      <td>0</td>\n",
       "      <td>0</td>\n",
       "      <td>0</td>\n",
       "      <td>0</td>\n",
       "      <td>0</td>\n",
       "      <td>0</td>\n",
       "      <td>0</td>\n",
       "      <td>0</td>\n",
       "      <td>0</td>\n",
       "      <td>0</td>\n",
       "      <td>0</td>\n",
       "      <td>0</td>\n",
       "      <td>0</td>\n",
       "      <td>0</td>\n",
       "      <td>0</td>\n",
       "      <td>0</td>\n",
       "      <td>1</td>\n",
       "      <td>0</td>\n",
       "      <td>0</td>\n",
       "      <td>0</td>\n",
       "      <td>0</td>\n",
       "      <td>1</td>\n",
       "      <td>0</td>\n",
       "      <td>0</td>\n",
       "      <td>0</td>\n",
       "      <td>0</td>\n",
       "      <td>0</td>\n",
       "      <td>0</td>\n",
       "      <td>0</td>\n",
       "      <td>0</td>\n",
       "      <td>0</td>\n",
       "      <td>0</td>\n",
       "      <td>0</td>\n",
       "      <td>0</td>\n",
       "      <td>0</td>\n",
       "      <td>1</td>\n",
       "      <td>0</td>\n",
       "      <td>0</td>\n",
       "      <td>0</td>\n",
       "      <td>0</td>\n",
       "      <td>0</td>\n",
       "      <td>0</td>\n",
       "      <td>0</td>\n",
       "      <td>0</td>\n",
       "      <td>0</td>\n",
       "      <td>0</td>\n",
       "      <td>0</td>\n",
       "      <td>0</td>\n",
       "      <td>0</td>\n",
       "      <td>0</td>\n",
       "      <td>0</td>\n",
       "      <td>1</td>\n",
       "      <td>0</td>\n",
       "      <td>0</td>\n",
       "      <td>0</td>\n",
       "      <td>0</td>\n",
       "      <td>0</td>\n",
       "      <td>0</td>\n",
       "      <td>0</td>\n",
       "      <td>0</td>\n",
       "      <td>0</td>\n",
       "      <td>0</td>\n",
       "      <td>0</td>\n",
       "      <td>0</td>\n",
       "      <td>0</td>\n",
       "      <td>0</td>\n",
       "      <td>0</td>\n",
       "      <td>0</td>\n",
       "      <td>0</td>\n",
       "      <td>0</td>\n",
       "      <td>0</td>\n",
       "      <td>0</td>\n",
       "      <td>0</td>\n",
       "      <td>0</td>\n",
       "      <td>0</td>\n",
       "      <td>0</td>\n",
       "      <td>0</td>\n",
       "      <td>0</td>\n",
       "      <td>0</td>\n",
       "      <td>0</td>\n",
       "      <td>0</td>\n",
       "      <td>0</td>\n",
       "      <td>0</td>\n",
       "      <td>0</td>\n",
       "      <td>0</td>\n",
       "      <td>0</td>\n",
       "      <td>0</td>\n",
       "      <td>0</td>\n",
       "      <td>0</td>\n",
       "      <td>0</td>\n",
       "      <td>0</td>\n",
       "    </tr>\n",
       "    <tr>\n",
       "      <th>3</th>\n",
       "      <td>10000.0</td>\n",
       "      <td>10000.0</td>\n",
       "      <td>10000.0</td>\n",
       "      <td>3</td>\n",
       "      <td>13.49</td>\n",
       "      <td>339.31</td>\n",
       "      <td>5.0</td>\n",
       "      <td>10.0</td>\n",
       "      <td>49200.0</td>\n",
       "      <td>0</td>\n",
       "      <td>20.00</td>\n",
       "      <td>0.0</td>\n",
       "      <td>728690</td>\n",
       "      <td>1.0</td>\n",
       "      <td>35.0</td>\n",
       "      <td>NaN</td>\n",
       "      <td>10.0</td>\n",
       "      <td>0.0</td>\n",
       "      <td>5598.0</td>\n",
       "      <td>21.0</td>\n",
       "      <td>37.0</td>\n",
       "      <td>0</td>\n",
       "      <td>357.48</td>\n",
       "      <td>735599</td>\n",
       "      <td>0.0</td>\n",
       "      <td>NaN</td>\n",
       "      <td>0</td>\n",
       "      <td>NaN</td>\n",
       "      <td>NaN</td>\n",
       "      <td>0.0</td>\n",
       "      <td>NaN</td>\n",
       "      <td>NaN</td>\n",
       "      <td>NaN</td>\n",
       "      <td>NaN</td>\n",
       "      <td>NaN</td>\n",
       "      <td>NaN</td>\n",
       "      <td>NaN</td>\n",
       "      <td>NaN</td>\n",
       "      <td>NaN</td>\n",
       "      <td>NaN</td>\n",
       "      <td>NaN</td>\n",
       "      <td>NaN</td>\n",
       "      <td>NaN</td>\n",
       "      <td>NaN</td>\n",
       "      <td>NaN</td>\n",
       "      <td>NaN</td>\n",
       "      <td>NaN</td>\n",
       "      <td>0</td>\n",
       "      <td>0</td>\n",
       "      <td>0</td>\n",
       "      <td>0</td>\n",
       "      <td>0</td>\n",
       "      <td>0</td>\n",
       "      <td>0</td>\n",
       "      <td>0</td>\n",
       "      <td>0</td>\n",
       "      <td>0</td>\n",
       "      <td>0</td>\n",
       "      <td>0</td>\n",
       "      <td>0</td>\n",
       "      <td>0</td>\n",
       "      <td>0</td>\n",
       "      <td>0</td>\n",
       "      <td>0</td>\n",
       "      <td>0</td>\n",
       "      <td>0</td>\n",
       "      <td>0</td>\n",
       "      <td>0</td>\n",
       "      <td>1</td>\n",
       "      <td>0</td>\n",
       "      <td>0</td>\n",
       "      <td>1</td>\n",
       "      <td>1</td>\n",
       "      <td>0</td>\n",
       "      <td>0</td>\n",
       "      <td>0</td>\n",
       "      <td>0</td>\n",
       "      <td>0</td>\n",
       "      <td>0</td>\n",
       "      <td>0</td>\n",
       "      <td>0</td>\n",
       "      <td>0</td>\n",
       "      <td>0</td>\n",
       "      <td>1</td>\n",
       "      <td>0</td>\n",
       "      <td>0</td>\n",
       "      <td>0</td>\n",
       "      <td>0</td>\n",
       "      <td>0</td>\n",
       "      <td>0</td>\n",
       "      <td>0</td>\n",
       "      <td>1</td>\n",
       "      <td>0</td>\n",
       "      <td>0</td>\n",
       "      <td>0</td>\n",
       "      <td>0</td>\n",
       "      <td>0</td>\n",
       "      <td>0</td>\n",
       "      <td>0</td>\n",
       "      <td>0</td>\n",
       "      <td>0</td>\n",
       "      <td>0</td>\n",
       "      <td>0</td>\n",
       "      <td>0</td>\n",
       "      <td>0</td>\n",
       "      <td>0</td>\n",
       "      <td>0</td>\n",
       "      <td>0</td>\n",
       "      <td>0</td>\n",
       "      <td>0</td>\n",
       "      <td>0</td>\n",
       "      <td>0</td>\n",
       "      <td>0</td>\n",
       "      <td>0</td>\n",
       "      <td>0</td>\n",
       "      <td>0</td>\n",
       "      <td>0</td>\n",
       "      <td>0</td>\n",
       "      <td>0</td>\n",
       "      <td>0</td>\n",
       "      <td>0</td>\n",
       "      <td>0</td>\n",
       "      <td>0</td>\n",
       "      <td>0</td>\n",
       "      <td>0</td>\n",
       "      <td>0</td>\n",
       "      <td>0</td>\n",
       "      <td>0</td>\n",
       "      <td>0</td>\n",
       "      <td>0</td>\n",
       "      <td>0</td>\n",
       "      <td>0</td>\n",
       "      <td>0</td>\n",
       "      <td>0</td>\n",
       "      <td>0</td>\n",
       "      <td>0</td>\n",
       "      <td>0</td>\n",
       "      <td>0</td>\n",
       "      <td>0</td>\n",
       "      <td>0</td>\n",
       "      <td>0</td>\n",
       "    </tr>\n",
       "    <tr>\n",
       "      <th>4</th>\n",
       "      <td>3000.0</td>\n",
       "      <td>3000.0</td>\n",
       "      <td>3000.0</td>\n",
       "      <td>5</td>\n",
       "      <td>12.69</td>\n",
       "      <td>67.79</td>\n",
       "      <td>5.2</td>\n",
       "      <td>1.0</td>\n",
       "      <td>80000.0</td>\n",
       "      <td>0</td>\n",
       "      <td>17.94</td>\n",
       "      <td>0.0</td>\n",
       "      <td>728659</td>\n",
       "      <td>0.0</td>\n",
       "      <td>38.0</td>\n",
       "      <td>NaN</td>\n",
       "      <td>15.0</td>\n",
       "      <td>0.0</td>\n",
       "      <td>27783.0</td>\n",
       "      <td>53.9</td>\n",
       "      <td>38.0</td>\n",
       "      <td>0</td>\n",
       "      <td>67.79</td>\n",
       "      <td>735964</td>\n",
       "      <td>0.0</td>\n",
       "      <td>NaN</td>\n",
       "      <td>0</td>\n",
       "      <td>NaN</td>\n",
       "      <td>NaN</td>\n",
       "      <td>0.0</td>\n",
       "      <td>NaN</td>\n",
       "      <td>NaN</td>\n",
       "      <td>NaN</td>\n",
       "      <td>NaN</td>\n",
       "      <td>NaN</td>\n",
       "      <td>NaN</td>\n",
       "      <td>NaN</td>\n",
       "      <td>NaN</td>\n",
       "      <td>NaN</td>\n",
       "      <td>NaN</td>\n",
       "      <td>NaN</td>\n",
       "      <td>NaN</td>\n",
       "      <td>NaN</td>\n",
       "      <td>NaN</td>\n",
       "      <td>NaN</td>\n",
       "      <td>NaN</td>\n",
       "      <td>NaN</td>\n",
       "      <td>0</td>\n",
       "      <td>0</td>\n",
       "      <td>0</td>\n",
       "      <td>0</td>\n",
       "      <td>0</td>\n",
       "      <td>0</td>\n",
       "      <td>0</td>\n",
       "      <td>0</td>\n",
       "      <td>0</td>\n",
       "      <td>0</td>\n",
       "      <td>0</td>\n",
       "      <td>0</td>\n",
       "      <td>0</td>\n",
       "      <td>0</td>\n",
       "      <td>0</td>\n",
       "      <td>0</td>\n",
       "      <td>0</td>\n",
       "      <td>0</td>\n",
       "      <td>1</td>\n",
       "      <td>0</td>\n",
       "      <td>0</td>\n",
       "      <td>0</td>\n",
       "      <td>0</td>\n",
       "      <td>0</td>\n",
       "      <td>1</td>\n",
       "      <td>1</td>\n",
       "      <td>0</td>\n",
       "      <td>0</td>\n",
       "      <td>0</td>\n",
       "      <td>0</td>\n",
       "      <td>0</td>\n",
       "      <td>0</td>\n",
       "      <td>0</td>\n",
       "      <td>0</td>\n",
       "      <td>0</td>\n",
       "      <td>0</td>\n",
       "      <td>1</td>\n",
       "      <td>0</td>\n",
       "      <td>0</td>\n",
       "      <td>0</td>\n",
       "      <td>0</td>\n",
       "      <td>0</td>\n",
       "      <td>0</td>\n",
       "      <td>0</td>\n",
       "      <td>0</td>\n",
       "      <td>0</td>\n",
       "      <td>0</td>\n",
       "      <td>0</td>\n",
       "      <td>0</td>\n",
       "      <td>0</td>\n",
       "      <td>0</td>\n",
       "      <td>0</td>\n",
       "      <td>0</td>\n",
       "      <td>0</td>\n",
       "      <td>0</td>\n",
       "      <td>0</td>\n",
       "      <td>0</td>\n",
       "      <td>0</td>\n",
       "      <td>0</td>\n",
       "      <td>0</td>\n",
       "      <td>0</td>\n",
       "      <td>0</td>\n",
       "      <td>0</td>\n",
       "      <td>0</td>\n",
       "      <td>0</td>\n",
       "      <td>0</td>\n",
       "      <td>0</td>\n",
       "      <td>0</td>\n",
       "      <td>0</td>\n",
       "      <td>0</td>\n",
       "      <td>0</td>\n",
       "      <td>0</td>\n",
       "      <td>0</td>\n",
       "      <td>0</td>\n",
       "      <td>0</td>\n",
       "      <td>0</td>\n",
       "      <td>0</td>\n",
       "      <td>1</td>\n",
       "      <td>0</td>\n",
       "      <td>0</td>\n",
       "      <td>0</td>\n",
       "      <td>0</td>\n",
       "      <td>0</td>\n",
       "      <td>0</td>\n",
       "      <td>0</td>\n",
       "      <td>0</td>\n",
       "      <td>0</td>\n",
       "      <td>0</td>\n",
       "      <td>0</td>\n",
       "      <td>0</td>\n",
       "      <td>0</td>\n",
       "      <td>0</td>\n",
       "      <td>0</td>\n",
       "      <td>0</td>\n",
       "    </tr>\n",
       "  </tbody>\n",
       "</table>\n",
       "</div>"
      ],
      "text/plain": [
       "   loan_amnt  funded_amnt  funded_amnt_inv  term  int_rate  installment  \\\n",
       "0     5000.0       5000.0           4975.0     3     10.65       162.87   \n",
       "1     2500.0       2500.0           2500.0     5     15.27        59.83   \n",
       "2     2400.0       2400.0           2400.0     3     15.96        84.33   \n",
       "3    10000.0      10000.0          10000.0     3     13.49       339.31   \n",
       "4     3000.0       3000.0           3000.0     5     12.69        67.79   \n",
       "\n",
       "   grade  emp_length  annual_inc  pymnt_plan    dti  delinq_2yrs  \\\n",
       "0    5.8        10.0     24000.0           0  27.65          0.0   \n",
       "1    4.4         0.5     30000.0           0   1.00          0.0   \n",
       "2    4.2        10.0     12252.0           0   8.72          0.0   \n",
       "3    5.0        10.0     49200.0           0  20.00          0.0   \n",
       "4    5.2         1.0     80000.0           0  17.94          0.0   \n",
       "\n",
       "   earliest_cr_line  inq_last_6mths  mths_since_last_delinq  \\\n",
       "0            724642             1.0                     NaN   \n",
       "1            729845             5.0                     NaN   \n",
       "2            730790             2.0                     NaN   \n",
       "3            728690             1.0                    35.0   \n",
       "4            728659             0.0                    38.0   \n",
       "\n",
       "   mths_since_last_record  open_acc  pub_rec  revol_bal  revol_util  \\\n",
       "0                     NaN       3.0      0.0    13648.0        83.7   \n",
       "1                     NaN       3.0      0.0     1687.0         9.4   \n",
       "2                     NaN       2.0      0.0     2956.0        98.5   \n",
       "3                     NaN      10.0      0.0     5598.0        21.0   \n",
       "4                     NaN      15.0      0.0    27783.0        53.9   \n",
       "\n",
       "   total_acc  initial_list_status  last_pymnt_amnt  last_credit_pull_d  \\\n",
       "0        9.0                    0           171.62              735964   \n",
       "1        4.0                    0           119.66              735112   \n",
       "2       10.0                    0           649.91              735964   \n",
       "3       37.0                    0           357.48              735599   \n",
       "4       38.0                    0            67.79              735964   \n",
       "\n",
       "   collections_12_mths_ex_med  mths_since_last_major_derog  application_type  \\\n",
       "0                         0.0                          NaN                 0   \n",
       "1                         0.0                          NaN                 0   \n",
       "2                         0.0                          NaN                 0   \n",
       "3                         0.0                          NaN                 0   \n",
       "4                         0.0                          NaN                 0   \n",
       "\n",
       "   annual_inc_joint  dti_joint  acc_now_delinq  tot_coll_amt  tot_cur_bal  \\\n",
       "0               NaN        NaN             0.0           NaN          NaN   \n",
       "1               NaN        NaN             0.0           NaN          NaN   \n",
       "2               NaN        NaN             0.0           NaN          NaN   \n",
       "3               NaN        NaN             0.0           NaN          NaN   \n",
       "4               NaN        NaN             0.0           NaN          NaN   \n",
       "\n",
       "   open_acc_6m  open_il_6m  open_il_12m  open_il_24m  mths_since_rcnt_il  \\\n",
       "0          NaN         NaN          NaN          NaN                 NaN   \n",
       "1          NaN         NaN          NaN          NaN                 NaN   \n",
       "2          NaN         NaN          NaN          NaN                 NaN   \n",
       "3          NaN         NaN          NaN          NaN                 NaN   \n",
       "4          NaN         NaN          NaN          NaN                 NaN   \n",
       "\n",
       "   total_bal_il  il_util  open_rv_12m  open_rv_24m  max_bal_bc  all_util  \\\n",
       "0           NaN      NaN          NaN          NaN         NaN       NaN   \n",
       "1           NaN      NaN          NaN          NaN         NaN       NaN   \n",
       "2           NaN      NaN          NaN          NaN         NaN       NaN   \n",
       "3           NaN      NaN          NaN          NaN         NaN       NaN   \n",
       "4           NaN      NaN          NaN          NaN         NaN       NaN   \n",
       "\n",
       "   total_rev_hi_lim  inq_fi  total_cu_tl  inq_last_12m  emp_type_Accountant  \\\n",
       "0               NaN     NaN          NaN           NaN                    0   \n",
       "1               NaN     NaN          NaN           NaN                    0   \n",
       "2               NaN     NaN          NaN           NaN                    0   \n",
       "3               NaN     NaN          NaN           NaN                    0   \n",
       "4               NaN     NaN          NaN           NaN                    0   \n",
       "\n",
       "   emp_type_Admin  emp_type_Analyst  emp_type_Assistant  emp_type_Clergy  \\\n",
       "0               0                 0                   0                0   \n",
       "1               0                 0                   0                0   \n",
       "2               0                 0                   0                0   \n",
       "3               0                 0                   0                0   \n",
       "4               0                 0                   0                0   \n",
       "\n",
       "   emp_type_Clerk  emp_type_Designer  emp_type_Director  emp_type_Education  \\\n",
       "0               0                  0                  0                   0   \n",
       "1               0                  0                  0                   0   \n",
       "2               0                  0                  0                   0   \n",
       "3               0                  0                  0                   0   \n",
       "4               0                  0                  0                   0   \n",
       "\n",
       "   emp_type_Executive  emp_type_Finance  emp_type_Healer  emp_type_Law  \\\n",
       "0                   0                 0                0             0   \n",
       "1                   0                 0                0             0   \n",
       "2                   0                 0                0             0   \n",
       "3                   0                 0                0             0   \n",
       "4                   0                 0                0             0   \n",
       "\n",
       "   emp_type_Manager  emp_type_Manlab  emp_type_Operator  emp_type_Sales  \\\n",
       "0                 0                0                  0               0   \n",
       "1                 0                0                  0               0   \n",
       "2                 0                0                  0               0   \n",
       "3                 0                0                  0               0   \n",
       "4                 0                0                  0               0   \n",
       "\n",
       "   emp_type_Service  emp_type_Technical  emp_type_Unemployed  emp_type_Vol  \\\n",
       "0                 0                   0                    1             0   \n",
       "1                 0                   0                    0             0   \n",
       "2                 0                   0                    1             0   \n",
       "3                 0                   0                    0             0   \n",
       "4                 0                   1                    0             0   \n",
       "\n",
       "   emp_type_other  home_ownership_OTHER  home_ownership_OWN  \\\n",
       "0               0                     0                   0   \n",
       "1               1                     0                   0   \n",
       "2               0                     0                   0   \n",
       "3               1                     0                   0   \n",
       "4               0                     0                   0   \n",
       "\n",
       "   home_ownership_RENT  verification_status_Source Verified  \\\n",
       "0                    1                                    0   \n",
       "1                    1                                    1   \n",
       "2                    1                                    0   \n",
       "3                    1                                    1   \n",
       "4                    1                                    1   \n",
       "\n",
       "   verification_status_Verified  purpose_car  purpose_credit_card  \\\n",
       "0                             1            0                    1   \n",
       "1                             0            1                    0   \n",
       "2                             0            0                    0   \n",
       "3                             0            0                    0   \n",
       "4                             0            0                    0   \n",
       "\n",
       "   purpose_debt_consolidation  purpose_educational  purpose_home_improvement  \\\n",
       "0                           0                    0                         0   \n",
       "1                           0                    0                         0   \n",
       "2                           0                    0                         0   \n",
       "3                           0                    0                         0   \n",
       "4                           0                    0                         0   \n",
       "\n",
       "   purpose_house  purpose_major_purchase  purpose_medical  purpose_moving  \\\n",
       "0              0                       0                0               0   \n",
       "1              0                       0                0               0   \n",
       "2              0                       0                0               0   \n",
       "3              0                       0                0               0   \n",
       "4              0                       0                0               0   \n",
       "\n",
       "   purpose_other  purpose_renewable_energy  purpose_small_business  \\\n",
       "0              0                         0                       0   \n",
       "1              0                         0                       0   \n",
       "2              0                         0                       1   \n",
       "3              1                         0                       0   \n",
       "4              1                         0                       0   \n",
       "\n",
       "   purpose_vacation  purpose_wedding  addr_state_AL  addr_state_AR  \\\n",
       "0                 0                0              0              0   \n",
       "1                 0                0              0              0   \n",
       "2                 0                0              0              0   \n",
       "3                 0                0              0              0   \n",
       "4                 0                0              0              0   \n",
       "\n",
       "   addr_state_AZ  addr_state_CA  addr_state_CO  addr_state_CT  addr_state_DC  \\\n",
       "0              1              0              0              0              0   \n",
       "1              0              0              0              0              0   \n",
       "2              0              0              0              0              0   \n",
       "3              0              1              0              0              0   \n",
       "4              0              0              0              0              0   \n",
       "\n",
       "   addr_state_DE  addr_state_FL  addr_state_GA  addr_state_HI  addr_state_IA  \\\n",
       "0              0              0              0              0              0   \n",
       "1              0              0              1              0              0   \n",
       "2              0              0              0              0              0   \n",
       "3              0              0              0              0              0   \n",
       "4              0              0              0              0              0   \n",
       "\n",
       "   addr_state_ID  addr_state_IL  addr_state_IN  addr_state_KS  addr_state_KY  \\\n",
       "0              0              0              0              0              0   \n",
       "1              0              0              0              0              0   \n",
       "2              0              1              0              0              0   \n",
       "3              0              0              0              0              0   \n",
       "4              0              0              0              0              0   \n",
       "\n",
       "   addr_state_LA  addr_state_MA  addr_state_MD  addr_state_ME  addr_state_MI  \\\n",
       "0              0              0              0              0              0   \n",
       "1              0              0              0              0              0   \n",
       "2              0              0              0              0              0   \n",
       "3              0              0              0              0              0   \n",
       "4              0              0              0              0              0   \n",
       "\n",
       "   addr_state_MN  addr_state_MO  addr_state_MS  addr_state_MT  addr_state_NC  \\\n",
       "0              0              0              0              0              0   \n",
       "1              0              0              0              0              0   \n",
       "2              0              0              0              0              0   \n",
       "3              0              0              0              0              0   \n",
       "4              0              0              0              0              0   \n",
       "\n",
       "   addr_state_ND  addr_state_NE  addr_state_NH  addr_state_NJ  addr_state_NM  \\\n",
       "0              0              0              0              0              0   \n",
       "1              0              0              0              0              0   \n",
       "2              0              0              0              0              0   \n",
       "3              0              0              0              0              0   \n",
       "4              0              0              0              0              0   \n",
       "\n",
       "   addr_state_NV  addr_state_NY  addr_state_OH  addr_state_OK  addr_state_OR  \\\n",
       "0              0              0              0              0              0   \n",
       "1              0              0              0              0              0   \n",
       "2              0              0              0              0              0   \n",
       "3              0              0              0              0              0   \n",
       "4              0              0              0              0              1   \n",
       "\n",
       "   addr_state_PA  addr_state_RI  addr_state_SC  addr_state_SD  addr_state_TN  \\\n",
       "0              0              0              0              0              0   \n",
       "1              0              0              0              0              0   \n",
       "2              0              0              0              0              0   \n",
       "3              0              0              0              0              0   \n",
       "4              0              0              0              0              0   \n",
       "\n",
       "   addr_state_TX  addr_state_UT  addr_state_VA  addr_state_VT  addr_state_WA  \\\n",
       "0              0              0              0              0              0   \n",
       "1              0              0              0              0              0   \n",
       "2              0              0              0              0              0   \n",
       "3              0              0              0              0              0   \n",
       "4              0              0              0              0              0   \n",
       "\n",
       "   addr_state_WI  addr_state_WV  addr_state_WY  \\\n",
       "0              0              0              0   \n",
       "1              0              0              0   \n",
       "2              0              0              0   \n",
       "3              0              0              0   \n",
       "4              0              0              0   \n",
       "\n",
       "   verification_status_joint_Not Verified  \\\n",
       "0                                       0   \n",
       "1                                       0   \n",
       "2                                       0   \n",
       "3                                       0   \n",
       "4                                       0   \n",
       "\n",
       "   verification_status_joint_Source Verified  \\\n",
       "0                                          0   \n",
       "1                                          0   \n",
       "2                                          0   \n",
       "3                                          0   \n",
       "4                                          0   \n",
       "\n",
       "   verification_status_joint_Verified  \n",
       "0                                   0  \n",
       "1                                   0  \n",
       "2                                   0  \n",
       "3                                   0  \n",
       "4                                   0  "
      ]
     },
     "execution_count": 221,
     "metadata": {},
     "output_type": "execute_result"
    }
   ],
   "source": [
    "X.head()"
   ]
  },
  {
   "attachments": {},
   "cell_type": "markdown",
   "metadata": {},
   "source": [
    "## **Missing Values**"
   ]
  },
  {
   "cell_type": "code",
   "execution_count": 222,
   "metadata": {},
   "outputs": [
    {
     "data": {
      "image/png": "[encoded data removed]",
      "text/plain": [
       "<Figure size 3000x700 with 1 Axes>"
      ]
     },
     "metadata": {},
     "output_type": "display_data"
    }
   ],
   "source": [
    "plt.figure(figsize = (30,7));\n",
    "# Plot missing values for each column\n",
    "plt.bar(x = X.columns, height = X.isna().sum()/X.shape[0])\n",
    "# hide the names of the columns for a cleaner graph\n",
    "plt.xticks([]);\n",
    "# Set the scale to log so I can see every column that has a missing value\n",
    "plt.yscale('log');"
   ]
  },
  {
   "cell_type": "code",
   "execution_count": 223,
   "metadata": {},
   "outputs": [
    {
     "data": {
      "text/plain": [
       "['annual_inc',\n",
       " 'delinq_2yrs',\n",
       " 'inq_last_6mths',\n",
       " 'mths_since_last_delinq',\n",
       " 'mths_since_last_record',\n",
       " 'open_acc',\n",
       " 'pub_rec',\n",
       " 'revol_util',\n",
       " 'total_acc',\n",
       " 'collections_12_mths_ex_med',\n",
       " 'mths_since_last_major_derog',\n",
       " 'annual_inc_joint',\n",
       " 'dti_joint',\n",
       " 'acc_now_delinq',\n",
       " 'tot_coll_amt',\n",
       " 'tot_cur_bal',\n",
       " 'open_acc_6m',\n",
       " 'open_il_6m',\n",
       " 'open_il_12m',\n",
       " 'open_il_24m',\n",
       " 'mths_since_rcnt_il',\n",
       " 'total_bal_il',\n",
       " 'il_util',\n",
       " 'open_rv_12m',\n",
       " 'open_rv_24m',\n",
       " 'max_bal_bc',\n",
       " 'all_util',\n",
       " 'total_rev_hi_lim',\n",
       " 'inq_fi',\n",
       " 'total_cu_tl',\n",
       " 'inq_last_12m']"
      ]
     },
     "execution_count": 223,
     "metadata": {},
     "output_type": "execute_result"
    }
   ],
   "source": [
    "list(X.columns[X.isna().sum()/X.shape[0] > 0])"
   ]
  },
  {
   "attachments": {},
   "cell_type": "markdown",
   "metadata": {},
   "source": [
    "The imputation of values for this dataset is the most challenging aspect of this project. There are many columns that have large swaths of missing values that need reasonable values filled in so as to allow the algorithms to capture the existing patterns in the data instead of artificial ones coming from synthetic data.\n",
    "\n",
    "My assumption was that most missing values were zeroes that people forgot to fill out on forms or didn't bother with. For instance 'open_il_12m' refers to the number of opened installment accounts in the last 12 months. If there isn't any information on the number of installment accounts, then there likely aren't any installment accounts. \n",
    "\n",
    "Values such as 'mths_since_last_delinq' or months since last delinquent are different because if someone was never delinquent than the correct answer isn't 0 which would imply that they are currently delinquent but a very high number. The higher the value, the better the outcome on their loan. I can use 1000 since it is 83 years worth of non-delinquency.  "
   ]
  },
  {
   "cell_type": "code",
   "execution_count": 224,
   "metadata": {},
   "outputs": [],
   "source": [
    "# Create a list with all of the columns that have missing values to be filled with 0\n",
    "fill_with_zero = ['annual_inc', 'delinq_2yrs', 'inq_last_6mths', 'open_acc',\n",
    "                  'pub_rec', 'revol_util', 'total_acc', 'collections_12_mths_ex_med',\n",
    "                  'acc_now_delinq', 'tot_coll_amt', 'tot_cur_bal', 'open_acc_6m',\n",
    "                  'open_il_6m', 'open_il_12m', 'open_il_24m','total_bal_il', 'il_util',\n",
    "                  'open_rv_12m', 'open_rv_24m', 'max_bal_bc', 'all_util', 'total_rev_hi_lim',\n",
    "                  'inq_fi', 'total_cu_tl', 'inq_last_12m']\n",
    "\n",
    "# Fill those columns with 0\n",
    "X[fill_with_zero] = X[fill_with_zero].fillna(0)"
   ]
  },
  {
   "cell_type": "code",
   "execution_count": 225,
   "metadata": {},
   "outputs": [],
   "source": [
    "# Create a list with all of the columns that have missing values to be filled with 1000\n",
    "fill_with_1000 = ['mths_since_last_delinq', 'mths_since_last_record',\n",
    "                  'mths_since_last_major_derog', 'mths_since_rcnt_il']\n",
    "# Fill those columns with 0\n",
    "X[fill_with_1000] = X[fill_with_1000].fillna(1000)"
   ]
  },
  {
   "cell_type": "code",
   "execution_count": 227,
   "metadata": {},
   "outputs": [
    {
     "data": {
      "text/plain": [
       "['annual_inc_joint', 'dti_joint']"
      ]
     },
     "execution_count": 227,
     "metadata": {},
     "output_type": "execute_result"
    }
   ],
   "source": [
    "# List out all the columns that still having missing values\n",
    "list(X.columns[X.isna().sum()/X.shape[0] > 0])"
   ]
  },
  {
   "cell_type": "code",
   "execution_count": 228,
   "metadata": {},
   "outputs": [],
   "source": [
    "# Combine annual inc columns joint and indiv into one.\n",
    "X['annual_inc'] = [loan['annual_inc'][i] if math.isnan(x) else x for i, x in enumerate(loan['annual_inc_joint'])]\n",
    "# Create a column that documents if the column above is joint or indiv\n",
    "X['inc_joint'] = np.where(loan['annual_inc_joint'].isnull(), 0, 1)"
   ]
  },
  {
   "cell_type": "code",
   "execution_count": 229,
   "metadata": {},
   "outputs": [],
   "source": [
    "# Combine dti columns joint and indiv into one.\n",
    "X['dti'] = [X['dti'][i] if math.isnan(x) else x for i, x in enumerate(X['dti_joint'])]\n",
    "# Create a column that documents if the column above is joint or indiv\n",
    "X['dti_joint'] = np.where(loan['dti_joint'].isnull(), 0, 1)"
   ]
  },
  {
   "cell_type": "code",
   "execution_count": 230,
   "metadata": {},
   "outputs": [
    {
     "data": {
      "text/plain": [
       "['annual_inc', 'annual_inc_joint']"
      ]
     },
     "execution_count": 230,
     "metadata": {},
     "output_type": "execute_result"
    }
   ],
   "source": [
    "# Check to see if there are still missing columns\n",
    "list(X.columns[X.isna().sum()/X.shape[0] > 0])"
   ]
  },
  {
   "cell_type": "code",
   "execution_count": 235,
   "metadata": {},
   "outputs": [],
   "source": [
    "# Drop 'annual_inc_joint' now that it has been added to 'annual_inc'\n",
    "X.drop('annual_inc_joint', axis = 1, inplace = True)\n",
    "# Fill in the missing values with 0 as the assumption is there is no income\n",
    "X['annual_inc'].fillna(0, inplace = True)"
   ]
  },
  {
   "cell_type": "code",
   "execution_count": 240,
   "metadata": {},
   "outputs": [
    {
     "data": {
      "text/plain": [
       "[]"
      ]
     },
     "execution_count": 240,
     "metadata": {},
     "output_type": "execute_result"
    }
   ],
   "source": [
    "# Check to see if there are still missing columns\n",
    "list(X.columns[X.isna().sum()/X.shape[0] > 0])"
   ]
  },
  {
   "cell_type": "code",
   "execution_count": 236,
   "metadata": {},
   "outputs": [],
   "source": [
    "# Initialize the standard scaler\n",
    "scaler = StandardScaler()\n",
    "# Fit and transform X into a dataframe so that I can keep using pandas\n",
    "X_scaled = pd.DataFrame(scaler.fit_transform(X), columns = X.columns)"
   ]
  },
  {
   "cell_type": "code",
   "execution_count": 239,
   "metadata": {},
   "outputs": [
    {
     "data": {
      "text/html": [
       "<div>\n",
       "<style scoped>\n",
       "    .dataframe tbody tr th:only-of-type {\n",
       "        vertical-align: middle;\n",
       "    }\n",
       "\n",
       "    .dataframe tbody tr th {\n",
       "        vertical-align: top;\n",
       "    }\n",
       "\n",
       "    .dataframe thead th {\n",
       "        text-align: right;\n",
       "    }\n",
       "</style>\n",
       "<table border=\"1\" class=\"dataframe\">\n",
       "  <thead>\n",
       "    <tr style=\"text-align: right;\">\n",
       "      <th></th>\n",
       "      <th>loan_amnt</th>\n",
       "      <th>funded_amnt</th>\n",
       "      <th>funded_amnt_inv</th>\n",
       "      <th>term</th>\n",
       "      <th>int_rate</th>\n",
       "      <th>installment</th>\n",
       "      <th>grade</th>\n",
       "      <th>emp_length</th>\n",
       "      <th>annual_inc</th>\n",
       "      <th>pymnt_plan</th>\n",
       "      <th>dti</th>\n",
       "      <th>delinq_2yrs</th>\n",
       "      <th>earliest_cr_line</th>\n",
       "      <th>inq_last_6mths</th>\n",
       "      <th>mths_since_last_delinq</th>\n",
       "      <th>mths_since_last_record</th>\n",
       "      <th>open_acc</th>\n",
       "      <th>pub_rec</th>\n",
       "      <th>revol_bal</th>\n",
       "      <th>revol_util</th>\n",
       "      <th>total_acc</th>\n",
       "      <th>initial_list_status</th>\n",
       "      <th>last_pymnt_amnt</th>\n",
       "      <th>last_credit_pull_d</th>\n",
       "      <th>collections_12_mths_ex_med</th>\n",
       "      <th>mths_since_last_major_derog</th>\n",
       "      <th>application_type</th>\n",
       "      <th>dti_joint</th>\n",
       "      <th>acc_now_delinq</th>\n",
       "      <th>tot_coll_amt</th>\n",
       "      <th>tot_cur_bal</th>\n",
       "      <th>open_acc_6m</th>\n",
       "      <th>open_il_6m</th>\n",
       "      <th>open_il_12m</th>\n",
       "      <th>open_il_24m</th>\n",
       "      <th>mths_since_rcnt_il</th>\n",
       "      <th>total_bal_il</th>\n",
       "      <th>il_util</th>\n",
       "      <th>open_rv_12m</th>\n",
       "      <th>open_rv_24m</th>\n",
       "      <th>max_bal_bc</th>\n",
       "      <th>all_util</th>\n",
       "      <th>total_rev_hi_lim</th>\n",
       "      <th>inq_fi</th>\n",
       "      <th>total_cu_tl</th>\n",
       "      <th>inq_last_12m</th>\n",
       "      <th>emp_type_Accountant</th>\n",
       "      <th>emp_type_Admin</th>\n",
       "      <th>emp_type_Analyst</th>\n",
       "      <th>emp_type_Assistant</th>\n",
       "      <th>emp_type_Clergy</th>\n",
       "      <th>emp_type_Clerk</th>\n",
       "      <th>emp_type_Designer</th>\n",
       "      <th>emp_type_Director</th>\n",
       "      <th>emp_type_Education</th>\n",
       "      <th>emp_type_Executive</th>\n",
       "      <th>emp_type_Finance</th>\n",
       "      <th>emp_type_Healer</th>\n",
       "      <th>emp_type_Law</th>\n",
       "      <th>emp_type_Manager</th>\n",
       "      <th>emp_type_Manlab</th>\n",
       "      <th>emp_type_Operator</th>\n",
       "      <th>emp_type_Sales</th>\n",
       "      <th>emp_type_Service</th>\n",
       "      <th>emp_type_Technical</th>\n",
       "      <th>emp_type_Unemployed</th>\n",
       "      <th>emp_type_Vol</th>\n",
       "      <th>emp_type_other</th>\n",
       "      <th>home_ownership_OTHER</th>\n",
       "      <th>home_ownership_OWN</th>\n",
       "      <th>home_ownership_RENT</th>\n",
       "      <th>verification_status_Source Verified</th>\n",
       "      <th>verification_status_Verified</th>\n",
       "      <th>purpose_car</th>\n",
       "      <th>purpose_credit_card</th>\n",
       "      <th>purpose_debt_consolidation</th>\n",
       "      <th>purpose_educational</th>\n",
       "      <th>purpose_home_improvement</th>\n",
       "      <th>purpose_house</th>\n",
       "      <th>purpose_major_purchase</th>\n",
       "      <th>purpose_medical</th>\n",
       "      <th>purpose_moving</th>\n",
       "      <th>purpose_other</th>\n",
       "      <th>purpose_renewable_energy</th>\n",
       "      <th>purpose_small_business</th>\n",
       "      <th>purpose_vacation</th>\n",
       "      <th>purpose_wedding</th>\n",
       "      <th>addr_state_AL</th>\n",
       "      <th>addr_state_AR</th>\n",
       "      <th>addr_state_AZ</th>\n",
       "      <th>addr_state_CA</th>\n",
       "      <th>addr_state_CO</th>\n",
       "      <th>addr_state_CT</th>\n",
       "      <th>addr_state_DC</th>\n",
       "      <th>addr_state_DE</th>\n",
       "      <th>addr_state_FL</th>\n",
       "      <th>addr_state_GA</th>\n",
       "      <th>addr_state_HI</th>\n",
       "      <th>addr_state_IA</th>\n",
       "      <th>addr_state_ID</th>\n",
       "      <th>addr_state_IL</th>\n",
       "      <th>addr_state_IN</th>\n",
       "      <th>addr_state_KS</th>\n",
       "      <th>addr_state_KY</th>\n",
       "      <th>addr_state_LA</th>\n",
       "      <th>addr_state_MA</th>\n",
       "      <th>addr_state_MD</th>\n",
       "      <th>addr_state_ME</th>\n",
       "      <th>addr_state_MI</th>\n",
       "      <th>addr_state_MN</th>\n",
       "      <th>addr_state_MO</th>\n",
       "      <th>addr_state_MS</th>\n",
       "      <th>addr_state_MT</th>\n",
       "      <th>addr_state_NC</th>\n",
       "      <th>addr_state_ND</th>\n",
       "      <th>addr_state_NE</th>\n",
       "      <th>addr_state_NH</th>\n",
       "      <th>addr_state_NJ</th>\n",
       "      <th>addr_state_NM</th>\n",
       "      <th>addr_state_NV</th>\n",
       "      <th>addr_state_NY</th>\n",
       "      <th>addr_state_OH</th>\n",
       "      <th>addr_state_OK</th>\n",
       "      <th>addr_state_OR</th>\n",
       "      <th>addr_state_PA</th>\n",
       "      <th>addr_state_RI</th>\n",
       "      <th>addr_state_SC</th>\n",
       "      <th>addr_state_SD</th>\n",
       "      <th>addr_state_TN</th>\n",
       "      <th>addr_state_TX</th>\n",
       "      <th>addr_state_UT</th>\n",
       "      <th>addr_state_VA</th>\n",
       "      <th>addr_state_VT</th>\n",
       "      <th>addr_state_WA</th>\n",
       "      <th>addr_state_WI</th>\n",
       "      <th>addr_state_WV</th>\n",
       "      <th>addr_state_WY</th>\n",
       "      <th>verification_status_joint_Not Verified</th>\n",
       "      <th>verification_status_joint_Source Verified</th>\n",
       "      <th>verification_status_joint_Verified</th>\n",
       "      <th>inc_joint</th>\n",
       "    </tr>\n",
       "  </thead>\n",
       "  <tbody>\n",
       "    <tr>\n",
       "      <th>0</th>\n",
       "      <td>-1.156460</td>\n",
       "      <td>-1.155635</td>\n",
       "      <td>-1.152256</td>\n",
       "      <td>-0.654724</td>\n",
       "      <td>-0.592611</td>\n",
       "      <td>-1.121467</td>\n",
       "      <td>0.763889</td>\n",
       "      <td>1.134870</td>\n",
       "      <td>-0.789014</td>\n",
       "      <td>-0.003357</td>\n",
       "      <td>1.147690</td>\n",
       "      <td>-0.364672</td>\n",
       "      <td>-1.771866</td>\n",
       "      <td>0.305877</td>\n",
       "      <td>0.975849</td>\n",
       "      <td>0.427154</td>\n",
       "      <td>-1.607499</td>\n",
       "      <td>-0.335522</td>\n",
       "      <td>-0.145932</td>\n",
       "      <td>1.201140</td>\n",
       "      <td>-1.373775</td>\n",
       "      <td>-0.97077</td>\n",
       "      <td>-0.415561</td>\n",
       "      <td>0.302329</td>\n",
       "      <td>-0.107149</td>\n",
       "      <td>0.576897</td>\n",
       "      <td>-0.024004</td>\n",
       "      <td>-0.023957</td>\n",
       "      <td>-0.064298</td>\n",
       "      <td>-0.021004</td>\n",
       "      <td>-0.843347</td>\n",
       "      <td>-0.103891</td>\n",
       "      <td>-0.107375</td>\n",
       "      <td>-0.094692</td>\n",
       "      <td>-0.109934</td>\n",
       "      <td>0.154904</td>\n",
       "      <td>-0.100884</td>\n",
       "      <td>-0.139209</td>\n",
       "      <td>-0.105267</td>\n",
       "      <td>-0.117038</td>\n",
       "      <td>-0.116273</td>\n",
       "      <td>-0.149047</td>\n",
       "      <td>-0.79786</td>\n",
       "      <td>-0.085105</td>\n",
       "      <td>-0.076504</td>\n",
       "      <td>-0.088306</td>\n",
       "      <td>-0.109205</td>\n",
       "      <td>-0.104843</td>\n",
       "      <td>-0.157505</td>\n",
       "      <td>-0.147428</td>\n",
       "      <td>-0.039637</td>\n",
       "      <td>-0.077757</td>\n",
       "      <td>-0.052789</td>\n",
       "      <td>-0.196448</td>\n",
       "      <td>-0.186479</td>\n",
       "      <td>-0.180873</td>\n",
       "      <td>-0.117117</td>\n",
       "      <td>-0.245189</td>\n",
       "      <td>-0.046832</td>\n",
       "      <td>-0.435078</td>\n",
       "      <td>-0.082293</td>\n",
       "      <td>-0.169413</td>\n",
       "      <td>-0.142468</td>\n",
       "      <td>-0.160378</td>\n",
       "      <td>-0.395006</td>\n",
       "      <td>4.030308</td>\n",
       "      <td>-0.172517</td>\n",
       "      <td>-0.631040</td>\n",
       "      <td>-0.016276</td>\n",
       "      <td>-0.330681</td>\n",
       "      <td>1.2214</td>\n",
       "      <td>-0.768632</td>\n",
       "      <td>1.431317</td>\n",
       "      <td>-0.100442</td>\n",
       "      <td>1.817653</td>\n",
       "      <td>-1.201443</td>\n",
       "      <td>-0.021838</td>\n",
       "      <td>-0.249058</td>\n",
       "      <td>-0.064769</td>\n",
       "      <td>-0.140912</td>\n",
       "      <td>-0.098577</td>\n",
       "      <td>-0.078349</td>\n",
       "      <td>-0.225373</td>\n",
       "      <td>-0.025464</td>\n",
       "      <td>-0.108777</td>\n",
       "      <td>-0.073251</td>\n",
       "      <td>-0.051496</td>\n",
       "      <td>-0.113061</td>\n",
       "      <td>-0.086828</td>\n",
       "      <td>6.517162</td>\n",
       "      <td>-0.413398</td>\n",
       "      <td>-0.147149</td>\n",
       "      <td>-0.124436</td>\n",
       "      <td>-0.052423</td>\n",
       "      <td>-0.05327</td>\n",
       "      <td>-0.271536</td>\n",
       "      <td>-0.184084</td>\n",
       "      <td>-0.071949</td>\n",
       "      <td>-0.003972</td>\n",
       "      <td>-0.003677</td>\n",
       "      <td>-0.204067</td>\n",
       "      <td>-0.125636</td>\n",
       "      <td>-0.094934</td>\n",
       "      <td>-0.098635</td>\n",
       "      <td>-0.109885</td>\n",
       "      <td>-0.154136</td>\n",
       "      <td>-0.155806</td>\n",
       "      <td>-0.024331</td>\n",
       "      <td>-0.163067</td>\n",
       "      <td>-0.13532</td>\n",
       "      <td>-0.127556</td>\n",
       "      <td>-0.065744</td>\n",
       "      <td>-0.053768</td>\n",
       "      <td>-0.16928</td>\n",
       "      <td>-0.02324</td>\n",
       "      <td>-0.036428</td>\n",
       "      <td>-0.069732</td>\n",
       "      <td>-0.197322</td>\n",
       "      <td>-0.074813</td>\n",
       "      <td>-0.119254</td>\n",
       "      <td>-0.301818</td>\n",
       "      <td>-0.185863</td>\n",
       "      <td>-0.09589</td>\n",
       "      <td>-0.111481</td>\n",
       "      <td>-0.191506</td>\n",
       "      <td>-0.066381</td>\n",
       "      <td>-0.110158</td>\n",
       "      <td>-0.045272</td>\n",
       "      <td>-0.121394</td>\n",
       "      <td>-0.295217</td>\n",
       "      <td>-0.084316</td>\n",
       "      <td>-0.174612</td>\n",
       "      <td>-0.045046</td>\n",
       "      <td>-0.149636</td>\n",
       "      <td>-0.114958</td>\n",
       "      <td>-0.070478</td>\n",
       "      <td>-0.04786</td>\n",
       "      <td>-0.017861</td>\n",
       "      <td>-0.008291</td>\n",
       "      <td>-0.01372</td>\n",
       "      <td>-0.024004</td>\n",
       "    </tr>\n",
       "    <tr>\n",
       "      <th>1</th>\n",
       "      <td>-1.452829</td>\n",
       "      <td>-1.452198</td>\n",
       "      <td>-1.445430</td>\n",
       "      <td>1.527360</td>\n",
       "      <td>0.461735</td>\n",
       "      <td>-1.543440</td>\n",
       "      <td>-0.314193</td>\n",
       "      <td>-1.398891</td>\n",
       "      <td>-0.696292</td>\n",
       "      <td>-0.003357</td>\n",
       "      <td>-2.063920</td>\n",
       "      <td>-0.364672</td>\n",
       "      <td>0.143584</td>\n",
       "      <td>4.312132</td>\n",
       "      <td>0.975849</td>\n",
       "      <td>0.427154</td>\n",
       "      <td>-1.607499</td>\n",
       "      <td>-0.335522</td>\n",
       "      <td>-0.679268</td>\n",
       "      <td>-1.912396</td>\n",
       "      <td>-1.796028</td>\n",
       "      <td>-0.97077</td>\n",
       "      <td>-0.426398</td>\n",
       "      <td>-3.540893</td>\n",
       "      <td>-0.107149</td>\n",
       "      <td>0.576897</td>\n",
       "      <td>-0.024004</td>\n",
       "      <td>-0.023957</td>\n",
       "      <td>-0.064298</td>\n",
       "      <td>-0.021004</td>\n",
       "      <td>-0.843347</td>\n",
       "      <td>-0.103891</td>\n",
       "      <td>-0.107375</td>\n",
       "      <td>-0.094692</td>\n",
       "      <td>-0.109934</td>\n",
       "      <td>0.154904</td>\n",
       "      <td>-0.100884</td>\n",
       "      <td>-0.139209</td>\n",
       "      <td>-0.105267</td>\n",
       "      <td>-0.117038</td>\n",
       "      <td>-0.116273</td>\n",
       "      <td>-0.149047</td>\n",
       "      <td>-0.79786</td>\n",
       "      <td>-0.085105</td>\n",
       "      <td>-0.076504</td>\n",
       "      <td>-0.088306</td>\n",
       "      <td>-0.109205</td>\n",
       "      <td>-0.104843</td>\n",
       "      <td>-0.157505</td>\n",
       "      <td>-0.147428</td>\n",
       "      <td>-0.039637</td>\n",
       "      <td>-0.077757</td>\n",
       "      <td>-0.052789</td>\n",
       "      <td>-0.196448</td>\n",
       "      <td>-0.186479</td>\n",
       "      <td>-0.180873</td>\n",
       "      <td>-0.117117</td>\n",
       "      <td>-0.245189</td>\n",
       "      <td>-0.046832</td>\n",
       "      <td>-0.435078</td>\n",
       "      <td>-0.082293</td>\n",
       "      <td>-0.169413</td>\n",
       "      <td>-0.142468</td>\n",
       "      <td>-0.160378</td>\n",
       "      <td>-0.395006</td>\n",
       "      <td>-0.248120</td>\n",
       "      <td>-0.172517</td>\n",
       "      <td>1.584686</td>\n",
       "      <td>-0.016276</td>\n",
       "      <td>-0.330681</td>\n",
       "      <td>1.2214</td>\n",
       "      <td>1.301013</td>\n",
       "      <td>-0.698657</td>\n",
       "      <td>9.955990</td>\n",
       "      <td>-0.550160</td>\n",
       "      <td>-1.201443</td>\n",
       "      <td>-0.021838</td>\n",
       "      <td>-0.249058</td>\n",
       "      <td>-0.064769</td>\n",
       "      <td>-0.140912</td>\n",
       "      <td>-0.098577</td>\n",
       "      <td>-0.078349</td>\n",
       "      <td>-0.225373</td>\n",
       "      <td>-0.025464</td>\n",
       "      <td>-0.108777</td>\n",
       "      <td>-0.073251</td>\n",
       "      <td>-0.051496</td>\n",
       "      <td>-0.113061</td>\n",
       "      <td>-0.086828</td>\n",
       "      <td>-0.153441</td>\n",
       "      <td>-0.413398</td>\n",
       "      <td>-0.147149</td>\n",
       "      <td>-0.124436</td>\n",
       "      <td>-0.052423</td>\n",
       "      <td>-0.05327</td>\n",
       "      <td>-0.271536</td>\n",
       "      <td>5.432297</td>\n",
       "      <td>-0.071949</td>\n",
       "      <td>-0.003972</td>\n",
       "      <td>-0.003677</td>\n",
       "      <td>-0.204067</td>\n",
       "      <td>-0.125636</td>\n",
       "      <td>-0.094934</td>\n",
       "      <td>-0.098635</td>\n",
       "      <td>-0.109885</td>\n",
       "      <td>-0.154136</td>\n",
       "      <td>-0.155806</td>\n",
       "      <td>-0.024331</td>\n",
       "      <td>-0.163067</td>\n",
       "      <td>-0.13532</td>\n",
       "      <td>-0.127556</td>\n",
       "      <td>-0.065744</td>\n",
       "      <td>-0.053768</td>\n",
       "      <td>-0.16928</td>\n",
       "      <td>-0.02324</td>\n",
       "      <td>-0.036428</td>\n",
       "      <td>-0.069732</td>\n",
       "      <td>-0.197322</td>\n",
       "      <td>-0.074813</td>\n",
       "      <td>-0.119254</td>\n",
       "      <td>-0.301818</td>\n",
       "      <td>-0.185863</td>\n",
       "      <td>-0.09589</td>\n",
       "      <td>-0.111481</td>\n",
       "      <td>-0.191506</td>\n",
       "      <td>-0.066381</td>\n",
       "      <td>-0.110158</td>\n",
       "      <td>-0.045272</td>\n",
       "      <td>-0.121394</td>\n",
       "      <td>-0.295217</td>\n",
       "      <td>-0.084316</td>\n",
       "      <td>-0.174612</td>\n",
       "      <td>-0.045046</td>\n",
       "      <td>-0.149636</td>\n",
       "      <td>-0.114958</td>\n",
       "      <td>-0.070478</td>\n",
       "      <td>-0.04786</td>\n",
       "      <td>-0.017861</td>\n",
       "      <td>-0.008291</td>\n",
       "      <td>-0.01372</td>\n",
       "      <td>-0.024004</td>\n",
       "    </tr>\n",
       "    <tr>\n",
       "      <th>2</th>\n",
       "      <td>-1.464683</td>\n",
       "      <td>-1.464061</td>\n",
       "      <td>-1.457275</td>\n",
       "      <td>-0.654724</td>\n",
       "      <td>0.619202</td>\n",
       "      <td>-1.443107</td>\n",
       "      <td>-0.468204</td>\n",
       "      <td>1.134870</td>\n",
       "      <td>-0.970563</td>\n",
       "      <td>-0.003357</td>\n",
       "      <td>-1.133577</td>\n",
       "      <td>-0.364672</td>\n",
       "      <td>0.491479</td>\n",
       "      <td>1.307441</td>\n",
       "      <td>0.975849</td>\n",
       "      <td>0.427154</td>\n",
       "      <td>-1.795553</td>\n",
       "      <td>-0.335522</td>\n",
       "      <td>-0.622684</td>\n",
       "      <td>1.821333</td>\n",
       "      <td>-1.289324</td>\n",
       "      <td>-0.97077</td>\n",
       "      <td>-0.315809</td>\n",
       "      <td>0.302329</td>\n",
       "      <td>-0.107149</td>\n",
       "      <td>0.576897</td>\n",
       "      <td>-0.024004</td>\n",
       "      <td>-0.023957</td>\n",
       "      <td>-0.064298</td>\n",
       "      <td>-0.021004</td>\n",
       "      <td>-0.843347</td>\n",
       "      <td>-0.103891</td>\n",
       "      <td>-0.107375</td>\n",
       "      <td>-0.094692</td>\n",
       "      <td>-0.109934</td>\n",
       "      <td>0.154904</td>\n",
       "      <td>-0.100884</td>\n",
       "      <td>-0.139209</td>\n",
       "      <td>-0.105267</td>\n",
       "      <td>-0.117038</td>\n",
       "      <td>-0.116273</td>\n",
       "      <td>-0.149047</td>\n",
       "      <td>-0.79786</td>\n",
       "      <td>-0.085105</td>\n",
       "      <td>-0.076504</td>\n",
       "      <td>-0.088306</td>\n",
       "      <td>-0.109205</td>\n",
       "      <td>-0.104843</td>\n",
       "      <td>-0.157505</td>\n",
       "      <td>-0.147428</td>\n",
       "      <td>-0.039637</td>\n",
       "      <td>-0.077757</td>\n",
       "      <td>-0.052789</td>\n",
       "      <td>-0.196448</td>\n",
       "      <td>-0.186479</td>\n",
       "      <td>-0.180873</td>\n",
       "      <td>-0.117117</td>\n",
       "      <td>-0.245189</td>\n",
       "      <td>-0.046832</td>\n",
       "      <td>-0.435078</td>\n",
       "      <td>-0.082293</td>\n",
       "      <td>-0.169413</td>\n",
       "      <td>-0.142468</td>\n",
       "      <td>-0.160378</td>\n",
       "      <td>-0.395006</td>\n",
       "      <td>4.030308</td>\n",
       "      <td>-0.172517</td>\n",
       "      <td>-0.631040</td>\n",
       "      <td>-0.016276</td>\n",
       "      <td>-0.330681</td>\n",
       "      <td>1.2214</td>\n",
       "      <td>-0.768632</td>\n",
       "      <td>-0.698657</td>\n",
       "      <td>-0.100442</td>\n",
       "      <td>-0.550160</td>\n",
       "      <td>-1.201443</td>\n",
       "      <td>-0.021838</td>\n",
       "      <td>-0.249058</td>\n",
       "      <td>-0.064769</td>\n",
       "      <td>-0.140912</td>\n",
       "      <td>-0.098577</td>\n",
       "      <td>-0.078349</td>\n",
       "      <td>-0.225373</td>\n",
       "      <td>-0.025464</td>\n",
       "      <td>9.193151</td>\n",
       "      <td>-0.073251</td>\n",
       "      <td>-0.051496</td>\n",
       "      <td>-0.113061</td>\n",
       "      <td>-0.086828</td>\n",
       "      <td>-0.153441</td>\n",
       "      <td>-0.413398</td>\n",
       "      <td>-0.147149</td>\n",
       "      <td>-0.124436</td>\n",
       "      <td>-0.052423</td>\n",
       "      <td>-0.05327</td>\n",
       "      <td>-0.271536</td>\n",
       "      <td>-0.184084</td>\n",
       "      <td>-0.071949</td>\n",
       "      <td>-0.003972</td>\n",
       "      <td>-0.003677</td>\n",
       "      <td>4.900357</td>\n",
       "      <td>-0.125636</td>\n",
       "      <td>-0.094934</td>\n",
       "      <td>-0.098635</td>\n",
       "      <td>-0.109885</td>\n",
       "      <td>-0.154136</td>\n",
       "      <td>-0.155806</td>\n",
       "      <td>-0.024331</td>\n",
       "      <td>-0.163067</td>\n",
       "      <td>-0.13532</td>\n",
       "      <td>-0.127556</td>\n",
       "      <td>-0.065744</td>\n",
       "      <td>-0.053768</td>\n",
       "      <td>-0.16928</td>\n",
       "      <td>-0.02324</td>\n",
       "      <td>-0.036428</td>\n",
       "      <td>-0.069732</td>\n",
       "      <td>-0.197322</td>\n",
       "      <td>-0.074813</td>\n",
       "      <td>-0.119254</td>\n",
       "      <td>-0.301818</td>\n",
       "      <td>-0.185863</td>\n",
       "      <td>-0.09589</td>\n",
       "      <td>-0.111481</td>\n",
       "      <td>-0.191506</td>\n",
       "      <td>-0.066381</td>\n",
       "      <td>-0.110158</td>\n",
       "      <td>-0.045272</td>\n",
       "      <td>-0.121394</td>\n",
       "      <td>-0.295217</td>\n",
       "      <td>-0.084316</td>\n",
       "      <td>-0.174612</td>\n",
       "      <td>-0.045046</td>\n",
       "      <td>-0.149636</td>\n",
       "      <td>-0.114958</td>\n",
       "      <td>-0.070478</td>\n",
       "      <td>-0.04786</td>\n",
       "      <td>-0.017861</td>\n",
       "      <td>-0.008291</td>\n",
       "      <td>-0.01372</td>\n",
       "      <td>-0.024004</td>\n",
       "    </tr>\n",
       "    <tr>\n",
       "      <th>3</th>\n",
       "      <td>-0.563724</td>\n",
       "      <td>-0.562507</td>\n",
       "      <td>-0.557025</td>\n",
       "      <td>-0.654724</td>\n",
       "      <td>0.055515</td>\n",
       "      <td>-0.398905</td>\n",
       "      <td>0.147842</td>\n",
       "      <td>1.134870</td>\n",
       "      <td>-0.399582</td>\n",
       "      <td>-0.003357</td>\n",
       "      <td>0.225784</td>\n",
       "      <td>-0.364672</td>\n",
       "      <td>-0.281622</td>\n",
       "      <td>0.305877</td>\n",
       "      <td>-1.021784</td>\n",
       "      <td>0.427154</td>\n",
       "      <td>-0.291124</td>\n",
       "      <td>-0.335522</td>\n",
       "      <td>-0.504878</td>\n",
       "      <td>-1.426299</td>\n",
       "      <td>0.990842</td>\n",
       "      <td>-0.97077</td>\n",
       "      <td>-0.376798</td>\n",
       "      <td>-1.344122</td>\n",
       "      <td>-0.107149</td>\n",
       "      <td>0.576897</td>\n",
       "      <td>-0.024004</td>\n",
       "      <td>-0.023957</td>\n",
       "      <td>-0.064298</td>\n",
       "      <td>-0.021004</td>\n",
       "      <td>-0.843347</td>\n",
       "      <td>-0.103891</td>\n",
       "      <td>-0.107375</td>\n",
       "      <td>-0.094692</td>\n",
       "      <td>-0.109934</td>\n",
       "      <td>0.154904</td>\n",
       "      <td>-0.100884</td>\n",
       "      <td>-0.139209</td>\n",
       "      <td>-0.105267</td>\n",
       "      <td>-0.117038</td>\n",
       "      <td>-0.116273</td>\n",
       "      <td>-0.149047</td>\n",
       "      <td>-0.79786</td>\n",
       "      <td>-0.085105</td>\n",
       "      <td>-0.076504</td>\n",
       "      <td>-0.088306</td>\n",
       "      <td>-0.109205</td>\n",
       "      <td>-0.104843</td>\n",
       "      <td>-0.157505</td>\n",
       "      <td>-0.147428</td>\n",
       "      <td>-0.039637</td>\n",
       "      <td>-0.077757</td>\n",
       "      <td>-0.052789</td>\n",
       "      <td>-0.196448</td>\n",
       "      <td>-0.186479</td>\n",
       "      <td>-0.180873</td>\n",
       "      <td>-0.117117</td>\n",
       "      <td>-0.245189</td>\n",
       "      <td>-0.046832</td>\n",
       "      <td>-0.435078</td>\n",
       "      <td>-0.082293</td>\n",
       "      <td>-0.169413</td>\n",
       "      <td>-0.142468</td>\n",
       "      <td>-0.160378</td>\n",
       "      <td>-0.395006</td>\n",
       "      <td>-0.248120</td>\n",
       "      <td>-0.172517</td>\n",
       "      <td>1.584686</td>\n",
       "      <td>-0.016276</td>\n",
       "      <td>-0.330681</td>\n",
       "      <td>1.2214</td>\n",
       "      <td>1.301013</td>\n",
       "      <td>-0.698657</td>\n",
       "      <td>-0.100442</td>\n",
       "      <td>-0.550160</td>\n",
       "      <td>-1.201443</td>\n",
       "      <td>-0.021838</td>\n",
       "      <td>-0.249058</td>\n",
       "      <td>-0.064769</td>\n",
       "      <td>-0.140912</td>\n",
       "      <td>-0.098577</td>\n",
       "      <td>-0.078349</td>\n",
       "      <td>4.437084</td>\n",
       "      <td>-0.025464</td>\n",
       "      <td>-0.108777</td>\n",
       "      <td>-0.073251</td>\n",
       "      <td>-0.051496</td>\n",
       "      <td>-0.113061</td>\n",
       "      <td>-0.086828</td>\n",
       "      <td>-0.153441</td>\n",
       "      <td>2.418977</td>\n",
       "      <td>-0.147149</td>\n",
       "      <td>-0.124436</td>\n",
       "      <td>-0.052423</td>\n",
       "      <td>-0.05327</td>\n",
       "      <td>-0.271536</td>\n",
       "      <td>-0.184084</td>\n",
       "      <td>-0.071949</td>\n",
       "      <td>-0.003972</td>\n",
       "      <td>-0.003677</td>\n",
       "      <td>-0.204067</td>\n",
       "      <td>-0.125636</td>\n",
       "      <td>-0.094934</td>\n",
       "      <td>-0.098635</td>\n",
       "      <td>-0.109885</td>\n",
       "      <td>-0.154136</td>\n",
       "      <td>-0.155806</td>\n",
       "      <td>-0.024331</td>\n",
       "      <td>-0.163067</td>\n",
       "      <td>-0.13532</td>\n",
       "      <td>-0.127556</td>\n",
       "      <td>-0.065744</td>\n",
       "      <td>-0.053768</td>\n",
       "      <td>-0.16928</td>\n",
       "      <td>-0.02324</td>\n",
       "      <td>-0.036428</td>\n",
       "      <td>-0.069732</td>\n",
       "      <td>-0.197322</td>\n",
       "      <td>-0.074813</td>\n",
       "      <td>-0.119254</td>\n",
       "      <td>-0.301818</td>\n",
       "      <td>-0.185863</td>\n",
       "      <td>-0.09589</td>\n",
       "      <td>-0.111481</td>\n",
       "      <td>-0.191506</td>\n",
       "      <td>-0.066381</td>\n",
       "      <td>-0.110158</td>\n",
       "      <td>-0.045272</td>\n",
       "      <td>-0.121394</td>\n",
       "      <td>-0.295217</td>\n",
       "      <td>-0.084316</td>\n",
       "      <td>-0.174612</td>\n",
       "      <td>-0.045046</td>\n",
       "      <td>-0.149636</td>\n",
       "      <td>-0.114958</td>\n",
       "      <td>-0.070478</td>\n",
       "      <td>-0.04786</td>\n",
       "      <td>-0.017861</td>\n",
       "      <td>-0.008291</td>\n",
       "      <td>-0.01372</td>\n",
       "      <td>-0.024004</td>\n",
       "    </tr>\n",
       "    <tr>\n",
       "      <th>4</th>\n",
       "      <td>-1.393555</td>\n",
       "      <td>-1.392886</td>\n",
       "      <td>-1.386203</td>\n",
       "      <td>1.527360</td>\n",
       "      <td>-0.127055</td>\n",
       "      <td>-1.510842</td>\n",
       "      <td>0.301854</td>\n",
       "      <td>-1.265535</td>\n",
       "      <td>0.076390</td>\n",
       "      <td>-0.003357</td>\n",
       "      <td>-0.022468</td>\n",
       "      <td>-0.364672</td>\n",
       "      <td>-0.293034</td>\n",
       "      <td>-0.695687</td>\n",
       "      <td>-1.015574</td>\n",
       "      <td>0.427154</td>\n",
       "      <td>0.649144</td>\n",
       "      <td>-0.335522</td>\n",
       "      <td>0.484341</td>\n",
       "      <td>-0.047627</td>\n",
       "      <td>1.075293</td>\n",
       "      <td>-0.97077</td>\n",
       "      <td>-0.437216</td>\n",
       "      <td>0.302329</td>\n",
       "      <td>-0.107149</td>\n",
       "      <td>0.576897</td>\n",
       "      <td>-0.024004</td>\n",
       "      <td>-0.023957</td>\n",
       "      <td>-0.064298</td>\n",
       "      <td>-0.021004</td>\n",
       "      <td>-0.843347</td>\n",
       "      <td>-0.103891</td>\n",
       "      <td>-0.107375</td>\n",
       "      <td>-0.094692</td>\n",
       "      <td>-0.109934</td>\n",
       "      <td>0.154904</td>\n",
       "      <td>-0.100884</td>\n",
       "      <td>-0.139209</td>\n",
       "      <td>-0.105267</td>\n",
       "      <td>-0.117038</td>\n",
       "      <td>-0.116273</td>\n",
       "      <td>-0.149047</td>\n",
       "      <td>-0.79786</td>\n",
       "      <td>-0.085105</td>\n",
       "      <td>-0.076504</td>\n",
       "      <td>-0.088306</td>\n",
       "      <td>-0.109205</td>\n",
       "      <td>-0.104843</td>\n",
       "      <td>-0.157505</td>\n",
       "      <td>-0.147428</td>\n",
       "      <td>-0.039637</td>\n",
       "      <td>-0.077757</td>\n",
       "      <td>-0.052789</td>\n",
       "      <td>-0.196448</td>\n",
       "      <td>-0.186479</td>\n",
       "      <td>-0.180873</td>\n",
       "      <td>-0.117117</td>\n",
       "      <td>-0.245189</td>\n",
       "      <td>-0.046832</td>\n",
       "      <td>-0.435078</td>\n",
       "      <td>-0.082293</td>\n",
       "      <td>-0.169413</td>\n",
       "      <td>-0.142468</td>\n",
       "      <td>-0.160378</td>\n",
       "      <td>2.531605</td>\n",
       "      <td>-0.248120</td>\n",
       "      <td>-0.172517</td>\n",
       "      <td>-0.631040</td>\n",
       "      <td>-0.016276</td>\n",
       "      <td>-0.330681</td>\n",
       "      <td>1.2214</td>\n",
       "      <td>1.301013</td>\n",
       "      <td>-0.698657</td>\n",
       "      <td>-0.100442</td>\n",
       "      <td>-0.550160</td>\n",
       "      <td>-1.201443</td>\n",
       "      <td>-0.021838</td>\n",
       "      <td>-0.249058</td>\n",
       "      <td>-0.064769</td>\n",
       "      <td>-0.140912</td>\n",
       "      <td>-0.098577</td>\n",
       "      <td>-0.078349</td>\n",
       "      <td>4.437084</td>\n",
       "      <td>-0.025464</td>\n",
       "      <td>-0.108777</td>\n",
       "      <td>-0.073251</td>\n",
       "      <td>-0.051496</td>\n",
       "      <td>-0.113061</td>\n",
       "      <td>-0.086828</td>\n",
       "      <td>-0.153441</td>\n",
       "      <td>-0.413398</td>\n",
       "      <td>-0.147149</td>\n",
       "      <td>-0.124436</td>\n",
       "      <td>-0.052423</td>\n",
       "      <td>-0.05327</td>\n",
       "      <td>-0.271536</td>\n",
       "      <td>-0.184084</td>\n",
       "      <td>-0.071949</td>\n",
       "      <td>-0.003972</td>\n",
       "      <td>-0.003677</td>\n",
       "      <td>-0.204067</td>\n",
       "      <td>-0.125636</td>\n",
       "      <td>-0.094934</td>\n",
       "      <td>-0.098635</td>\n",
       "      <td>-0.109885</td>\n",
       "      <td>-0.154136</td>\n",
       "      <td>-0.155806</td>\n",
       "      <td>-0.024331</td>\n",
       "      <td>-0.163067</td>\n",
       "      <td>-0.13532</td>\n",
       "      <td>-0.127556</td>\n",
       "      <td>-0.065744</td>\n",
       "      <td>-0.053768</td>\n",
       "      <td>-0.16928</td>\n",
       "      <td>-0.02324</td>\n",
       "      <td>-0.036428</td>\n",
       "      <td>-0.069732</td>\n",
       "      <td>-0.197322</td>\n",
       "      <td>-0.074813</td>\n",
       "      <td>-0.119254</td>\n",
       "      <td>-0.301818</td>\n",
       "      <td>-0.185863</td>\n",
       "      <td>-0.09589</td>\n",
       "      <td>8.970130</td>\n",
       "      <td>-0.191506</td>\n",
       "      <td>-0.066381</td>\n",
       "      <td>-0.110158</td>\n",
       "      <td>-0.045272</td>\n",
       "      <td>-0.121394</td>\n",
       "      <td>-0.295217</td>\n",
       "      <td>-0.084316</td>\n",
       "      <td>-0.174612</td>\n",
       "      <td>-0.045046</td>\n",
       "      <td>-0.149636</td>\n",
       "      <td>-0.114958</td>\n",
       "      <td>-0.070478</td>\n",
       "      <td>-0.04786</td>\n",
       "      <td>-0.017861</td>\n",
       "      <td>-0.008291</td>\n",
       "      <td>-0.01372</td>\n",
       "      <td>-0.024004</td>\n",
       "    </tr>\n",
       "  </tbody>\n",
       "</table>\n",
       "</div>"
      ],
      "text/plain": [
       "   loan_amnt  funded_amnt  funded_amnt_inv      term  int_rate  installment  \\\n",
       "0  -1.156460    -1.155635        -1.152256 -0.654724 -0.592611    -1.121467   \n",
       "1  -1.452829    -1.452198        -1.445430  1.527360  0.461735    -1.543440   \n",
       "2  -1.464683    -1.464061        -1.457275 -0.654724  0.619202    -1.443107   \n",
       "3  -0.563724    -0.562507        -0.557025 -0.654724  0.055515    -0.398905   \n",
       "4  -1.393555    -1.392886        -1.386203  1.527360 -0.127055    -1.510842   \n",
       "\n",
       "      grade  emp_length  annual_inc  pymnt_plan       dti  delinq_2yrs  \\\n",
       "0  0.763889    1.134870   -0.789014   -0.003357  1.147690    -0.364672   \n",
       "1 -0.314193   -1.398891   -0.696292   -0.003357 -2.063920    -0.364672   \n",
       "2 -0.468204    1.134870   -0.970563   -0.003357 -1.133577    -0.364672   \n",
       "3  0.147842    1.134870   -0.399582   -0.003357  0.225784    -0.364672   \n",
       "4  0.301854   -1.265535    0.076390   -0.003357 -0.022468    -0.364672   \n",
       "\n",
       "   earliest_cr_line  inq_last_6mths  mths_since_last_delinq  \\\n",
       "0         -1.771866        0.305877                0.975849   \n",
       "1          0.143584        4.312132                0.975849   \n",
       "2          0.491479        1.307441                0.975849   \n",
       "3         -0.281622        0.305877               -1.021784   \n",
       "4         -0.293034       -0.695687               -1.015574   \n",
       "\n",
       "   mths_since_last_record  open_acc   pub_rec  revol_bal  revol_util  \\\n",
       "0                0.427154 -1.607499 -0.335522  -0.145932    1.201140   \n",
       "1                0.427154 -1.607499 -0.335522  -0.679268   -1.912396   \n",
       "2                0.427154 -1.795553 -0.335522  -0.622684    1.821333   \n",
       "3                0.427154 -0.291124 -0.335522  -0.504878   -1.426299   \n",
       "4                0.427154  0.649144 -0.335522   0.484341   -0.047627   \n",
       "\n",
       "   total_acc  initial_list_status  last_pymnt_amnt  last_credit_pull_d  \\\n",
       "0  -1.373775             -0.97077        -0.415561            0.302329   \n",
       "1  -1.796028             -0.97077        -0.426398           -3.540893   \n",
       "2  -1.289324             -0.97077        -0.315809            0.302329   \n",
       "3   0.990842             -0.97077        -0.376798           -1.344122   \n",
       "4   1.075293             -0.97077        -0.437216            0.302329   \n",
       "\n",
       "   collections_12_mths_ex_med  mths_since_last_major_derog  application_type  \\\n",
       "0                   -0.107149                     0.576897         -0.024004   \n",
       "1                   -0.107149                     0.576897         -0.024004   \n",
       "2                   -0.107149                     0.576897         -0.024004   \n",
       "3                   -0.107149                     0.576897         -0.024004   \n",
       "4                   -0.107149                     0.576897         -0.024004   \n",
       "\n",
       "   dti_joint  acc_now_delinq  tot_coll_amt  tot_cur_bal  open_acc_6m  \\\n",
       "0  -0.023957       -0.064298     -0.021004    -0.843347    -0.103891   \n",
       "1  -0.023957       -0.064298     -0.021004    -0.843347    -0.103891   \n",
       "2  -0.023957       -0.064298     -0.021004    -0.843347    -0.103891   \n",
       "3  -0.023957       -0.064298     -0.021004    -0.843347    -0.103891   \n",
       "4  -0.023957       -0.064298     -0.021004    -0.843347    -0.103891   \n",
       "\n",
       "   open_il_6m  open_il_12m  open_il_24m  mths_since_rcnt_il  total_bal_il  \\\n",
       "0   -0.107375    -0.094692    -0.109934            0.154904     -0.100884   \n",
       "1   -0.107375    -0.094692    -0.109934            0.154904     -0.100884   \n",
       "2   -0.107375    -0.094692    -0.109934            0.154904     -0.100884   \n",
       "3   -0.107375    -0.094692    -0.109934            0.154904     -0.100884   \n",
       "4   -0.107375    -0.094692    -0.109934            0.154904     -0.100884   \n",
       "\n",
       "    il_util  open_rv_12m  open_rv_24m  max_bal_bc  all_util  total_rev_hi_lim  \\\n",
       "0 -0.139209    -0.105267    -0.117038   -0.116273 -0.149047          -0.79786   \n",
       "1 -0.139209    -0.105267    -0.117038   -0.116273 -0.149047          -0.79786   \n",
       "2 -0.139209    -0.105267    -0.117038   -0.116273 -0.149047          -0.79786   \n",
       "3 -0.139209    -0.105267    -0.117038   -0.116273 -0.149047          -0.79786   \n",
       "4 -0.139209    -0.105267    -0.117038   -0.116273 -0.149047          -0.79786   \n",
       "\n",
       "     inq_fi  total_cu_tl  inq_last_12m  emp_type_Accountant  emp_type_Admin  \\\n",
       "0 -0.085105    -0.076504     -0.088306            -0.109205       -0.104843   \n",
       "1 -0.085105    -0.076504     -0.088306            -0.109205       -0.104843   \n",
       "2 -0.085105    -0.076504     -0.088306            -0.109205       -0.104843   \n",
       "3 -0.085105    -0.076504     -0.088306            -0.109205       -0.104843   \n",
       "4 -0.085105    -0.076504     -0.088306            -0.109205       -0.104843   \n",
       "\n",
       "   emp_type_Analyst  emp_type_Assistant  emp_type_Clergy  emp_type_Clerk  \\\n",
       "0         -0.157505           -0.147428        -0.039637       -0.077757   \n",
       "1         -0.157505           -0.147428        -0.039637       -0.077757   \n",
       "2         -0.157505           -0.147428        -0.039637       -0.077757   \n",
       "3         -0.157505           -0.147428        -0.039637       -0.077757   \n",
       "4         -0.157505           -0.147428        -0.039637       -0.077757   \n",
       "\n",
       "   emp_type_Designer  emp_type_Director  emp_type_Education  \\\n",
       "0          -0.052789          -0.196448           -0.186479   \n",
       "1          -0.052789          -0.196448           -0.186479   \n",
       "2          -0.052789          -0.196448           -0.186479   \n",
       "3          -0.052789          -0.196448           -0.186479   \n",
       "4          -0.052789          -0.196448           -0.186479   \n",
       "\n",
       "   emp_type_Executive  emp_type_Finance  emp_type_Healer  emp_type_Law  \\\n",
       "0           -0.180873         -0.117117        -0.245189     -0.046832   \n",
       "1           -0.180873         -0.117117        -0.245189     -0.046832   \n",
       "2           -0.180873         -0.117117        -0.245189     -0.046832   \n",
       "3           -0.180873         -0.117117        -0.245189     -0.046832   \n",
       "4           -0.180873         -0.117117        -0.245189     -0.046832   \n",
       "\n",
       "   emp_type_Manager  emp_type_Manlab  emp_type_Operator  emp_type_Sales  \\\n",
       "0         -0.435078        -0.082293          -0.169413       -0.142468   \n",
       "1         -0.435078        -0.082293          -0.169413       -0.142468   \n",
       "2         -0.435078        -0.082293          -0.169413       -0.142468   \n",
       "3         -0.435078        -0.082293          -0.169413       -0.142468   \n",
       "4         -0.435078        -0.082293          -0.169413       -0.142468   \n",
       "\n",
       "   emp_type_Service  emp_type_Technical  emp_type_Unemployed  emp_type_Vol  \\\n",
       "0         -0.160378           -0.395006             4.030308     -0.172517   \n",
       "1         -0.160378           -0.395006            -0.248120     -0.172517   \n",
       "2         -0.160378           -0.395006             4.030308     -0.172517   \n",
       "3         -0.160378           -0.395006            -0.248120     -0.172517   \n",
       "4         -0.160378            2.531605            -0.248120     -0.172517   \n",
       "\n",
       "   emp_type_other  home_ownership_OTHER  home_ownership_OWN  \\\n",
       "0       -0.631040             -0.016276           -0.330681   \n",
       "1        1.584686             -0.016276           -0.330681   \n",
       "2       -0.631040             -0.016276           -0.330681   \n",
       "3        1.584686             -0.016276           -0.330681   \n",
       "4       -0.631040             -0.016276           -0.330681   \n",
       "\n",
       "   home_ownership_RENT  verification_status_Source Verified  \\\n",
       "0               1.2214                            -0.768632   \n",
       "1               1.2214                             1.301013   \n",
       "2               1.2214                            -0.768632   \n",
       "3               1.2214                             1.301013   \n",
       "4               1.2214                             1.301013   \n",
       "\n",
       "   verification_status_Verified  purpose_car  purpose_credit_card  \\\n",
       "0                      1.431317    -0.100442             1.817653   \n",
       "1                     -0.698657     9.955990            -0.550160   \n",
       "2                     -0.698657    -0.100442            -0.550160   \n",
       "3                     -0.698657    -0.100442            -0.550160   \n",
       "4                     -0.698657    -0.100442            -0.550160   \n",
       "\n",
       "   purpose_debt_consolidation  purpose_educational  purpose_home_improvement  \\\n",
       "0                   -1.201443            -0.021838                 -0.249058   \n",
       "1                   -1.201443            -0.021838                 -0.249058   \n",
       "2                   -1.201443            -0.021838                 -0.249058   \n",
       "3                   -1.201443            -0.021838                 -0.249058   \n",
       "4                   -1.201443            -0.021838                 -0.249058   \n",
       "\n",
       "   purpose_house  purpose_major_purchase  purpose_medical  purpose_moving  \\\n",
       "0      -0.064769               -0.140912        -0.098577       -0.078349   \n",
       "1      -0.064769               -0.140912        -0.098577       -0.078349   \n",
       "2      -0.064769               -0.140912        -0.098577       -0.078349   \n",
       "3      -0.064769               -0.140912        -0.098577       -0.078349   \n",
       "4      -0.064769               -0.140912        -0.098577       -0.078349   \n",
       "\n",
       "   purpose_other  purpose_renewable_energy  purpose_small_business  \\\n",
       "0      -0.225373                 -0.025464               -0.108777   \n",
       "1      -0.225373                 -0.025464               -0.108777   \n",
       "2      -0.225373                 -0.025464                9.193151   \n",
       "3       4.437084                 -0.025464               -0.108777   \n",
       "4       4.437084                 -0.025464               -0.108777   \n",
       "\n",
       "   purpose_vacation  purpose_wedding  addr_state_AL  addr_state_AR  \\\n",
       "0         -0.073251        -0.051496      -0.113061      -0.086828   \n",
       "1         -0.073251        -0.051496      -0.113061      -0.086828   \n",
       "2         -0.073251        -0.051496      -0.113061      -0.086828   \n",
       "3         -0.073251        -0.051496      -0.113061      -0.086828   \n",
       "4         -0.073251        -0.051496      -0.113061      -0.086828   \n",
       "\n",
       "   addr_state_AZ  addr_state_CA  addr_state_CO  addr_state_CT  addr_state_DC  \\\n",
       "0       6.517162      -0.413398      -0.147149      -0.124436      -0.052423   \n",
       "1      -0.153441      -0.413398      -0.147149      -0.124436      -0.052423   \n",
       "2      -0.153441      -0.413398      -0.147149      -0.124436      -0.052423   \n",
       "3      -0.153441       2.418977      -0.147149      -0.124436      -0.052423   \n",
       "4      -0.153441      -0.413398      -0.147149      -0.124436      -0.052423   \n",
       "\n",
       "   addr_state_DE  addr_state_FL  addr_state_GA  addr_state_HI  addr_state_IA  \\\n",
       "0       -0.05327      -0.271536      -0.184084      -0.071949      -0.003972   \n",
       "1       -0.05327      -0.271536       5.432297      -0.071949      -0.003972   \n",
       "2       -0.05327      -0.271536      -0.184084      -0.071949      -0.003972   \n",
       "3       -0.05327      -0.271536      -0.184084      -0.071949      -0.003972   \n",
       "4       -0.05327      -0.271536      -0.184084      -0.071949      -0.003972   \n",
       "\n",
       "   addr_state_ID  addr_state_IL  addr_state_IN  addr_state_KS  addr_state_KY  \\\n",
       "0      -0.003677      -0.204067      -0.125636      -0.094934      -0.098635   \n",
       "1      -0.003677      -0.204067      -0.125636      -0.094934      -0.098635   \n",
       "2      -0.003677       4.900357      -0.125636      -0.094934      -0.098635   \n",
       "3      -0.003677      -0.204067      -0.125636      -0.094934      -0.098635   \n",
       "4      -0.003677      -0.204067      -0.125636      -0.094934      -0.098635   \n",
       "\n",
       "   addr_state_LA  addr_state_MA  addr_state_MD  addr_state_ME  addr_state_MI  \\\n",
       "0      -0.109885      -0.154136      -0.155806      -0.024331      -0.163067   \n",
       "1      -0.109885      -0.154136      -0.155806      -0.024331      -0.163067   \n",
       "2      -0.109885      -0.154136      -0.155806      -0.024331      -0.163067   \n",
       "3      -0.109885      -0.154136      -0.155806      -0.024331      -0.163067   \n",
       "4      -0.109885      -0.154136      -0.155806      -0.024331      -0.163067   \n",
       "\n",
       "   addr_state_MN  addr_state_MO  addr_state_MS  addr_state_MT  addr_state_NC  \\\n",
       "0       -0.13532      -0.127556      -0.065744      -0.053768       -0.16928   \n",
       "1       -0.13532      -0.127556      -0.065744      -0.053768       -0.16928   \n",
       "2       -0.13532      -0.127556      -0.065744      -0.053768       -0.16928   \n",
       "3       -0.13532      -0.127556      -0.065744      -0.053768       -0.16928   \n",
       "4       -0.13532      -0.127556      -0.065744      -0.053768       -0.16928   \n",
       "\n",
       "   addr_state_ND  addr_state_NE  addr_state_NH  addr_state_NJ  addr_state_NM  \\\n",
       "0       -0.02324      -0.036428      -0.069732      -0.197322      -0.074813   \n",
       "1       -0.02324      -0.036428      -0.069732      -0.197322      -0.074813   \n",
       "2       -0.02324      -0.036428      -0.069732      -0.197322      -0.074813   \n",
       "3       -0.02324      -0.036428      -0.069732      -0.197322      -0.074813   \n",
       "4       -0.02324      -0.036428      -0.069732      -0.197322      -0.074813   \n",
       "\n",
       "   addr_state_NV  addr_state_NY  addr_state_OH  addr_state_OK  addr_state_OR  \\\n",
       "0      -0.119254      -0.301818      -0.185863       -0.09589      -0.111481   \n",
       "1      -0.119254      -0.301818      -0.185863       -0.09589      -0.111481   \n",
       "2      -0.119254      -0.301818      -0.185863       -0.09589      -0.111481   \n",
       "3      -0.119254      -0.301818      -0.185863       -0.09589      -0.111481   \n",
       "4      -0.119254      -0.301818      -0.185863       -0.09589       8.970130   \n",
       "\n",
       "   addr_state_PA  addr_state_RI  addr_state_SC  addr_state_SD  addr_state_TN  \\\n",
       "0      -0.191506      -0.066381      -0.110158      -0.045272      -0.121394   \n",
       "1      -0.191506      -0.066381      -0.110158      -0.045272      -0.121394   \n",
       "2      -0.191506      -0.066381      -0.110158      -0.045272      -0.121394   \n",
       "3      -0.191506      -0.066381      -0.110158      -0.045272      -0.121394   \n",
       "4      -0.191506      -0.066381      -0.110158      -0.045272      -0.121394   \n",
       "\n",
       "   addr_state_TX  addr_state_UT  addr_state_VA  addr_state_VT  addr_state_WA  \\\n",
       "0      -0.295217      -0.084316      -0.174612      -0.045046      -0.149636   \n",
       "1      -0.295217      -0.084316      -0.174612      -0.045046      -0.149636   \n",
       "2      -0.295217      -0.084316      -0.174612      -0.045046      -0.149636   \n",
       "3      -0.295217      -0.084316      -0.174612      -0.045046      -0.149636   \n",
       "4      -0.295217      -0.084316      -0.174612      -0.045046      -0.149636   \n",
       "\n",
       "   addr_state_WI  addr_state_WV  addr_state_WY  \\\n",
       "0      -0.114958      -0.070478       -0.04786   \n",
       "1      -0.114958      -0.070478       -0.04786   \n",
       "2      -0.114958      -0.070478       -0.04786   \n",
       "3      -0.114958      -0.070478       -0.04786   \n",
       "4      -0.114958      -0.070478       -0.04786   \n",
       "\n",
       "   verification_status_joint_Not Verified  \\\n",
       "0                               -0.017861   \n",
       "1                               -0.017861   \n",
       "2                               -0.017861   \n",
       "3                               -0.017861   \n",
       "4                               -0.017861   \n",
       "\n",
       "   verification_status_joint_Source Verified  \\\n",
       "0                                  -0.008291   \n",
       "1                                  -0.008291   \n",
       "2                                  -0.008291   \n",
       "3                                  -0.008291   \n",
       "4                                  -0.008291   \n",
       "\n",
       "   verification_status_joint_Verified  inc_joint  \n",
       "0                            -0.01372  -0.024004  \n",
       "1                            -0.01372  -0.024004  \n",
       "2                            -0.01372  -0.024004  \n",
       "3                            -0.01372  -0.024004  \n",
       "4                            -0.01372  -0.024004  "
      ]
     },
     "execution_count": 239,
     "metadata": {},
     "output_type": "execute_result"
    }
   ],
   "source": [
    "X_scaled.head()"
   ]
  },
  {
   "attachments": {},
   "cell_type": "markdown",
   "metadata": {},
   "source": [
    "#### Multicollinearity"
   ]
  },
  {
   "cell_type": "code",
   "execution_count": 241,
   "metadata": {},
   "outputs": [],
   "source": [
    "# Function to get rid of all the diagonals in correlation heatmaps\n",
    "def zero_diagonal_heatmap(dfx, min = 0, max = None, color_map = None, threshhold = 0):\n",
    "    # give the max a base value\n",
    "    if max is None:\n",
    "        max = dfx.shape[1]\n",
    "    # Create a numpy matrix that is easy to manipulate\n",
    "    cm = np.array(abs(dfx.iloc[:,min:max].corr(numeric_only = False)))\n",
    "    # Create a loop that replaces all the diagonal values with 0\n",
    "    for i in range(len(cm)):\n",
    "        # Loop thorough the other axis of values\n",
    "        for j in range(len(cm)):\n",
    "            # All diagonal values happen when i == j\n",
    "            if i == j:\n",
    "                # set the diagonal value equal to 0\n",
    "                cm[i,j] = 0\n",
    "    df_cm = pd.DataFrame(cm, columns = list(dfx.columns)[min:max], index = list(dfx.columns)[min:max])\n",
    "    # Make the plot bigger\n",
    "    plt.figure(figsize=(12, 8))\n",
    "    # Plot the heatmap\n",
    "    ax = sns.heatmap(df_cm, cmap = color_map, center = threshhold, vmin = 0, vmax = 1);"
   ]
  },
  {
   "cell_type": "code",
   "execution_count": 242,
   "metadata": {},
   "outputs": [
    {
     "data": {
      "image/png": "[encoded data removed]",
      "text/plain": [
       "<Figure size 1200x800 with 2 Axes>"
      ]
     },
     "metadata": {},
     "output_type": "display_data"
    }
   ],
   "source": [
    "zero_diagonal_heatmap(X_scaled)"
   ]
  },
  {
   "cell_type": "code",
   "execution_count": 243,
   "metadata": {},
   "outputs": [
    {
     "data": {
      "image/png": "[encoded data removed]",
      "text/plain": [
       "<Figure size 1200x800 with 2 Axes>"
      ]
     },
     "metadata": {},
     "output_type": "display_data"
    }
   ],
   "source": [
    "# Create a heatmap of the first 7 columns\n",
    "zero_diagonal_heatmap(X_scaled, 0, 7)"
   ]
  },
  {
   "attachments": {},
   "cell_type": "markdown",
   "metadata": {},
   "source": [
    "'loan_amnt' is the amount the requested amount of money for the loan from the borrower, 'funded_amnt' is the amount of money that has been committed to the loan, and 'funded_amnt_inv is the amount of money investors have committed to the loan. Since loan amount is the only variable that the applicant has control over, I believe it is the only relevant variable to keep. 'installment' is the monthly payment if the loan originates, this is a function of the loan amount and the term and can be dropped. 'int_rate' is the interest rate of the loan and it is directly determined by the grade that lending club gives the loan. I can pick one of the two and it will contain the information of the other."
   ]
  },
  {
   "cell_type": "code",
   "execution_count": 244,
   "metadata": {},
   "outputs": [],
   "source": [
    "# Drop all the columns that are clearly collinear that are the least interesting\n",
    "X_scaled.drop(['funded_amnt','funded_amnt_inv', 'installment','int_rate'], axis = 1, inplace = True)"
   ]
  },
  {
   "cell_type": "code",
   "execution_count": 245,
   "metadata": {},
   "outputs": [
    {
     "data": {
      "image/png": "[encoded data removed]",
      "text/plain": [
       "<Figure size 1200x800 with 2 Axes>"
      ]
     },
     "metadata": {},
     "output_type": "display_data"
    }
   ],
   "source": [
    "zero_diagonal_heatmap(X_scaled,27,42)"
   ]
  },
  {
   "cell_type": "code",
   "execution_count": 246,
   "metadata": {},
   "outputs": [],
   "source": [
    "# Create a function that takes a dataframe and a correlation level \n",
    "def corr_dict(dfx, corr = 0.7):\n",
    "    # Create the correlation with absolute values to measure collinearity\n",
    "    corr_mat = abs(dfx.corr(numeric_only = False)) > corr   # type: ignore\n",
    "    # Define the dictionary outside the function for uses\n",
    "    global correl_dict\n",
    "    # Create a dictionary with sorted values so that it is easy to see the next steps\n",
    "    correl_dict = dict(corr_mat.sum().sort_values(ascending = False)) \n",
    "    # Subtract each value by one for the self correlation on the diagonal\n",
    "    correl_dict = {key: value - 1 for key, value in correl_dict.items() if value != 1}\n",
    "    # Print the dictionary\n",
    "    print(correl_dict)"
   ]
  },
  {
   "cell_type": "code",
   "execution_count": 247,
   "metadata": {},
   "outputs": [],
   "source": [
    "# Create a function that takes a list of features and minimum number of correlations\n",
    "def corr_list(min_corr, corr, still_high_mcl = None):\n",
    "    # Define the dictionary where all the information will be stored\n",
    "    correlations2 = {}\n",
    "    # Almost always the default value will be None\n",
    "    if still_high_mcl is None:\n",
    "        # # the default list is the keys from correl_dict whose values are at least min_corr\n",
    "        still_high_mcl = [key for key, value in correl_dict.items() if value >= min_corr]\n",
    "        # Drop all date time objects from the list by using the ending _d as an identifier\n",
    "        still_high_mcl = [element for element in still_high_mcl if not element.endswith(\"_d\")]\n",
    "    # Store the correlation matrix in a variable for easy use  \n",
    "    still_corr = abs(X_scaled[still_high_mcl].corr(numeric_only = True))\n",
    "    # Put the index and column names as the feature names\n",
    "    still_corr.columns = still_high_mcl\n",
    "    still_corr.index = still_high_mcl\n",
    "    # Iterate through all the features in the list\n",
    "    for shm in still_high_mcl:\n",
    "        # create a list of all the features that have a correlation of over 7\n",
    "        corrs2 = still_corr.index[still_corr[shm] > corr].tolist() #type: ignore\n",
    "        # remove the self correlation\n",
    "        corrs2.remove(shm)\n",
    "        # input the feature and list into the dictionary\n",
    "        correlations2.update({shm: corrs2})\n",
    "    # print the result    \n",
    "    print(correlations2)"
   ]
  },
  {
   "cell_type": "code",
   "execution_count": 248,
   "metadata": {},
   "outputs": [
    {
     "name": "stdout",
     "output_type": "stream",
     "text": [
      "{'all_util': 5, 'il_util': 5, 'mths_since_rcnt_il': 5, 'open_il_24m': 4, 'inc_joint': 3, 'application_type': 3, 'verification_status_joint_Not Verified': 3, 'open_rv_24m': 3, 'open_il_6m': 3, 'dti_joint': 3, 'max_bal_bc': 2, 'open_rv_12m': 2, 'total_bal_il': 2, 'open_acc_6m': 2, 'open_il_12m': 1, 'total_rev_hi_lim': 1, 'mths_since_last_record': 1, 'pub_rec': 1, 'revol_bal': 1}\n"
     ]
    }
   ],
   "source": [
    "corr_dict(X_scaled)"
   ]
  },
  {
   "cell_type": "code",
   "execution_count": 249,
   "metadata": {},
   "outputs": [
    {
     "name": "stdout",
     "output_type": "stream",
     "text": [
      "{'all_util': ['il_util', 'mths_since_rcnt_il', 'open_il_24m', 'open_il_6m', 'max_bal_bc'], 'il_util': ['all_util', 'mths_since_rcnt_il', 'open_il_24m', 'open_il_6m', 'total_bal_il'], 'mths_since_rcnt_il': ['all_util', 'il_util', 'open_il_24m', 'open_rv_24m', 'max_bal_bc'], 'open_il_24m': ['all_util', 'il_util', 'mths_since_rcnt_il', 'open_il_12m'], 'inc_joint': ['application_type', 'verification_status_joint_Not Verified', 'dti_joint'], 'application_type': ['inc_joint', 'verification_status_joint_Not Verified', 'dti_joint'], 'verification_status_joint_Not Verified': ['inc_joint', 'application_type', 'dti_joint'], 'open_rv_24m': ['mths_since_rcnt_il', 'open_rv_12m', 'open_acc_6m'], 'open_il_6m': ['all_util', 'il_util', 'total_bal_il'], 'dti_joint': ['inc_joint', 'application_type', 'verification_status_joint_Not Verified'], 'max_bal_bc': ['all_util', 'mths_since_rcnt_il'], 'open_rv_12m': ['open_rv_24m', 'open_acc_6m'], 'total_bal_il': ['il_util', 'open_il_6m'], 'open_acc_6m': ['open_rv_24m', 'open_rv_12m'], 'open_il_12m': ['open_il_24m'], 'total_rev_hi_lim': ['revol_bal'], 'mths_since_last_record': ['pub_rec'], 'pub_rec': ['mths_since_last_record'], 'revol_bal': ['total_rev_hi_lim']}\n"
     ]
    }
   ],
   "source": [
    "corr_list(corr = 0.7, min_corr = 1)"
   ]
  },
  {
   "cell_type": "markdown",
   "metadata": {},
   "source": [
    "One set of features that is consistently multicollinear is the features that are measured in 6 months, 12 months, and 24 months. It isn't surprising that they are collinear since they are measuring the same thing but it is important to combine them so that I can preserve their information without confusing their impact. The simplest way to do this is to set the time frame equal and then compare. "
   ]
  },
  {
   "cell_type": "code",
   "execution_count": 504,
   "metadata": {},
   "outputs": [],
   "source": [
    "X_scaled['il_6'] =  X_scaled['open_il_6m'] * 2\n",
    "X_scaled['il_24'] =  X_scaled['open_il_24m'] / 2\n",
    "X_scaled['open_install_acc'] = X_scaled[['il_6', 'open_il_12m', 'il_24']].max(axis = 1)\n",
    "\n",
    "X_scaled['rv_24'] =  X_scaled['open_rv_24m'] / 2\n",
    "X_scaled['open_revolving'] = X_scaled[['open_rv_12m', 'rv_24']].max(axis = 1)\n",
    "\n",
    "X_scaled.drop(['il_6', 'open_il_12m', 'il_24', 'open_rv_12m', 'rv_24', 'open_il_6m', 'open_il_24m','open_rv_24m'], axis = 1, inplace = True)"
   ]
  },
  {
   "cell_type": "code",
   "execution_count": 505,
   "metadata": {},
   "outputs": [
    {
     "name": "stdout",
     "output_type": "stream",
     "text": [
      "{'mths_since_rcnt_il': 5, 'open_install_acc': 4, 'all_util': 4, 'il_util': 4, 'open_revolving': 2, 'application_type': 2, 'max_bal_bc': 2, 'total_bal_il': 2, 'dti_joint': 2, 'inc_joint': 2, 'mths_since_last_record': 1, 'pub_rec': 1, 'revol_bal': 1, 'open_acc_6m': 1, 'total_rev_hi_lim': 1}\n"
     ]
    }
   ],
   "source": [
    "corr_dict(X_scaled)"
   ]
  },
  {
   "cell_type": "code",
   "execution_count": 506,
   "metadata": {},
   "outputs": [
    {
     "name": "stdout",
     "output_type": "stream",
     "text": [
      "{'mths_since_rcnt_il': ['open_install_acc', 'all_util', 'il_util', 'open_revolving', 'max_bal_bc'], 'open_install_acc': ['mths_since_rcnt_il', 'all_util', 'il_util', 'total_bal_il'], 'all_util': ['mths_since_rcnt_il', 'open_install_acc', 'il_util', 'max_bal_bc'], 'il_util': ['mths_since_rcnt_il', 'open_install_acc', 'all_util', 'total_bal_il'], 'open_revolving': ['mths_since_rcnt_il', 'open_acc_6m'], 'application_type': ['dti_joint', 'inc_joint'], 'max_bal_bc': ['mths_since_rcnt_il', 'all_util'], 'total_bal_il': ['open_install_acc', 'il_util'], 'dti_joint': ['application_type', 'inc_joint'], 'inc_joint': ['application_type', 'dti_joint'], 'mths_since_last_record': ['pub_rec'], 'pub_rec': ['mths_since_last_record'], 'revol_bal': ['total_rev_hi_lim'], 'open_acc_6m': ['open_revolving'], 'total_rev_hi_lim': ['revol_bal']}\n"
     ]
    }
   ],
   "source": [
    "corr_list(corr = 0.7, min_corr = 1)"
   ]
  },
  {
   "cell_type": "markdown",
   "metadata": {},
   "source": [
    "Criteria for choosing collinear features\n",
    " - features that have default values of 0 are better than features with undefined values.\n",
    " - dollar amounts over number of accounts. They give more information and once they are properly scaled they will be more useful.\n",
    " - The more information the variable contains the better.\n",
    " - Synthesized features are better than original features.\n",
    " \n",
    "il util\n",
    "max_bal_bc\n",
    "total_rev_hi_lim\n"
   ]
  },
  {
   "cell_type": "code",
   "execution_count": 507,
   "metadata": {},
   "outputs": [],
   "source": [
    "X_scaled.drop(['mths_since_rcnt_il', 'all_util', 'open_install_acc', 'open_revolving',\n",
    "               'total_bal_il', 'inc_joint', 'application_type'], axis = 1, inplace = True)"
   ]
  },
  {
   "cell_type": "code",
   "execution_count": 508,
   "metadata": {},
   "outputs": [
    {
     "data": {
      "image/png": "[encoded data removed]",
      "text/plain": [
       "<Figure size 1200x800 with 2 Axes>"
      ]
     },
     "metadata": {},
     "output_type": "display_data"
    }
   ],
   "source": [
    "zero_diagonal_heatmap(X_scaled)"
   ]
  },
  {
   "cell_type": "code",
   "execution_count": 509,
   "metadata": {},
   "outputs": [
    {
     "name": "stdout",
     "output_type": "stream",
     "text": [
      "{'total_rev_hi_lim': 1, 'mths_since_last_record': 1, 'revol_bal': 1, 'pub_rec': 1}\n"
     ]
    }
   ],
   "source": [
    "corr_dict(X_scaled)"
   ]
  },
  {
   "cell_type": "code",
   "execution_count": 510,
   "metadata": {},
   "outputs": [
    {
     "name": "stdout",
     "output_type": "stream",
     "text": [
      "{'total_rev_hi_lim': ['revol_bal'], 'mths_since_last_record': ['pub_rec'], 'revol_bal': ['total_rev_hi_lim'], 'pub_rec': ['mths_since_last_record']}\n"
     ]
    }
   ],
   "source": [
    "corr_list(corr = 0.7, min_corr = 1)"
   ]
  },
  {
   "cell_type": "code",
   "execution_count": 511,
   "metadata": {},
   "outputs": [],
   "source": [
    "X_scaled.drop(['mths_since_last_record', 'total_rev_hi_lim'], axis = 1, inplace = True)"
   ]
  },
  {
   "attachments": {},
   "cell_type": "markdown",
   "metadata": {},
   "source": [
    "To make sure that I had fully eliminated the multicollinearity I calculated every remaining feature’s Variance Inflation Factor (VIF). The formula for VIF is:\n",
    "$$VIF=\\frac{1}{1-R^2}$$                                                  \n",
    "Where ${R^2}$ is the R-squared value that represents correlations.   "
   ]
  },
  {
   "cell_type": "code",
   "execution_count": 512,
   "metadata": {},
   "outputs": [],
   "source": [
    "# Create vif function with a dataframe as the argument\n",
    "def vif(dfx):\n",
    "    #calculate the vif for the dataframe to see if it is non collinear\n",
    "    vifs = [variance_inflation_factor(dfx.values, i) for i in range(dfx.shape[1])]\n",
    "    # Put those numbers into a dictionary\n",
    "    vif_dict = {dfx.columns[i]:vifs[i] for i in range(dfx.shape[1])}\n",
    "    # Create a filtered dictionary to find out how many features have a VIF under 2.5\n",
    "    filtered_dict = {k: v for k, v in vif_dict.items() if v < 2.5}\n",
    "    # Print the amount of columns that aren't collinear out of all the columns\n",
    "    print(f\"{len(filtered_dict)} out of {len(dfx.columns)} features have a vif < 2.5\")\n",
    "    # Create a sorted dictionary based on the values\n",
    "    vif_dict = {k:v for k, v in sorted(vif_dict.items(), key=lambda item: item[1], reverse = True)}\n",
    "    # Print the result\n",
    "    print(vif_dict)"
   ]
  },
  {
   "cell_type": "code",
   "execution_count": 513,
   "metadata": {},
   "outputs": [
    {
     "name": "stdout",
     "output_type": "stream",
     "text": [
      "{'il_util': 2, 'inq_last_12m': 1, 'purpose_debt_consolidation': 1, 'purpose_credit_card': 1, 'open_acc_6m': 1, 'max_bal_bc': 1, 'total_acc': 1, 'inq_fi': 1, 'open_acc': 1}\n"
     ]
    }
   ],
   "source": [
    "corr_dict(X_scaled, corr = .6)"
   ]
  },
  {
   "cell_type": "code",
   "execution_count": 514,
   "metadata": {},
   "outputs": [
    {
     "name": "stdout",
     "output_type": "stream",
     "text": [
      "{'il_util': ['open_acc_6m', 'max_bal_bc'], 'inq_last_12m': ['inq_fi'], 'purpose_debt_consolidation': ['purpose_credit_card'], 'purpose_credit_card': ['purpose_debt_consolidation'], 'open_acc_6m': ['il_util'], 'max_bal_bc': ['il_util'], 'total_acc': ['open_acc'], 'inq_fi': ['inq_last_12m'], 'open_acc': ['total_acc']}\n"
     ]
    }
   ],
   "source": [
    "corr_list(corr= .6, min_corr = 1)"
   ]
  },
  {
   "cell_type": "code",
   "execution_count": 515,
   "metadata": {},
   "outputs": [],
   "source": [
    "X_scaled.drop(['emp_type_other'], axis = 1, inplace = True)"
   ]
  },
  {
   "cell_type": "code",
   "execution_count": 516,
   "metadata": {},
   "outputs": [],
   "source": [
    "#vif(X_scaled)"
   ]
  },
  {
   "cell_type": "code",
   "execution_count": 517,
   "metadata": {},
   "outputs": [],
   "source": [
    "X_scaled.drop(['open_acc_6m', 'inq_last_12m', \n",
    "                   'purpose_credit_card', 'purpose_debt_consolidation',\n",
    "                   'open_acc'], axis = 1, inplace = True)"
   ]
  },
  {
   "cell_type": "code",
   "execution_count": 518,
   "metadata": {},
   "outputs": [],
   "source": [
    "#vif(X_scaled)"
   ]
  },
  {
   "cell_type": "code",
   "execution_count": 519,
   "metadata": {},
   "outputs": [],
   "source": [
    "y_binary = np.where(y['loan_status'].isin(['Fully Paid', 'Current', 'Issued']), 1, 0)"
   ]
  },
  {
   "attachments": {},
   "cell_type": "markdown",
   "metadata": {},
   "source": [
    "## <center> **Lasso Regularization**\n",
    "\n",
    "Lasso Regularization is a technique for variable selection that uses regression to evaluate the effect that features have on a target variable. The idea is to add a penalty term that contains the coefficient or slope of the variables with respect to the target variable multiplied by parameter. \n",
    "\\begin{equation}\n",
    "Loss(β_1,...β_n) = SSD + \\alpha|β| \\nonumber\n",
    "\\end{equation}\n",
    "Where $\\beta$ is the coefficient of the feature, SSD is the sum of squared distances of the point to the regression line and $\\alpha$ is the penalty’s parameter. If there is more than a single feature, then we can sum the coefficients:\n",
    "\\begin{equation}\n",
    "Loss(β_1,...β_n) = SSD + \\alpha* \\sum_{i=1}^{n}|β_i| \\nonumber\n",
    "\\end{equation}\n",
    "Lasso aims to reduce the loss in equation (3). If a feature is not important, then changing its slope will not move the regression line close enough to the data points to decrease the loss function with a non-zero value. If a feature is important, the regression line will move towards the data and minimize the SSD faster than it increases the penalty term. Since only features with non-zero coefficients are meaningful, I can discard all the features with a coefficient of zero. \n",
    "\n",
    "\n",
    "\n",
    "First we will run a gridsearch to find the best value of $\\alpha$, and then we will use the coeffecients from that value of $\\alpha$ to determine which features stay in the model."
   ]
  },
  {
   "cell_type": "code",
   "execution_count": null,
   "metadata": {},
   "outputs": [],
   "source": [
    "# Create Lasso model\n",
    "lasso = Lasso(max_iter = 50000)\n",
    "\n",
    "# Define hyperparameter grid with a value less than 00.5 since that was the be\n",
    "params = {'alpha': np.linspace(.001, .01, 20)}\n",
    "\n",
    "# Perform grid search\n",
    "grid_search = GridSearchCV(estimator=lasso, param_grid=params, cv=8)\n",
    "\n",
    "# fit the gridsearch of parameters to the data\n",
    "grid_search.fit(X_scaled, y_binary)\n",
    "\n",
    "# Print best hyperparameters\n",
    "print(\"Best hyperparameters: \", grid_search.best_params_)\n"
   ]
  },
  {
   "cell_type": "code",
   "execution_count": 521,
   "metadata": {},
   "outputs": [
    {
     "name": "stdout",
     "output_type": "stream",
     "text": [
      "{'loan_amnt': -0.010297078265800844, 'term': 0.0029262507703593774, 'grade': 0.0381245589316972, 'annual_inc': 0.0022522527260708143, 'pymnt_plan': -0.00023163668472485477, 'inq_last_6mths': -0.016667235495159388, 'pub_rec': 0.0032514093959108694, 'revol_bal': 0.0002037737086549175, 'revol_util': -0.004905436611353703, 'total_acc': -0.0015872680380162453, 'initial_list_status': 0.010974925979647967, 'last_pymnt_amnt': 0.044277291732042215, 'last_credit_pull_d': 0.051620681678357275, 'collections_12_mths_ex_med': 0.0004566189821833218, 'mths_since_last_major_derog': -0.003095012518302666, 'dti_joint': 0.0007612702091455136, 'tot_cur_bal': 0.0020322594909179957, 'il_util': 0.0061316533568231205, 'max_bal_bc': 0.0016672849355865377, 'inq_fi': 0.0011699326151692136, 'home_ownership_OTHER': -8.956824434294047e-05, 'home_ownership_RENT': -0.0036259639216831875, 'verification_status_Source Verified': 0.0006692886054423239, 'verification_status_Verified': -0.0028376808094429306, 'purpose_major_purchase': 0.0005624974359401016, 'purpose_other': 0.00019942112502544033, 'purpose_small_business': -0.0026316568550304948, 'purpose_wedding': 0.000842725281666184, 'emp_type_Accountant': 0.0015029407676743927, 'emp_type_Admin': 0.0011716708126684708, 'emp_type_Analyst': 0.0021417326697774517, 'emp_type_Assistant': 0.0017632984056406514, 'emp_type_Clergy': 0.0003939456763909534, 'emp_type_Clerk': 0.0004003518608850809, 'emp_type_Designer': 0.00012746907753000036, 'emp_type_Director': 0.0033486961362604296, 'emp_type_Education': 0.0020266341566368934, 'emp_type_Executive': 0.002913269423691991, 'emp_type_Healer': 0.0018922768678133262, 'emp_type_Manager': 0.005874331903578924, 'emp_type_Operator': 0.00031939936163918425, 'emp_type_Technical': 0.001798771230373954, 'emp_type_Vol': 0.0013927866088564384}\n",
      "43\n"
     ]
    }
   ],
   "source": [
    "# Find the coefficients of lasso regularization\n",
    "lasso = Lasso(alpha = .001)\n",
    "# Fit the lasso regularization to the data \n",
    "lasso.fit(X_scaled, y_binary)\n",
    "# Create a dictionary of all the features and their corresponding lasso coefficients\n",
    "lasso_dict = {X_scaled.columns[i]:lasso.coef_[i] for i in range(len(X_scaled.columns)) if list(lasso.coef_)[i] != 0}\n",
    "# Create a list of all the features that don't have a lasso coefficient of zero\n",
    "lasso_features = [X_scaled.columns[i] for i in range(len(X_scaled.columns)) if list(lasso.coef_)[i] != 0]\n",
    "# Print the features and coefficients\n",
    "print(lasso_dict)\n",
    "# Print the number of features are left from lasso\n",
    "print(len(lasso_dict))"
   ]
  },
  {
   "cell_type": "code",
   "execution_count": 524,
   "metadata": {},
   "outputs": [
    {
     "data": {
      "text/plain": [
       "array([-2.39568056e-02,  4.17417921e+01])"
      ]
     },
     "execution_count": 524,
     "metadata": {},
     "output_type": "execute_result"
    }
   ],
   "source": [
    "X_scaled['dti_joint'].unique()"
   ]
  },
  {
   "cell_type": "code",
   "execution_count": 522,
   "metadata": {},
   "outputs": [],
   "source": [
    "df = X_scaled[lasso_dict.keys()]"
   ]
  },
  {
   "cell_type": "code",
   "execution_count": 523,
   "metadata": {},
   "outputs": [],
   "source": [
    "df.to_csv('./data/interim/wrangled', index = False)"
   ]
  }
 ],
 "metadata": {
  "kernelspec": {
   "display_name": "Capstone-3",
   "language": "python",
   "name": "python3"
  },
  "language_info": {
   "codemirror_mode": {
    "name": "ipython",
    "version": 3
   },
   "file_extension": ".py",
   "mimetype": "text/x-python",
   "name": "python",
   "nbconvert_exporter": "python",
   "pygments_lexer": "ipython3",
   "version": "3.10.11"
  },
  "orig_nbformat": 4
 },
 "nbformat": 4,
 "nbformat_minor": 2
}
