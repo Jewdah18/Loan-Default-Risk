{
 "cells": [
  {
   "cell_type": "markdown",
   "metadata": {},
   "source": [
    "# **<center>Preprocessing**\n",
    "\n",
    "### Import Packages"
   ]
  },
  {
   "cell_type": "code",
   "execution_count": 47,
   "metadata": {},
   "outputs": [],
   "source": [
    "import os\n",
    "from dotenv import load_dotenv\n",
    "\n",
    "import pandas as pd\n",
    "import numpy as np\n",
    "\n",
    "import datetime as dt\n",
    "from tqdm import tqdm"
   ]
  },
  {
   "cell_type": "markdown",
   "metadata": {},
   "source": [
    "### Set Directory and Preferences"
   ]
  },
  {
   "cell_type": "code",
   "execution_count": 48,
   "metadata": {},
   "outputs": [],
   "source": [
    "# Load in the dotenv variables\n",
    "load_dotenv()\n",
    "\n",
    "# Grab the project path from the dotenv file without the addons\n",
    "project_path = os.getenv('Project_Path')[2:78]\n",
    "\n",
    "# Change notebook directory back one so that it can acess the data\n",
    "os.chdir(project_path)\n",
    "\n",
    "# Show all the columns in the .head() method\n",
    "pd.set_option('display.max_columns', None)"
   ]
  },
  {
   "cell_type": "markdown",
   "metadata": {},
   "source": [
    "### Load the Data"
   ]
  },
  {
   "cell_type": "code",
   "execution_count": 49,
   "metadata": {},
   "outputs": [],
   "source": [
    "# Load the cleaned data from data wrangling\n",
    "data = pd.read_csv('./data/interim/wrangled', low_memory = False)\n",
    "# Load in the loan_status column for use\n",
    "loan = pd.read_csv('./data/raw/loan.csv',low_memory = False)\n",
    "# Load the original dataset to get the accurate representation\n",
    "y = loan['loan_status']"
   ]
  },
  {
   "cell_type": "markdown",
   "metadata": {},
   "source": [
    "### Split the data\n",
    "\n",
    "Only a part of the dataset has loans that have finished. I can separate out the finished loans from the unfinished loans by the `loan_status` column that describes the current state of the loan."
   ]
  },
  {
   "cell_type": "code",
   "execution_count": 50,
   "metadata": {},
   "outputs": [],
   "source": [
    "data['completed'] = np.where(y.isin(['Fully Paid', 'Charged Off',\n",
    "                                     'Does not meet the credit policy. Status:Fully Paid',\n",
    "                                     'Does not meet the credit policy. Status:Charged Off']), 1, 0)\n",
    "loan['completed'] = data['completed']"
   ]
  },
  {
   "cell_type": "markdown",
   "metadata": {},
   "source": [
    "While the dataset that I'm going to used has been fully cleaned, I need to use the unscaled numbers from the original dataset to calculate certain values."
   ]
  },
  {
   "cell_type": "code",
   "execution_count": 51,
   "metadata": {},
   "outputs": [],
   "source": [
    "# replace the string values with numerical values, use a dictionary to be concise\n",
    "loan['term'].replace({' 36 months':3, ' 60 months':5}, inplace = True)"
   ]
  },
  {
   "cell_type": "markdown",
   "metadata": {},
   "source": [
    "Now I can split both the wrangled and original data into finished and active datasets. I use the `.copy()` to avoid the copy setting warning."
   ]
  },
  {
   "cell_type": "code",
   "execution_count": 66,
   "metadata": {},
   "outputs": [],
   "source": [
    "# Create a dataframe of finished loans that are a copy\n",
    "finished = data.loc[data['completed'] == 1, :'addr_state_VA'].copy()\n",
    "# Create a dataframe of the still active loans are a copy\n",
    "active = data.loc[data['completed'] == 0, :'addr_state_VA'].copy()\n",
    "\n",
    "# Create a dataframe of the finished loans for the original data as a copy\n",
    "finished_loan = loan.loc[loan['completed'] == 1, :].copy()\n",
    "# Create a dataframe of active loans for the original data as a copy\n",
    "active_loan = loan.loc[loan['completed'] == 0, :].copy()"
   ]
  },
  {
   "cell_type": "markdown",
   "metadata": {},
   "source": [
    "## Calculating 'frac'\n",
    "\n",
    "Originally I had thought that `loan_status` was the target variable but the active loans had too much information that came after the time of origination. I pivotted to trying find the amount that the loans are worth for active loans. To do this I can calculate the expected return on each loan from lending club. Lending club does not compound interest for its loans so the formula is:\n",
    "$$ \\text{Expected Payment} = Principal * (1 + \\text{Interest Rate}) * years $$\n",
    "\n",
    "I can then calculate the amount that has been paid back by this formula:\n",
    "$$ \\text{Actual Payment} = \\text{Total Payment} + \\text{Total Late Fees} + \\text{Recoveries} $$\n",
    "Where `Total Payment` is the amount that has been payed back from the loan, `Total Late fees` are the late fees that the borrower would have incurred if they were late with a fee. `Recoverie`s is everything that that the company was able to recover after the loan was charged off.\n",
    "\n",
    "`frac` is the fraction in which \n",
    "$$ \\text{frac} = \\frac{\\text{Actual Payment}}{\\text{Expected Payment}}\n"
   ]
  },
  {
   "cell_type": "code",
   "execution_count": 67,
   "metadata": {},
   "outputs": [],
   "source": [
    "finished_loan['int_rate_usable'] = finished_loan['int_rate'] / 100 + 1\n",
    "\n",
    "finished['$_expected'] = finished_loan['funded_amnt'] * finished_loan['int_rate'] * finished_loan['term']\n",
    "\n",
    "finished['$_actual'] = finished_loan[['total_pymnt', 'total_rec_late_fee', 'total_rec'\n",
    "                                      'recoveries']].sum(axis = 1) \n",
    "\n",
    "finished['frac'] = finished['$_actual'] / finished['$_expected']\n",
    "\n",
    "finished.drop(['$_expected','$_actual'], axis = 1, inplace = True)"
   ]
  },
  {
   "cell_type": "markdown",
   "metadata": {},
   "source": [
    "The active loans are slightly different in that the expected payment is what is remaining on the loan instead of the entire loan. To calculate this I did:\n",
    "$$ \\text{Expected Payment} = Principal * (1 + \\text{Interest Rate}) * years - \\text{Actual Payment} $$\n",
    "Where `Actual Payment' is the same as the cell above. The idea is that the expected payment is the entire loan's expected value minus the money that the borrower has already paid. \n"
   ]
  },
  {
   "cell_type": "code",
   "execution_count": 77,
   "metadata": {},
   "outputs": [],
   "source": [
    "active_loan['int_rate_usable'] = active_loan['int_rate'] / 100 + 1\n",
    "\n",
    "active['$_expected'] = active_loan['funded_amnt'] * active_loan['int_rate'] * active_loan['term'] - active_loan['total_pymnt']\n",
    "\n",
    "active.drop('int_rate_usable', axis = 1, inplace = True)"
   ]
  },
  {
   "cell_type": "markdown",
   "metadata": {},
   "source": [
    "With the `frac` column added, I can now save the datasets for modelling."
   ]
  },
  {
   "cell_type": "code",
   "execution_count": 81,
   "metadata": {},
   "outputs": [],
   "source": [
    "finished.to_csv('./data/processed/train.csv', index = False)\n",
    "\n",
    "active.to_csv('./data/processed/predict.csv', index = False)"
   ]
  }
 ],
 "metadata": {
  "kernelspec": {
   "display_name": "Capstone-3",
   "language": "python",
   "name": "python3"
  },
  "language_info": {
   "codemirror_mode": {
    "name": "ipython",
    "version": 3
   },
   "file_extension": ".py",
   "mimetype": "text/x-python",
   "name": "python",
   "nbconvert_exporter": "python",
   "pygments_lexer": "ipython3",
   "version": "3.10.11"
  },
  "orig_nbformat": 4
 },
 "nbformat": 4,
 "nbformat_minor": 2
}
