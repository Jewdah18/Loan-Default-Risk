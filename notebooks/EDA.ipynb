{
 "cells": [
  {
   "cell_type": "markdown",
   "metadata": {},
   "source": [
    "# **<center>EDA**"
   ]
  },
  {
   "cell_type": "code",
   "execution_count": 5,
   "metadata": {},
   "outputs": [],
   "source": [
    "import os\n",
    "\n",
    "import numpy as np\n",
    "import pandas as pd\n",
    "\n",
    "import matplotlib.pyplot as plt\n",
    "import seaborn as sns\n",
    "\n",
    "from minisom import MiniSom\n",
    "\n",
    "from tqdm import tqdm"
   ]
  },
  {
   "cell_type": "code",
   "execution_count": 6,
   "metadata": {},
   "outputs": [],
   "source": [
    "plt.style.use('dark_background')"
   ]
  },
  {
   "cell_type": "code",
   "execution_count": 7,
   "metadata": {},
   "outputs": [],
   "source": [
    "os.chdir('..')"
   ]
  },
  {
   "cell_type": "code",
   "execution_count": null,
   "metadata": {},
   "outputs": [],
   "source": [
    "data = pd.read_csv('./data/interim/wrangled', low_memory = False)\n",
    "y = pd.read_csv('./data/raw/loan.csv',low_memory = False)['loan_status']"
   ]
  },
  {
   "cell_type": "code",
   "execution_count": null,
   "metadata": {},
   "outputs": [
    {
     "data": {
      "text/html": [
       "<div>\n",
       "<style scoped>\n",
       "    .dataframe tbody tr th:only-of-type {\n",
       "        vertical-align: middle;\n",
       "    }\n",
       "\n",
       "    .dataframe tbody tr th {\n",
       "        vertical-align: top;\n",
       "    }\n",
       "\n",
       "    .dataframe thead th {\n",
       "        text-align: right;\n",
       "    }\n",
       "</style>\n",
       "<table border=\"1\" class=\"dataframe\">\n",
       "  <thead>\n",
       "    <tr style=\"text-align: right;\">\n",
       "      <th></th>\n",
       "      <th>Unnamed: 0</th>\n",
       "      <th>emp_length</th>\n",
       "      <th>annual_inc</th>\n",
       "      <th>delinq_2yrs</th>\n",
       "      <th>inq_last_6mths</th>\n",
       "      <th>pub_rec</th>\n",
       "      <th>revol_bal</th>\n",
       "      <th>initial_list_status</th>\n",
       "      <th>last_pymnt_amnt</th>\n",
       "      <th>tot_coll_amt</th>\n",
       "      <th>tot_cur_bal</th>\n",
       "      <th>il_util</th>\n",
       "      <th>max_bal_bc</th>\n",
       "      <th>home_ownership_RENT</th>\n",
       "      <th>verification_status_Verified</th>\n",
       "      <th>purpose_small_business</th>\n",
       "      <th>emp_type_Manager</th>\n",
       "      <th>reason_Debt Consolidation</th>\n",
       "    </tr>\n",
       "  </thead>\n",
       "  <tbody>\n",
       "    <tr>\n",
       "      <th>0</th>\n",
       "      <td>0</td>\n",
       "      <td>10.0</td>\n",
       "      <td>24000.0</td>\n",
       "      <td>0.0</td>\n",
       "      <td>1.0</td>\n",
       "      <td>0.0</td>\n",
       "      <td>13648.0</td>\n",
       "      <td>0</td>\n",
       "      <td>171.62</td>\n",
       "      <td>0.0</td>\n",
       "      <td>0.0</td>\n",
       "      <td>0.0</td>\n",
       "      <td>0.0</td>\n",
       "      <td>1</td>\n",
       "      <td>1</td>\n",
       "      <td>0</td>\n",
       "      <td>0</td>\n",
       "      <td>0</td>\n",
       "    </tr>\n",
       "    <tr>\n",
       "      <th>1</th>\n",
       "      <td>1</td>\n",
       "      <td>0.5</td>\n",
       "      <td>30000.0</td>\n",
       "      <td>0.0</td>\n",
       "      <td>5.0</td>\n",
       "      <td>0.0</td>\n",
       "      <td>1687.0</td>\n",
       "      <td>0</td>\n",
       "      <td>119.66</td>\n",
       "      <td>0.0</td>\n",
       "      <td>0.0</td>\n",
       "      <td>0.0</td>\n",
       "      <td>0.0</td>\n",
       "      <td>1</td>\n",
       "      <td>0</td>\n",
       "      <td>0</td>\n",
       "      <td>0</td>\n",
       "      <td>0</td>\n",
       "    </tr>\n",
       "    <tr>\n",
       "      <th>2</th>\n",
       "      <td>2</td>\n",
       "      <td>10.0</td>\n",
       "      <td>12252.0</td>\n",
       "      <td>0.0</td>\n",
       "      <td>2.0</td>\n",
       "      <td>0.0</td>\n",
       "      <td>2956.0</td>\n",
       "      <td>0</td>\n",
       "      <td>649.91</td>\n",
       "      <td>0.0</td>\n",
       "      <td>0.0</td>\n",
       "      <td>0.0</td>\n",
       "      <td>0.0</td>\n",
       "      <td>1</td>\n",
       "      <td>0</td>\n",
       "      <td>1</td>\n",
       "      <td>0</td>\n",
       "      <td>0</td>\n",
       "    </tr>\n",
       "  </tbody>\n",
       "</table>\n",
       "</div>"
      ],
      "text/plain": [
       "   Unnamed: 0  emp_length  annual_inc  delinq_2yrs  inq_last_6mths  pub_rec  \\\n",
       "0           0        10.0     24000.0          0.0             1.0      0.0   \n",
       "1           1         0.5     30000.0          0.0             5.0      0.0   \n",
       "2           2        10.0     12252.0          0.0             2.0      0.0   \n",
       "\n",
       "   revol_bal  initial_list_status  last_pymnt_amnt  tot_coll_amt  tot_cur_bal  \\\n",
       "0    13648.0                    0           171.62           0.0          0.0   \n",
       "1     1687.0                    0           119.66           0.0          0.0   \n",
       "2     2956.0                    0           649.91           0.0          0.0   \n",
       "\n",
       "   il_util  max_bal_bc  home_ownership_RENT  verification_status_Verified  \\\n",
       "0      0.0         0.0                    1                             1   \n",
       "1      0.0         0.0                    1                             0   \n",
       "2      0.0         0.0                    1                             0   \n",
       "\n",
       "   purpose_small_business  emp_type_Manager  reason_Debt Consolidation  \n",
       "0                       0                 0                          0  \n",
       "1                       0                 0                          0  \n",
       "2                       1                 0                          0  "
      ]
     },
     "execution_count": 7,
     "metadata": {},
     "output_type": "execute_result"
    }
   ],
   "source": [
    "data.head(3)"
   ]
  },
  {
   "cell_type": "markdown",
   "metadata": {},
   "source": [
    "## **Basic Analysis**\n",
    "\n",
    "While it may be possible to intuit many of the column names from the dataset it is important to define all of these columns.\n",
    "\n",
    "- emp_length: The number of years that the borrower has been employed. 10 is the maximum even for values over 10\n",
    "- annual_inc: The income of the borrower per year. This also includes joint income if the borrower has another person that is contributing to the application\n",
    "- delinq_2yrs: The number of deliquencies the borrower has had in the last 2 years.\n",
    "- inq_last_6mths: The number of inquiries in the last 6 months excluding auto and mortgage inquiries.\n",
    "- pub_rec: The number of derogatory public records that the borrower has\n",
    "- revol_bal: Total balance for the borrower's revolving credit line\n",
    "- initial_list_status: The type of loan that it is values are 0 and 1\n",
    "- last_pymnt_amnt: The amount that the borrower paid the last time a payment was made.\n",
    "- tot_coll_amt: Total collection amounts ever owed\n",
    "- tot_cur_bal: Total current balance of all accounts\n",
    "- il_util: Ratio of tot_cur_bal to the credit limit on installment accounts\n",
    "- max_bal_bc: Maximum balance owed on all revolving accounts \n",
    "- home_ownership_RENT: Dummy variable from home ownership that is 1 when the borrower is renting\n",
    "- verification_status_Verified: dummy variable for verification status. Determines if the income was verified by lending club\n",
    "- purpose_small_business: Dummy variable. 1 if the reason the borrower took out the loan was for their small business.\n",
    "- emp_type_Manager: 1 if the profession that the borrower had was a manager. I may have missed some if their description was vague\n",
    "- reason_Debt_Consolidation: dummy variable that determines if the reason that the borrower has requested the loan is to try to clean up their debts. Presumably this person is in a different situation from someone that is taking on a new project and is going into debt for the first time.\n"
   ]
  },
  {
   "cell_type": "code",
   "execution_count": 16,
   "metadata": {},
   "outputs": [
    {
     "name": "stdout",
     "output_type": "stream",
     "text": [
      "- Fully Paid\n",
      "- Charged Off\n",
      "- Current\n",
      "- Default\n",
      "- Late (31-120 days)\n",
      "- In Grace Period\n",
      "- Late (16-30 days)\n",
      "- Does not meet the credit policy. Status:Fully Paid\n",
      "- Does not meet the credit policy. Status:Charged Off\n",
      "- Issued\n"
     ]
    }
   ],
   "source": [
    "# Create a loop over all the different attack types\n",
    "for type in y.unique():\n",
    "    # Print out the attack types in bullet format to make the next section easier\n",
    "    print(f\"- {type}\")"
   ]
  },
  {
   "cell_type": "markdown",
   "metadata": {},
   "source": [
    "- **Fully Paid:** The loan has be fully repaid on time in its entirety\n",
    "- **Charged Off:** The loan has not been fully repaid and has been written off as not fully recoverable\n",
    "- **Current:** The borrower is up to date on all the payments but the term of the loan has not expired and there are payments remaining\n",
    "- **Default:** The late period has passed and lending club has started the process of charging off the loan\n",
    "- **Late (31-120 days):** The borrower is late on a payment by 31-121 days\n",
    "- **In Grace Period:** The borrower is within the grace period of p\n",
    "- **Late (16-30 days):** The borrower is late on their payment by 16-30 days \n",
    "- **Does not meet the credit policy. Status:Fully Paid:** Lending club has a standard for credit scores that its applicants must meet. If they don't they cannot continue the loan. These borrowers did not have a high enough credit but still managed to fully pay back their loan.\n",
    "- **Does not meet the credit policy. Status:Charged Off:** Similar to the above borrowers these people did not meet the minimum credit requirements. Unfortunately they were not able to pay back their loan and the loan was charged off\n",
    "- **Issued:** The Loan has been issued but no payments have been made yet."
   ]
  },
  {
   "cell_type": "code",
   "execution_count": null,
   "metadata": {},
   "outputs": [],
   "source": []
  }
 ],
 "metadata": {
  "kernelspec": {
   "display_name": "Capstone-3",
   "language": "python",
   "name": "python3"
  },
  "language_info": {
   "codemirror_mode": {
    "name": "ipython",
    "version": 3
   },
   "file_extension": ".py",
   "mimetype": "text/x-python",
   "name": "python",
   "nbconvert_exporter": "python",
   "pygments_lexer": "ipython3",
   "version": "3.10.11"
  },
  "orig_nbformat": 4
 },
 "nbformat": 4,
 "nbformat_minor": 2
}
